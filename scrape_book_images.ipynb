{
 "cells": [
  {
   "cell_type": "code",
   "execution_count": 4,
   "metadata": {},
   "outputs": [],
   "source": [
    "import aiohttp\n",
    "import os\n",
    "from pathlib import Path\n",
    "import pandas as pd\n",
    "import utils\n",
    "import asyncio\n",
    "import math"
   ]
  },
  {
   "cell_type": "code",
   "execution_count": 5,
   "metadata": {},
   "outputs": [],
   "source": [
    "try:\n",
    "    os.mkdir(utils.DATASETS_AMAZON_IMAGES_PATH)\n",
    "except:\n",
    "    pass"
   ]
  },
  {
   "cell_type": "code",
   "execution_count": 6,
   "metadata": {},
   "outputs": [],
   "source": [
    "df = pd.read_csv(Path('datasets/amazon/books_data_reordered.csv'), usecols=['Title', 'image'])\n",
    "df = df[df['image'].isna() == False]"
   ]
  },
  {
   "cell_type": "code",
   "execution_count": 7,
   "metadata": {},
   "outputs": [],
   "source": [
    "async def load__and_save_img(arr, session):\n",
    "    title, image_url = arr\n",
    "    title_path = utils.convert_str_to_datasets_amazon_images_path(title)\n",
    "    # is_file checks if file exists\n",
    "    if title_path.is_file() == True:\n",
    "        return\n",
    "    async with session.get(image_url) as response:\n",
    "        content = await response.read()\n",
    "        print(content)\n",
    "    # if response.status == 200:\n",
    "    #     with open(title_path, 'wb') as file:\n",
    "    #         file.write(content)\n",
    "    # else:\n",
    "    #     print(f'Status code : {response.status}')\n",
    "    #     raise Exception()"
   ]
  },
  {
   "cell_type": "code",
   "execution_count": 8,
   "metadata": {},
   "outputs": [],
   "source": [
    "async def save_images(start, count, session):\n",
    "    _ = [await load__and_save_img(row, session) for row in df.values[start:start + count]]"
   ]
  },
  {
   "cell_type": "code",
   "execution_count": null,
   "metadata": {},
   "outputs": [],
   "source": [
    "async def run_tasks():\n",
    "    batch_size = 3\n",
    "    end = math.ceil(df.shape[0] / batch_size)\n",
    "    async with aiohttp.ClientSession() as session:\n",
    "        tasks = [save_images(i * batch_size, batch_size, session) for i in range(5)]\n",
    "        results = await asyncio.gather(*tasks)\n",
    "        return results\n",
    "\n",
    "await run_tasks()"
   ]
  },
  {
   "cell_type": "code",
   "execution_count": null,
   "metadata": {},
   "outputs": [],
   "source": []
  }
 ],
 "metadata": {
  "kernelspec": {
   "display_name": "env",
   "language": "python",
   "name": "python3"
  },
  "language_info": {
   "codemirror_mode": {
    "name": "ipython",
    "version": 3
   },
   "file_extension": ".py",
   "mimetype": "text/x-python",
   "name": "python",
   "nbconvert_exporter": "python",
   "pygments_lexer": "ipython3",
   "version": "3.10.15"
  }
 },
 "nbformat": 4,
 "nbformat_minor": 2
}

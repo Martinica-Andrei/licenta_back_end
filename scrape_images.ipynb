{
 "cells": [
  {
   "cell_type": "code",
   "execution_count": 1,
   "metadata": {},
   "outputs": [],
   "source": [
    "import aiohttp\n",
    "from pathlib import Path\n",
    "import pandas as pd\n",
    "import utils\n",
    "import asyncio\n",
    "import math\n",
    "import utils\n",
    "import numpy as np\n",
    "import os\n",
    "\n",
    "df = pd.read_csv(utils.BOOKS_DATA_BOOKS_PROCESSED)"
   ]
  },
  {
   "cell_type": "code",
   "execution_count": 2,
   "metadata": {},
   "outputs": [],
   "source": [
    "no_photo_link = 'https://s.gr-assets.com/assets/nophoto/book/111x148-bcc042a9c91a29c1d680899eff700a03.png'\n",
    "base_url = 'https://images.gr-assets.com/books/'\n",
    "df['image_url'] = df['image_url'].replace({no_photo_link: np.nan})\n",
    "\n",
    "os.makedirs(utils.BOOKS_DATA_IMAGES, exist_ok=True)"
   ]
  },
  {
   "cell_type": "code",
   "execution_count": 3,
   "metadata": {},
   "outputs": [],
   "source": [
    "async def load_and_save_img(image_url, session):\n",
    "    if image_url is np.nan:\n",
    "        return\n",
    "    filename = image_url.replace(base_url, '').replace('/', '-')\n",
    "    path = utils.BOOKS_DATA_IMAGES / filename\n",
    "    # is_file checks if file exists\n",
    "    if path.is_file() == True:\n",
    "        return\n",
    "    async with session.get(image_url) as response:\n",
    "        content = await response.read()\n",
    "    if response.status == 200:\n",
    "        with open(path, 'wb') as file:\n",
    "            file.write(content)\n",
    "    else:\n",
    "        print(f'Status code : {response.status} for {image_url}')"
   ]
  },
  {
   "cell_type": "code",
   "execution_count": 4,
   "metadata": {},
   "outputs": [],
   "source": [
    "async def save_images(start, count, session, urls):\n",
    "    _ = [await load_and_save_img(url, session) for url in urls[start:start + count]]"
   ]
  },
  {
   "cell_type": "code",
   "execution_count": 5,
   "metadata": {},
   "outputs": [
    {
     "name": "stdout",
     "output_type": "stream",
     "text": [
      "Status code : 403 for https://images.gr-assets.com/books/1491494589m/18484598.jpg\n",
      "Status code : 403 for https://images.gr-assets.com/books/1493667294m/35040602.jpg\n",
      "Status code : 403 for https://images.gr-assets.com/books/1501972305m/35919935.jpg\n"
     ]
    }
   ],
   "source": [
    "async def run_tasks(urls):\n",
    "    batch_size = 100\n",
    "    end = math.ceil(df.shape[0] / batch_size)\n",
    "    async with aiohttp.ClientSession() as session:\n",
    "        tasks = [save_images(i * batch_size, batch_size, session, urls) for i in range(end)]\n",
    "        results = await asyncio.gather(*tasks)\n",
    "        return results\n",
    "\n",
    "_ = await run_tasks(df.image_url)"
   ]
  },
  {
   "cell_type": "code",
   "execution_count": null,
   "metadata": {},
   "outputs": [],
   "source": []
  }
 ],
 "metadata": {
  "kernelspec": {
   "display_name": "env",
   "language": "python",
   "name": "python3"
  },
  "language_info": {
   "codemirror_mode": {
    "name": "ipython",
    "version": 3
   },
   "file_extension": ".py",
   "mimetype": "text/x-python",
   "name": "python",
   "nbconvert_exporter": "python",
   "pygments_lexer": "ipython3",
   "version": "3.10.16"
  }
 },
 "nbformat": 4,
 "nbformat_minor": 2
}

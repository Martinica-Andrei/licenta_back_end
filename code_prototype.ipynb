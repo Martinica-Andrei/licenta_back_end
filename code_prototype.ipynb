{
 "cells": [
  {
   "cell_type": "code",
   "execution_count": 15,
   "metadata": {},
   "outputs": [],
   "source": [
    "import joblib\n",
    "from lightfm import LightFM\n",
    "import numpy as np\n",
    "import pandas as pd\n",
    "from sklearn.neighbors import NearestNeighbors\n",
    "from pathlib import Path\n",
    "import kagglehub\n",
    "import shutil\n",
    "import os"
   ]
  },
  {
   "cell_type": "code",
   "execution_count": 3,
   "metadata": {},
   "outputs": [],
   "source": [
    "model  : LightFM = joblib.load(Path('models/amazon-book-reviews-no-item-features-model.pkl'))"
   ]
  },
  {
   "cell_type": "code",
   "execution_count": 4,
   "metadata": {},
   "outputs": [],
   "source": [
    "bias, components = model.get_item_representations() \n",
    "item_representations = np.concatenate([bias.reshape(-1,1), components], axis=1)"
   ]
  },
  {
   "cell_type": "code",
   "execution_count": 7,
   "metadata": {},
   "outputs": [],
   "source": [
    "neighbors = NearestNeighbors(n_neighbors=10).fit(item_representations)"
   ]
  },
  {
   "cell_type": "code",
   "execution_count": 13,
   "metadata": {},
   "outputs": [
    {
     "data": {
      "text/plain": [
       "array([[     5,      6, 137985, 200474, 106778,  35049,  42526,  86943,\n",
       "        204820,  17609]])"
      ]
     },
     "execution_count": 13,
     "metadata": {},
     "output_type": "execute_result"
    }
   ],
   "source": [
    "distances, indices = neighbors.kneighbors(item_representations[5:6])\n",
    "indices"
   ]
  },
  {
   "cell_type": "code",
   "execution_count": 14,
   "metadata": {},
   "outputs": [
    {
     "data": {
      "text/plain": [
       "array([     5,      6, 137985, 200474, 106778,  35049,  42526,  86943,\n",
       "       204820,  17609])"
      ]
     },
     "execution_count": 14,
     "metadata": {},
     "output_type": "execute_result"
    }
   ],
   "source": [
    "id = 5\n",
    "target_item = item_representations[id]\n",
    "\n",
    "dist = np.array([np.linalg.norm(x - target_item) for x in item_representations])\n",
    "dist_indices_sorted = dist.argsort()\n",
    "dist_indices_sorted[:10]\n",
    "#dist_indices_sorted = dist_indices_sorted[dist_indices_sorted != id]"
   ]
  },
  {
   "cell_type": "code",
   "execution_count": 2,
   "metadata": {},
   "outputs": [],
   "source": [
    "a = pd.read_csv('datasets/amazon/books_data_reordered.csv')\n"
   ]
  },
  {
   "cell_type": "code",
   "execution_count": 11,
   "metadata": {},
   "outputs": [
    {
     "data": {
      "text/plain": [
       "0         [{'Film': 0}, {'technique': 1}, {'and': 2}, {'...\n",
       "1         [{'We': 0}, {'ll': 1}, {'Always': 2}, {'Have':...\n",
       "2         [{'And': 0}, {'Poetry': 1}, {'is': 2}, {'Born'...\n",
       "3         [{'A': 0}, {'Titanic': 1}, {'hero': 2}, {'Thom...\n",
       "4         [{'A': 0}, {'Truthful': 1}, {'Impression': 2},...\n",
       "                                ...                        \n",
       "206706    [{'william': 0}, {'the': 1}, {'vehicle': 2}, {...\n",
       "206707    [{'with': 0}, {'an': 1}, {'everlasting': 2}, {...\n",
       "206708         [{'work': 0}, {'and': 1}, {'Motivation': 2}]\n",
       "206709    [{'www': 0}, {'whitbread': 1}, {'org': 2}, {'b...\n",
       "206710    [{'xBase': 0}, {'Programming': 1}, {'for': 2},...\n",
       "Name: Title, Length: 206711, dtype: object"
      ]
     },
     "execution_count": 11,
     "metadata": {},
     "output_type": "execute_result"
    }
   ],
   "source": [
    "b = a['Title'].str.replace(r'[^A-Za-z0-9_]', ' ', regex=True).str.strip()\n",
    "c = b.str.split(r'\\s+', regex=True)\n",
    "c.map(lambda x : [{x[i] : i} for i in range(len(x))])"
   ]
  },
  {
   "cell_type": "code",
   "execution_count": 8,
   "metadata": {},
   "outputs": [
    {
     "data": {
      "text/plain": [
       "['', 'Film', 'technique', 'and', 'Film', 'acting', '']"
      ]
     },
     "execution_count": 8,
     "metadata": {},
     "output_type": "execute_result"
    }
   ],
   "source": [
    "c.iloc[0]"
   ]
  },
  {
   "cell_type": "code",
   "execution_count": 22,
   "metadata": {},
   "outputs": [],
   "source": [
    "BOOKS_DATA = Path(\"books_data\")\n",
    "\n",
    "path = Path(kagglehub.model_download(\"mrtinicandreimarian/goodreads_no_features/other/default\"))\n",
    "\n",
    "os.makedirs(BOOKS_DATA, exist_ok=True)\n",
    "\n",
    "for file in os.listdir(path):\n",
    "    shutil.move(path / file, BOOKS_DATA)"
   ]
  },
  {
   "cell_type": "code",
   "execution_count": null,
   "metadata": {},
   "outputs": [],
   "source": []
  }
 ],
 "metadata": {
  "kernelspec": {
   "display_name": "env",
   "language": "python",
   "name": "python3"
  },
  "language_info": {
   "codemirror_mode": {
    "name": "ipython",
    "version": 3
   },
   "file_extension": ".py",
   "mimetype": "text/x-python",
   "name": "python",
   "nbconvert_exporter": "python",
   "pygments_lexer": "ipython3",
   "version": "3.10.15"
  }
 },
 "nbformat": 4,
 "nbformat_minor": 2
}

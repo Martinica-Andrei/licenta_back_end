{
 "cells": [
  {
   "cell_type": "code",
   "execution_count": 1,
   "metadata": {},
   "outputs": [
    {
     "name": "stderr",
     "output_type": "stream",
     "text": [
      "/home/andrei/projects/main_projects/models-backend/env/lib/python3.10/site-packages/tqdm/auto.py:21: TqdmWarning: IProgress not found. Please update jupyter and ipywidgets. See https://ipywidgets.readthedocs.io/en/stable/user_install.html\n",
      "  from .autonotebook import tqdm as notebook_tqdm\n"
     ]
    }
   ],
   "source": [
    "import joblib\n",
    "from lightfm import LightFM\n",
    "import numpy as np\n",
    "import pandas as pd\n",
    "from sklearn.neighbors import NearestNeighbors\n",
    "from pathlib import Path\n",
    "import kagglehub\n",
    "import shutil\n",
    "import os\n",
    "from utils import BOOKS_DATA\n",
    "import utils\n",
    "from scipy.sparse import load_npz"
   ]
  },
  {
   "cell_type": "code",
   "execution_count": 2,
   "metadata": {},
   "outputs": [],
   "source": [
    "df = pd.read_csv(utils.BOOKS_DATA_BOOKS_PROCESSED)"
   ]
  },
  {
   "cell_type": "code",
   "execution_count": 3,
   "metadata": {},
   "outputs": [
    {
     "data": {
      "text/plain": [
       "<Compressed Sparse Row sparse matrix of dtype 'int64'\n",
       "\twith 2805062 stored elements and shape (224512, 59134)>"
      ]
     },
     "execution_count": 3,
     "metadata": {},
     "output_type": "execute_result"
    }
   ],
   "source": [
    "y = load_npz(utils.BOOKS_DATA_Y)\n",
    "y"
   ]
  },
  {
   "cell_type": "code",
   "execution_count": 10,
   "metadata": {},
   "outputs": [
    {
     "data": {
      "text/plain": [
       "np.True_"
      ]
     },
     "execution_count": 10,
     "metadata": {},
     "output_type": "execute_result"
    }
   ],
   "source": [
    "filename = 'book_authors.csv'\n",
    "new = pd.read_csv(f'new/{filename}')\n",
    "prev = pd.read_csv(f'previous/{filename}')\n",
    "(new == prev).all().all()"
   ]
  },
  {
   "cell_type": "code",
   "execution_count": 16,
   "metadata": {},
   "outputs": [
    {
     "data": {
      "text/plain": [
       "np.True_"
      ]
     },
     "execution_count": 16,
     "metadata": {},
     "output_type": "execute_result"
    }
   ],
   "source": [
    "filename = 'books_processed.csv'\n",
    "new = pd.read_csv(f'new/{filename}')\n",
    "prev = pd.read_csv(f'previous/{filename}')\n",
    "(new.fillna('') == prev.fillna('')).all().all()"
   ]
  },
  {
   "cell_type": "code",
   "execution_count": 21,
   "metadata": {},
   "outputs": [
    {
     "data": {
      "text/plain": [
       "(np.True_, np.True_)"
      ]
     },
     "execution_count": 21,
     "metadata": {},
     "output_type": "execute_result"
    }
   ],
   "source": [
    "filename = 'y.npz'\n",
    "new = load_npz(f'new/{filename}')\n",
    "prev = load_npz(f'previous/{filename}')\n",
    "r, c = new.nonzero()\n",
    "r1,c1 = prev.nonzero()\n",
    "(r == r1).all(), (c == c1).all()"
   ]
  },
  {
   "cell_type": "code",
   "execution_count": 23,
   "metadata": {},
   "outputs": [
    {
     "data": {
      "text/plain": [
       "array([1, 1, 1, ..., 1, 1, 1])"
      ]
     },
     "execution_count": 23,
     "metadata": {},
     "output_type": "execute_result"
    }
   ],
   "source": [
    "load_npz('new/negative_ratings.npz').data"
   ]
  },
  {
   "cell_type": "code",
   "execution_count": 147,
   "metadata": {},
   "outputs": [
    {
     "data": {
      "text/html": [
       "<div>\n",
       "<style scoped>\n",
       "    .dataframe tbody tr th:only-of-type {\n",
       "        vertical-align: middle;\n",
       "    }\n",
       "\n",
       "    .dataframe tbody tr th {\n",
       "        vertical-align: top;\n",
       "    }\n",
       "\n",
       "    .dataframe thead th {\n",
       "        text-align: right;\n",
       "    }\n",
       "</style>\n",
       "<table border=\"1\" class=\"dataframe\">\n",
       "  <thead>\n",
       "    <tr style=\"text-align: right;\">\n",
       "      <th></th>\n",
       "      <th>Unnamed: 0</th>\n",
       "      <th>id</th>\n",
       "      <th>title</th>\n",
       "      <th>description</th>\n",
       "      <th>link</th>\n",
       "      <th>image</th>\n",
       "      <th>nr_likes</th>\n",
       "      <th>nr_dislikes</th>\n",
       "      <th>categories</th>\n",
       "      <th>rating</th>\n",
       "      <th>authors</th>\n",
       "    </tr>\n",
       "  </thead>\n",
       "  <tbody>\n",
       "    <tr>\n",
       "      <th>0</th>\n",
       "      <td>0</td>\n",
       "      <td>2862</td>\n",
       "      <td>Berserk, Vol. 5</td>\n",
       "      <td>He is Guts, the Black Swordsman, a warrior of ...</td>\n",
       "      <td>https://www.goodreads.com/book/show/248881.Ber...</td>\n",
       "      <td>/9j/4AAQSkZJRgABAQEASABIAAD/2wBDAAgGBgcGBQgHBw...</td>\n",
       "      <td>340</td>\n",
       "      <td>55</td>\n",
       "      <td>['action', 'adult', 'adventure', 'art', 'comic...</td>\n",
       "      <td>Like</td>\n",
       "      <td>{'Duane Johnson': 'Translator', 'Kentaro Miura...</td>\n",
       "    </tr>\n",
       "    <tr>\n",
       "      <th>1</th>\n",
       "      <td>1</td>\n",
       "      <td>2856</td>\n",
       "      <td>Berserk, Vol. 4</td>\n",
       "      <td>Now that the evil Count has been killed and dr...</td>\n",
       "      <td>https://www.goodreads.com/book/show/248870.Ber...</td>\n",
       "      <td>/9j/4AAQSkZJRgABAQAAAQABAAD/2wBDAAIBAQEBAQIBAQ...</td>\n",
       "      <td>359</td>\n",
       "      <td>57</td>\n",
       "      <td>['action', 'adult', 'adventure', 'art', 'colle...</td>\n",
       "      <td>Like</td>\n",
       "      <td>{'Duane Johnson': 'Translator', 'Kentaro Miura...</td>\n",
       "    </tr>\n",
       "    <tr>\n",
       "      <th>2</th>\n",
       "      <td>2</td>\n",
       "      <td>2863</td>\n",
       "      <td>Berserk, Vol. 9</td>\n",
       "      <td>Griffith, charismatic leader of the elite merc...</td>\n",
       "      <td>https://www.goodreads.com/book/show/248882.Ber...</td>\n",
       "      <td>/9j/4AAQSkZJRgABAQEASABIAAD/2wBDAAgGBgcGBQgHBw...</td>\n",
       "      <td>269</td>\n",
       "      <td>37</td>\n",
       "      <td>['action', 'adult', 'adventure', 'comics', 'da...</td>\n",
       "      <td>NaN</td>\n",
       "      <td>{'Kentaro Miura': nan, 'Duane Johnson': 'Trans...</td>\n",
       "    </tr>\n",
       "  </tbody>\n",
       "</table>\n",
       "</div>"
      ],
      "text/plain": [
       "   Unnamed: 0    id            title  \\\n",
       "0           0  2862  Berserk, Vol. 5   \n",
       "1           1  2856  Berserk, Vol. 4   \n",
       "2           2  2863  Berserk, Vol. 9   \n",
       "\n",
       "                                         description  \\\n",
       "0  He is Guts, the Black Swordsman, a warrior of ...   \n",
       "1  Now that the evil Count has been killed and dr...   \n",
       "2  Griffith, charismatic leader of the elite merc...   \n",
       "\n",
       "                                                link  \\\n",
       "0  https://www.goodreads.com/book/show/248881.Ber...   \n",
       "1  https://www.goodreads.com/book/show/248870.Ber...   \n",
       "2  https://www.goodreads.com/book/show/248882.Ber...   \n",
       "\n",
       "                                               image  nr_likes  nr_dislikes  \\\n",
       "0  /9j/4AAQSkZJRgABAQEASABIAAD/2wBDAAgGBgcGBQgHBw...       340           55   \n",
       "1  /9j/4AAQSkZJRgABAQAAAQABAAD/2wBDAAIBAQEBAQIBAQ...       359           57   \n",
       "2  /9j/4AAQSkZJRgABAQEASABIAAD/2wBDAAgGBgcGBQgHBw...       269           37   \n",
       "\n",
       "                                          categories rating  \\\n",
       "0  ['action', 'adult', 'adventure', 'art', 'comic...   Like   \n",
       "1  ['action', 'adult', 'adventure', 'art', 'colle...   Like   \n",
       "2  ['action', 'adult', 'adventure', 'comics', 'da...    NaN   \n",
       "\n",
       "                                             authors  \n",
       "0  {'Duane Johnson': 'Translator', 'Kentaro Miura...  \n",
       "1  {'Duane Johnson': 'Translator', 'Kentaro Miura...  \n",
       "2  {'Kentaro Miura': nan, 'Duane Johnson': 'Trans...  "
      ]
     },
     "execution_count": 147,
     "metadata": {},
     "output_type": "execute_result"
    }
   ],
   "source": [
    "df = pd.read_csv('1234.csv')\n",
    "df.iloc[:3]"
   ]
  },
  {
   "cell_type": "code",
   "execution_count": 142,
   "metadata": {},
   "outputs": [],
   "source": [
    "a = pd.Series(\"1 | 2 | 324 | 123 | 500\")\n"
   ]
  },
  {
   "cell_type": "code",
   "execution_count": 144,
   "metadata": {},
   "outputs": [
    {
     "data": {
      "text/plain": [
       "0    [1, 2, 324, 123, 500]\n",
       "dtype: object"
      ]
     },
     "execution_count": 144,
     "metadata": {},
     "output_type": "execute_result"
    }
   ],
   "source": [
    "a.str.split(r' \\| ')"
   ]
  },
  {
   "cell_type": "code",
   "execution_count": null,
   "metadata": {},
   "outputs": [],
   "source": []
  }
 ],
 "metadata": {
  "kernelspec": {
   "display_name": "env",
   "language": "python",
   "name": "python3"
  },
  "language_info": {
   "codemirror_mode": {
    "name": "ipython",
    "version": 3
   },
   "file_extension": ".py",
   "mimetype": "text/x-python",
   "name": "python",
   "nbconvert_exporter": "python",
   "pygments_lexer": "ipython3",
   "version": "3.10.16"
  }
 },
 "nbformat": 4,
 "nbformat_minor": 2
}

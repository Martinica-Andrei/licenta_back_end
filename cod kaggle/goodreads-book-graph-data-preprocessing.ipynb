{
 "cells": [
  {
   "cell_type": "code",
   "execution_count": 1,
   "id": "d3f91452",
   "metadata": {
    "execution": {
     "iopub.execute_input": "2024-12-10T17:04:25.638112Z",
     "iopub.status.busy": "2024-12-10T17:04:25.637754Z",
     "iopub.status.idle": "2024-12-10T17:04:35.123194Z",
     "shell.execute_reply": "2024-12-10T17:04:35.122014Z"
    },
    "papermill": {
     "duration": 9.499147,
     "end_time": "2024-12-10T17:04:35.125513",
     "exception": false,
     "start_time": "2024-12-10T17:04:25.626366",
     "status": "completed"
    },
    "tags": []
   },
   "outputs": [],
   "source": [
    "!pip install sentence_transformers -q"
   ]
  },
  {
   "cell_type": "code",
   "execution_count": 2,
   "id": "362129ef",
   "metadata": {
    "_cell_guid": "b1076dfc-b9ad-4769-8c92-a6c4dae69d19",
    "_uuid": "8f2839f25d086af736a60e9eeb907d3b93b6e0e5",
    "execution": {
     "iopub.execute_input": "2024-12-10T17:04:35.143585Z",
     "iopub.status.busy": "2024-12-10T17:04:35.143276Z",
     "iopub.status.idle": "2024-12-10T17:04:53.976906Z",
     "shell.execute_reply": "2024-12-10T17:04:53.976046Z"
    },
    "papermill": {
     "duration": 18.844802,
     "end_time": "2024-12-10T17:04:53.978899",
     "exception": false,
     "start_time": "2024-12-10T17:04:35.134097",
     "status": "completed"
    },
    "tags": []
   },
   "outputs": [],
   "source": [
    "import pandas as pd\n",
    "import matplotlib.pyplot as plt\n",
    "import numpy as np\n",
    "from scipy.sparse import csr_matrix, coo_matrix, load_npz, save_npz, hstack, identity\n",
    "from sklearn.preprocessing import LabelEncoder\n",
    "from collections import Counter\n",
    "from sentence_transformers import SentenceTransformer\n",
    "from nltk.stem import PorterStemmer\n",
    "from sklearn.base import BaseEstimator, TransformerMixin\n",
    "from sklearn.pipeline import make_pipeline\n",
    "from sklearn.compose import ColumnTransformer\n",
    "import joblib"
   ]
  },
  {
   "cell_type": "code",
   "execution_count": 3,
   "id": "5426df63",
   "metadata": {
    "execution": {
     "iopub.execute_input": "2024-12-10T17:04:53.997644Z",
     "iopub.status.busy": "2024-12-10T17:04:53.997064Z",
     "iopub.status.idle": "2024-12-10T17:04:54.001287Z",
     "shell.execute_reply": "2024-12-10T17:04:54.000422Z"
    },
    "papermill": {
     "duration": 0.016097,
     "end_time": "2024-12-10T17:04:54.003461",
     "exception": false,
     "start_time": "2024-12-10T17:04:53.987364",
     "status": "completed"
    },
    "tags": []
   },
   "outputs": [],
   "source": [
    "ps = PorterStemmer()"
   ]
  },
  {
   "cell_type": "markdown",
   "id": "a31d7cea",
   "metadata": {
    "papermill": {
     "duration": 0.008641,
     "end_time": "2024-12-10T17:04:54.027804",
     "exception": false,
     "start_time": "2024-12-10T17:04:54.019163",
     "status": "completed"
    },
    "tags": []
   },
   "source": [
    "<a href='https://mengtingwan.github.io/data/goodreads.html'>Dataset link</a>"
   ]
  },
  {
   "cell_type": "markdown",
   "id": "9436204e",
   "metadata": {
    "papermill": {
     "duration": 0.007965,
     "end_time": "2024-12-10T17:04:54.044044",
     "exception": false,
     "start_time": "2024-12-10T17:04:54.036079",
     "status": "completed"
    },
    "tags": []
   },
   "source": [
    "<div>\n",
    "    <p>Citations</p> \n",
    "    <ul>\n",
    "        <li>Mengting Wan, Julian McAuley, \"<a href=\"https://mengtingwan.github.io/paper/recsys18_mwan.pdf\">Item Recommendation on Monotonic Behavior Chains</a>\", in RecSys'18. [<a href=\"https://dblp.uni-trier.de/rec/conf/recsys/WanM18.html?view=bibtex\">bibtex</a>]\n",
    "        </li>\n",
    "        <li>Mengting Wan, Rishabh Misra, Ndapa Nakashole, Julian McAuley, \"<a href=\"https://mengtingwan.github.io/paper/acl19_mwan.pdf\">Fine-Grained Spoiler Detection from Large-Scale Review Corpora</a>\", in ACL'19. [<a href=\"https://dblp.uni-trier.de/rec/conf/acl/WanMNM19.html?view=bibtex\">bibtex</a>]\n",
    "        </li>\n",
    "    </ul>\n",
    "</div>"
   ]
  },
  {
   "cell_type": "markdown",
   "id": "7fe13f79",
   "metadata": {
    "papermill": {
     "duration": 0.007817,
     "end_time": "2024-12-10T17:04:54.059954",
     "exception": false,
     "start_time": "2024-12-10T17:04:54.052137",
     "status": "completed"
    },
    "tags": []
   },
   "source": [
    "# Create MostCommonWords Transformer"
   ]
  },
  {
   "cell_type": "code",
   "execution_count": 4,
   "id": "f3dffad4",
   "metadata": {
    "execution": {
     "iopub.execute_input": "2024-12-10T17:04:54.077856Z",
     "iopub.status.busy": "2024-12-10T17:04:54.077159Z",
     "iopub.status.idle": "2024-12-10T17:04:54.095710Z",
     "shell.execute_reply": "2024-12-10T17:04:54.094952Z"
    },
    "papermill": {
     "duration": 0.029362,
     "end_time": "2024-12-10T17:04:54.097414",
     "exception": false,
     "start_time": "2024-12-10T17:04:54.068052",
     "status": "completed"
    },
    "tags": []
   },
   "outputs": [],
   "source": [
    "# only work on single column dataframe/series only\n",
    "class MostCommonWords(BaseEstimator, TransformerMixin):\n",
    "    def __init__(self, min_count=5, lower=True, replace_punctuation='', replace_number=None, stem=True, is_input_array=False):\n",
    "        self.min_count = min_count\n",
    "        self.lower = lower\n",
    "        self.replace_punctuation = replace_punctuation\n",
    "        self.replace_number = replace_number\n",
    "        self.stem = stem\n",
    "        self.is_input_array = is_input_array\n",
    "    \n",
    "    def _preprocess(self, X):\n",
    "        if type(X) is pd.DataFrame:\n",
    "            X = X.squeeze()\n",
    "        if self.is_input_array == False:\n",
    "            return self._preprocess_str(X)\n",
    "        return self._preprocess_arr(X)\n",
    "    \n",
    "    def _preprocess_str(self, X):\n",
    "        if self.lower:\n",
    "            X = X.str.lower()\n",
    "        if self.replace_punctuation is not None:\n",
    "            X = X.str.replace(r'[^\\w\\s]',self.replace_punctuation, regex=True)\n",
    "        if self.replace_number is not None:\n",
    "            X = X.str.replace(r'\\d+', self.replace_number, regex=True)\n",
    "        X = X.str.split(r'\\s+', regex=True)\n",
    "        if self.stem:\n",
    "            X = X.apply(lambda x : [ps.stem(word) for word in x])\n",
    "        X = X.apply(Counter)\n",
    "        return X\n",
    "    \n",
    "    def _preprocess_arr(self, X):\n",
    "        if self.lower:\n",
    "            X = X.apply(lambda x : [text.lower() for text in x])\n",
    "        if self.replace_punctuation is not None:\n",
    "            X = X.apply(lambda x : [re.sub(r'[^\\w\\s]', self.replace_punctuation, word) for word in x])\n",
    "        if self.stem:\n",
    "            X = X.apply(lambda x : [ps.stem(word) for word in x])\n",
    "        if self.replace_number is not None:\n",
    "            X = X.apply(lambda x : [re.sub(r'\\d+', self.replace_number, word) for word in x])\n",
    "        X = X.apply(Counter)\n",
    "        return X\n",
    "    \n",
    "    def fit(self, X, y=None):\n",
    "        X = self._preprocess(X)\n",
    "        all_words = Counter()\n",
    "        X.apply(all_words.update)\n",
    "        self.common_words_ = set([key for key, value in all_words.items() if value >= self.min_count])\n",
    "        # '' gets added if string has leading or trailing spaces\n",
    "        self.common_words_.discard('')\n",
    "        self.encoder_ = LabelEncoder().fit(list(self.common_words_))\n",
    "        return self\n",
    "    \n",
    "    def transform(self, X):\n",
    "        X = self._preprocess(X)\n",
    "        X = X.apply(lambda x : [key for key in x.keys() if key in self.common_words_])\n",
    "        X = X.apply(self.encoder_.transform)\n",
    "        row_indices = [np.full(len(v), i, dtype=int) for i, v in enumerate(X.values)]\n",
    "        row_indices = np.concatenate(row_indices, axis=0)\n",
    "        col_indices = np.concatenate(X.values, axis=0)\n",
    "        values = np.ones(len(row_indices))\n",
    "        \n",
    "        csr_matrix_shape = (X.shape[0], len(self.common_words_))\n",
    "        return csr_matrix((values, (row_indices, col_indices)), shape=csr_matrix_shape,  dtype=int)\n"
   ]
  },
  {
   "cell_type": "markdown",
   "id": "cd2e2768",
   "metadata": {
    "papermill": {
     "duration": 0.007973,
     "end_time": "2024-12-10T17:04:54.113727",
     "exception": false,
     "start_time": "2024-12-10T17:04:54.105754",
     "status": "completed"
    },
    "tags": []
   },
   "source": [
    "# Load data"
   ]
  },
  {
   "cell_type": "code",
   "execution_count": 5,
   "id": "b5c8b3e1",
   "metadata": {
    "execution": {
     "iopub.execute_input": "2024-12-10T17:04:54.130794Z",
     "iopub.status.busy": "2024-12-10T17:04:54.130481Z",
     "iopub.status.idle": "2024-12-10T17:05:05.006167Z",
     "shell.execute_reply": "2024-12-10T17:05:05.005324Z"
    },
    "papermill": {
     "duration": 10.886329,
     "end_time": "2024-12-10T17:05:05.007958",
     "exception": false,
     "start_time": "2024-12-10T17:04:54.121629",
     "status": "completed"
    },
    "tags": []
   },
   "outputs": [
    {
     "name": "stdout",
     "output_type": "stream",
     "text": [
      "books loaded\n"
     ]
    }
   ],
   "source": [
    "books = pd.read_json('/kaggle/input/goodreads-book-graph-datasets-download/books.json', lines=True)\n",
    "print('books loaded')"
   ]
  },
  {
   "cell_type": "code",
   "execution_count": 6,
   "id": "b08e3037",
   "metadata": {
    "execution": {
     "iopub.execute_input": "2024-12-10T17:05:05.026108Z",
     "iopub.status.busy": "2024-12-10T17:05:05.025347Z",
     "iopub.status.idle": "2024-12-10T17:05:09.217267Z",
     "shell.execute_reply": "2024-12-10T17:05:09.216474Z"
    },
    "papermill": {
     "duration": 4.203273,
     "end_time": "2024-12-10T17:05:09.219422",
     "exception": false,
     "start_time": "2024-12-10T17:05:05.016149",
     "status": "completed"
    },
    "tags": []
   },
   "outputs": [],
   "source": [
    "book_authors = pd.read_json('/kaggle/input/goodreads-book-graph-datasets-download/authors.json', lines=True)"
   ]
  },
  {
   "cell_type": "code",
   "execution_count": 7,
   "id": "b47ccae6",
   "metadata": {
    "execution": {
     "iopub.execute_input": "2024-12-10T17:05:09.237153Z",
     "iopub.status.busy": "2024-12-10T17:05:09.236882Z",
     "iopub.status.idle": "2024-12-10T17:07:40.933926Z",
     "shell.execute_reply": "2024-12-10T17:07:40.933034Z"
    },
    "papermill": {
     "duration": 151.715648,
     "end_time": "2024-12-10T17:07:40.943598",
     "exception": false,
     "start_time": "2024-12-10T17:05:09.227950",
     "status": "completed"
    },
    "tags": []
   },
   "outputs": [
    {
     "name": "stdout",
     "output_type": "stream",
     "text": [
      "interactions loaded\n"
     ]
    }
   ],
   "source": [
    "interactions = pd.read_json('/kaggle/input/goodreads-book-graph-datasets-download/interactions.json', lines=True)\n",
    "print('interactions loaded')"
   ]
  },
  {
   "cell_type": "code",
   "execution_count": 8,
   "id": "ab14f793",
   "metadata": {
    "execution": {
     "iopub.execute_input": "2024-12-10T17:07:40.963734Z",
     "iopub.status.busy": "2024-12-10T17:07:40.963102Z",
     "iopub.status.idle": "2024-12-10T17:07:40.977572Z",
     "shell.execute_reply": "2024-12-10T17:07:40.976786Z"
    },
    "papermill": {
     "duration": 0.027608,
     "end_time": "2024-12-10T17:07:40.979218",
     "exception": false,
     "start_time": "2024-12-10T17:07:40.951610",
     "status": "completed"
    },
    "tags": []
   },
   "outputs": [],
   "source": [
    "categories = pd.read_csv('/kaggle/input/book-categories/categories.csv').iloc[:,0]"
   ]
  },
  {
   "cell_type": "markdown",
   "id": "07d206a0",
   "metadata": {
    "papermill": {
     "duration": 0.00795,
     "end_time": "2024-12-10T17:07:40.995345",
     "exception": false,
     "start_time": "2024-12-10T17:07:40.987395",
     "status": "completed"
    },
    "tags": []
   },
   "source": [
    "# Filter english books"
   ]
  },
  {
   "cell_type": "markdown",
   "id": "dd991fa9",
   "metadata": {
    "papermill": {
     "duration": 0.007826,
     "end_time": "2024-12-10T17:07:41.011101",
     "exception": false,
     "start_time": "2024-12-10T17:07:41.003275",
     "status": "completed"
    },
    "tags": []
   },
   "source": [
    "(some books don't have language_code so they are assumed to be english)"
   ]
  },
  {
   "cell_type": "code",
   "execution_count": 9,
   "id": "dc1fc159",
   "metadata": {
    "execution": {
     "iopub.execute_input": "2024-12-10T17:07:41.028486Z",
     "iopub.status.busy": "2024-12-10T17:07:41.027909Z",
     "iopub.status.idle": "2024-12-10T17:07:41.168883Z",
     "shell.execute_reply": "2024-12-10T17:07:41.168105Z"
    },
    "papermill": {
     "duration": 0.151923,
     "end_time": "2024-12-10T17:07:41.170943",
     "exception": false,
     "start_time": "2024-12-10T17:07:41.019020",
     "status": "completed"
    },
    "tags": []
   },
   "outputs": [],
   "source": [
    "filt = ((books.language_code == 'eng') | (books.language_code.str.len() == 0))\n",
    "books_eng = books[filt]\n",
    "books_eng_important_columns = [\"book_id\", \"title\", \"description\", \"authors\", \"url\", \"image_url\", \"popular_shelves\"]\n",
    "books_eng = books_eng[books_eng_important_columns]"
   ]
  },
  {
   "cell_type": "markdown",
   "id": "85bdeceb",
   "metadata": {
    "papermill": {
     "duration": 0.007842,
     "end_time": "2024-12-10T17:07:41.187077",
     "exception": false,
     "start_time": "2024-12-10T17:07:41.179235",
     "status": "completed"
    },
    "tags": []
   },
   "source": [
    "# Map book categories to common"
   ]
  },
  {
   "cell_type": "code",
   "execution_count": 10,
   "id": "c6ab0902",
   "metadata": {
    "execution": {
     "iopub.execute_input": "2024-12-10T17:07:41.205129Z",
     "iopub.status.busy": "2024-12-10T17:07:41.204388Z",
     "iopub.status.idle": "2024-12-10T17:07:50.891989Z",
     "shell.execute_reply": "2024-12-10T17:07:50.891237Z"
    },
    "papermill": {
     "duration": 9.698587,
     "end_time": "2024-12-10T17:07:50.893948",
     "exception": false,
     "start_time": "2024-12-10T17:07:41.195361",
     "status": "completed"
    },
    "tags": []
   },
   "outputs": [
    {
     "data": {
      "application/vnd.jupyter.widget-view+json": {
       "model_id": "acaf9382155a4c3eb3c6dd44ab2af9f4",
       "version_major": 2,
       "version_minor": 0
      },
      "text/plain": [
       "modules.json:   0%|          | 0.00/349 [00:00<?, ?B/s]"
      ]
     },
     "metadata": {},
     "output_type": "display_data"
    },
    {
     "data": {
      "application/vnd.jupyter.widget-view+json": {
       "model_id": "926d265c69354ce1a1e2f9404e76bc28",
       "version_major": 2,
       "version_minor": 0
      },
      "text/plain": [
       "config_sentence_transformers.json:   0%|          | 0.00/116 [00:00<?, ?B/s]"
      ]
     },
     "metadata": {},
     "output_type": "display_data"
    },
    {
     "data": {
      "application/vnd.jupyter.widget-view+json": {
       "model_id": "7cd70a6b8b8745b383af9fba1aa09b31",
       "version_major": 2,
       "version_minor": 0
      },
      "text/plain": [
       "README.md:   0%|          | 0.00/10.6k [00:00<?, ?B/s]"
      ]
     },
     "metadata": {},
     "output_type": "display_data"
    },
    {
     "data": {
      "application/vnd.jupyter.widget-view+json": {
       "model_id": "e2f8fa37293f4d229e2ce162cbcf6711",
       "version_major": 2,
       "version_minor": 0
      },
      "text/plain": [
       "sentence_bert_config.json:   0%|          | 0.00/53.0 [00:00<?, ?B/s]"
      ]
     },
     "metadata": {},
     "output_type": "display_data"
    },
    {
     "data": {
      "application/vnd.jupyter.widget-view+json": {
       "model_id": "e45f235e77334ea79e6ca547a4ed24ba",
       "version_major": 2,
       "version_minor": 0
      },
      "text/plain": [
       "config.json:   0%|          | 0.00/571 [00:00<?, ?B/s]"
      ]
     },
     "metadata": {},
     "output_type": "display_data"
    },
    {
     "data": {
      "application/vnd.jupyter.widget-view+json": {
       "model_id": "c933839a3f0142058fc62ef0bb8be9f9",
       "version_major": 2,
       "version_minor": 0
      },
      "text/plain": [
       "model.safetensors:   0%|          | 0.00/438M [00:00<?, ?B/s]"
      ]
     },
     "metadata": {},
     "output_type": "display_data"
    },
    {
     "data": {
      "application/vnd.jupyter.widget-view+json": {
       "model_id": "cfce28d95b3049138de3d276e0cf2bf8",
       "version_major": 2,
       "version_minor": 0
      },
      "text/plain": [
       "tokenizer_config.json:   0%|          | 0.00/363 [00:00<?, ?B/s]"
      ]
     },
     "metadata": {},
     "output_type": "display_data"
    },
    {
     "data": {
      "application/vnd.jupyter.widget-view+json": {
       "model_id": "a713c774dfa34029b33367b06b702bc1",
       "version_major": 2,
       "version_minor": 0
      },
      "text/plain": [
       "vocab.txt:   0%|          | 0.00/232k [00:00<?, ?B/s]"
      ]
     },
     "metadata": {},
     "output_type": "display_data"
    },
    {
     "data": {
      "application/vnd.jupyter.widget-view+json": {
       "model_id": "18a0da09f1284e7a9f9f4adaa7993265",
       "version_major": 2,
       "version_minor": 0
      },
      "text/plain": [
       "tokenizer.json:   0%|          | 0.00/466k [00:00<?, ?B/s]"
      ]
     },
     "metadata": {},
     "output_type": "display_data"
    },
    {
     "data": {
      "application/vnd.jupyter.widget-view+json": {
       "model_id": "a13267c5b1974b32b0448ef32cd268c3",
       "version_major": 2,
       "version_minor": 0
      },
      "text/plain": [
       "special_tokens_map.json:   0%|          | 0.00/239 [00:00<?, ?B/s]"
      ]
     },
     "metadata": {},
     "output_type": "display_data"
    },
    {
     "name": "stderr",
     "output_type": "stream",
     "text": [
      "/opt/conda/lib/python3.10/site-packages/transformers/tokenization_utils_base.py:1617: FutureWarning: `clean_up_tokenization_spaces` was not set. It will be set to `True` by default. This behavior will be deprecated in transformers v4.45, and will be then set to `False` by default. For more details check this issue: https://github.com/huggingface/transformers/issues/31884\n",
      "  warnings.warn(\n"
     ]
    },
    {
     "data": {
      "application/vnd.jupyter.widget-view+json": {
       "model_id": "acf4a8a884ca452e8104022913fe3917",
       "version_major": 2,
       "version_minor": 0
      },
      "text/plain": [
       "1_Pooling/config.json:   0%|          | 0.00/190 [00:00<?, ?B/s]"
      ]
     },
     "metadata": {},
     "output_type": "display_data"
    }
   ],
   "source": [
    "model = SentenceTransformer('all-mpnet-base-v2')"
   ]
  },
  {
   "cell_type": "code",
   "execution_count": 11,
   "id": "090c2fc7",
   "metadata": {
    "execution": {
     "iopub.execute_input": "2024-12-10T17:07:50.914110Z",
     "iopub.status.busy": "2024-12-10T17:07:50.913813Z",
     "iopub.status.idle": "2024-12-10T17:07:51.476446Z",
     "shell.execute_reply": "2024-12-10T17:07:51.475571Z"
    },
    "papermill": {
     "duration": 0.574337,
     "end_time": "2024-12-10T17:07:51.478077",
     "exception": false,
     "start_time": "2024-12-10T17:07:50.903740",
     "status": "completed"
    },
    "tags": []
   },
   "outputs": [
    {
     "data": {
      "application/vnd.jupyter.widget-view+json": {
       "model_id": "07d73d5b5a3b4c809b7238fa32698e1f",
       "version_major": 2,
       "version_minor": 0
      },
      "text/plain": [
       "Batches:   0%|          | 0/10 [00:00<?, ?it/s]"
      ]
     },
     "metadata": {},
     "output_type": "display_data"
    }
   ],
   "source": [
    "categories_enc = model.encode(categories.values)"
   ]
  },
  {
   "cell_type": "code",
   "execution_count": 12,
   "id": "9c39ce43",
   "metadata": {
    "execution": {
     "iopub.execute_input": "2024-12-10T17:07:51.498362Z",
     "iopub.status.busy": "2024-12-10T17:07:51.497579Z",
     "iopub.status.idle": "2024-12-10T17:07:52.376510Z",
     "shell.execute_reply": "2024-12-10T17:07:52.375500Z"
    },
    "papermill": {
     "duration": 0.891311,
     "end_time": "2024-12-10T17:07:52.378961",
     "exception": false,
     "start_time": "2024-12-10T17:07:51.487650",
     "status": "completed"
    },
    "tags": []
   },
   "outputs": [],
   "source": [
    "book_categories = books_eng.popular_shelves.apply(lambda x : [v['name'] for v in x if int(v['count']) >= 1])"
   ]
  },
  {
   "cell_type": "code",
   "execution_count": 13,
   "id": "88121720",
   "metadata": {
    "execution": {
     "iopub.execute_input": "2024-12-10T17:07:52.408836Z",
     "iopub.status.busy": "2024-12-10T17:07:52.408347Z",
     "iopub.status.idle": "2024-12-10T17:07:53.155866Z",
     "shell.execute_reply": "2024-12-10T17:07:53.154900Z"
    },
    "papermill": {
     "duration": 0.764348,
     "end_time": "2024-12-10T17:07:53.157935",
     "exception": false,
     "start_time": "2024-12-10T17:07:52.393587",
     "status": "completed"
    },
    "tags": []
   },
   "outputs": [],
   "source": [
    "book_categories_counter = Counter()\n",
    "_ = book_categories.apply(book_categories_counter.update)"
   ]
  },
  {
   "cell_type": "code",
   "execution_count": 14,
   "id": "4f496a32",
   "metadata": {
    "execution": {
     "iopub.execute_input": "2024-12-10T17:07:53.178011Z",
     "iopub.status.busy": "2024-12-10T17:07:53.177696Z",
     "iopub.status.idle": "2024-12-10T17:07:53.240302Z",
     "shell.execute_reply": "2024-12-10T17:07:53.239452Z"
    },
    "papermill": {
     "duration": 0.074648,
     "end_time": "2024-12-10T17:07:53.242082",
     "exception": false,
     "start_time": "2024-12-10T17:07:53.167434",
     "status": "completed"
    },
    "tags": []
   },
   "outputs": [
    {
     "data": {
      "text/plain": [
       "(138714,)"
      ]
     },
     "execution_count": 14,
     "metadata": {},
     "output_type": "execute_result"
    }
   ],
   "source": [
    "book_categories_all = np.array(list(book_categories_counter.keys()))\n",
    "book_categories_all.shape"
   ]
  },
  {
   "cell_type": "code",
   "execution_count": 15,
   "id": "3fd7c4aa",
   "metadata": {
    "execution": {
     "iopub.execute_input": "2024-12-10T17:07:53.262075Z",
     "iopub.status.busy": "2024-12-10T17:07:53.261781Z",
     "iopub.status.idle": "2024-12-10T17:09:06.835204Z",
     "shell.execute_reply": "2024-12-10T17:09:06.834481Z"
    },
    "papermill": {
     "duration": 73.585776,
     "end_time": "2024-12-10T17:09:06.837285",
     "exception": false,
     "start_time": "2024-12-10T17:07:53.251509",
     "status": "completed"
    },
    "tags": []
   },
   "outputs": [
    {
     "data": {
      "application/vnd.jupyter.widget-view+json": {
       "model_id": "9d3f76e2017b4da0a6714ff9a4e8e5e4",
       "version_major": 2,
       "version_minor": 0
      },
      "text/plain": [
       "Batches:   0%|          | 0/4335 [00:00<?, ?it/s]"
      ]
     },
     "metadata": {},
     "output_type": "display_data"
    }
   ],
   "source": [
    "book_categories_enc = model.encode(book_categories_all)"
   ]
  },
  {
   "cell_type": "code",
   "execution_count": 16,
   "id": "816060fd",
   "metadata": {
    "execution": {
     "iopub.execute_input": "2024-12-10T17:09:06.860172Z",
     "iopub.status.busy": "2024-12-10T17:09:06.859550Z",
     "iopub.status.idle": "2024-12-10T17:09:07.750225Z",
     "shell.execute_reply": "2024-12-10T17:09:07.749434Z"
    },
    "papermill": {
     "duration": 0.904548,
     "end_time": "2024-12-10T17:09:07.752258",
     "exception": false,
     "start_time": "2024-12-10T17:09:06.847710",
     "status": "completed"
    },
    "tags": []
   },
   "outputs": [],
   "source": [
    "similarity = model.similarity(book_categories_enc, categories_enc)\n",
    "row_arg_max = np.argmax(similarity, axis=1)\n",
    "row_max = similarity[np.arange(similarity.shape[0]), row_arg_max]\n",
    "row_indices = np.where(row_max >= 0.7)[0]\n",
    "row_arg_max = row_arg_max[row_indices]"
   ]
  },
  {
   "cell_type": "code",
   "execution_count": 17,
   "id": "5f14a8fe",
   "metadata": {
    "execution": {
     "iopub.execute_input": "2024-12-10T17:09:07.773354Z",
     "iopub.status.busy": "2024-12-10T17:09:07.772587Z",
     "iopub.status.idle": "2024-12-10T17:09:07.782452Z",
     "shell.execute_reply": "2024-12-10T17:09:07.781739Z"
    },
    "papermill": {
     "duration": 0.021648,
     "end_time": "2024-12-10T17:09:07.783971",
     "exception": false,
     "start_time": "2024-12-10T17:09:07.762323",
     "status": "completed"
    },
    "tags": []
   },
   "outputs": [],
   "source": [
    "mapper = pd.DataFrame({'v' : categories.iloc[row_arg_max].values}, index=book_categories_all[row_indices])"
   ]
  },
  {
   "cell_type": "code",
   "execution_count": 18,
   "id": "ed68fb7f",
   "metadata": {
    "execution": {
     "iopub.execute_input": "2024-12-10T17:09:07.804028Z",
     "iopub.status.busy": "2024-12-10T17:09:07.803653Z",
     "iopub.status.idle": "2024-12-10T17:09:42.830747Z",
     "shell.execute_reply": "2024-12-10T17:09:42.830009Z"
    },
    "papermill": {
     "duration": 35.039341,
     "end_time": "2024-12-10T17:09:42.832817",
     "exception": false,
     "start_time": "2024-12-10T17:09:07.793476",
     "status": "completed"
    },
    "tags": []
   },
   "outputs": [],
   "source": [
    "book_categories_mapped = book_categories.apply(lambda x : np.unique([mapper.loc[v].values[0] for v in x if v in mapper.index]).tolist())"
   ]
  },
  {
   "cell_type": "code",
   "execution_count": 19,
   "id": "4692affa",
   "metadata": {
    "execution": {
     "iopub.execute_input": "2024-12-10T17:09:42.853330Z",
     "iopub.status.busy": "2024-12-10T17:09:42.853056Z",
     "iopub.status.idle": "2024-12-10T17:09:42.859998Z",
     "shell.execute_reply": "2024-12-10T17:09:42.859233Z"
    },
    "papermill": {
     "duration": 0.018803,
     "end_time": "2024-12-10T17:09:42.861526",
     "exception": false,
     "start_time": "2024-12-10T17:09:42.842723",
     "status": "completed"
    },
    "tags": []
   },
   "outputs": [],
   "source": [
    "try:\n",
    "    books_eng.pop('popular_shelves')\n",
    "    books_eng['categories'] = book_categories_mapped\n",
    "except:\n",
    "    pass"
   ]
  },
  {
   "cell_type": "markdown",
   "id": "88bca061",
   "metadata": {
    "papermill": {
     "duration": 0.009069,
     "end_time": "2024-12-10T17:09:42.880079",
     "exception": false,
     "start_time": "2024-12-10T17:09:42.871010",
     "status": "completed"
    },
    "tags": []
   },
   "source": [
    "# Map authors id from 0 to n-1"
   ]
  },
  {
   "cell_type": "code",
   "execution_count": 20,
   "id": "8e325921",
   "metadata": {
    "execution": {
     "iopub.execute_input": "2024-12-10T17:09:42.899996Z",
     "iopub.status.busy": "2024-12-10T17:09:42.899359Z",
     "iopub.status.idle": "2024-12-10T17:09:43.104468Z",
     "shell.execute_reply": "2024-12-10T17:09:43.103730Z"
    },
    "papermill": {
     "duration": 0.217039,
     "end_time": "2024-12-10T17:09:43.106304",
     "exception": false,
     "start_time": "2024-12-10T17:09:42.889265",
     "status": "completed"
    },
    "tags": []
   },
   "outputs": [],
   "source": [
    "authors = books_eng.authors.apply(lambda x : {int(v['author_id']) : v['role'] for v in x})\n",
    "authors_id = authors.apply(lambda x : list(x.keys()))\n",
    "authors_id_all = np.concatenate(authors_id.values)"
   ]
  },
  {
   "cell_type": "code",
   "execution_count": 21,
   "id": "8472f37b",
   "metadata": {
    "execution": {
     "iopub.execute_input": "2024-12-10T17:09:43.126735Z",
     "iopub.status.busy": "2024-12-10T17:09:43.126440Z",
     "iopub.status.idle": "2024-12-10T17:09:43.134663Z",
     "shell.execute_reply": "2024-12-10T17:09:43.134052Z"
    },
    "papermill": {
     "duration": 0.020462,
     "end_time": "2024-12-10T17:09:43.136472",
     "exception": false,
     "start_time": "2024-12-10T17:09:43.116010",
     "status": "completed"
    },
    "tags": []
   },
   "outputs": [],
   "source": [
    "authors_encoder = LabelEncoder().fit(authors_id_all)\n",
    "#use mapper because LabelEncoder is slower on individual mappings (single values, not arrays)\n",
    "authors_mapper = pd.Series(np.arange(authors_encoder.classes_.shape[0]), index=authors_encoder.classes_)"
   ]
  },
  {
   "cell_type": "code",
   "execution_count": 22,
   "id": "5cc77f63",
   "metadata": {
    "execution": {
     "iopub.execute_input": "2024-12-10T17:09:43.156450Z",
     "iopub.status.busy": "2024-12-10T17:09:43.156172Z",
     "iopub.status.idle": "2024-12-10T17:09:43.224224Z",
     "shell.execute_reply": "2024-12-10T17:09:43.223483Z"
    },
    "papermill": {
     "duration": 0.080001,
     "end_time": "2024-12-10T17:09:43.226023",
     "exception": false,
     "start_time": "2024-12-10T17:09:43.146022",
     "status": "completed"
    },
    "tags": []
   },
   "outputs": [],
   "source": [
    "book_authors_in = book_authors[book_authors.author_id.isin(authors_encoder.classes_.astype(int))]\n",
    "book_authors_in = book_authors_in.copy()[['author_id', 'name']]\n",
    "book_authors_in['author_id'] = authors_encoder.transform(book_authors_in['author_id'])\n",
    "book_authors_in = book_authors_in.sort_values('author_id')\n",
    "book_authors_in.set_index('author_id', inplace=True)\n",
    "book_authors_in.to_csv('book_authors.csv')"
   ]
  },
  {
   "cell_type": "code",
   "execution_count": 23,
   "id": "7812b8b8",
   "metadata": {
    "execution": {
     "iopub.execute_input": "2024-12-10T17:09:43.246479Z",
     "iopub.status.busy": "2024-12-10T17:09:43.246171Z",
     "iopub.status.idle": "2024-12-10T17:09:44.251058Z",
     "shell.execute_reply": "2024-12-10T17:09:44.250297Z"
    },
    "papermill": {
     "duration": 1.017419,
     "end_time": "2024-12-10T17:09:44.253054",
     "exception": false,
     "start_time": "2024-12-10T17:09:43.235635",
     "status": "completed"
    },
    "tags": []
   },
   "outputs": [],
   "source": [
    "books_eng['authors'] = authors.apply(lambda x : {authors_mapper.loc[k] : v for k, v in x.items()})"
   ]
  },
  {
   "cell_type": "markdown",
   "id": "5b11071d",
   "metadata": {
    "papermill": {
     "duration": 0.009284,
     "end_time": "2024-12-10T17:09:44.272180",
     "exception": false,
     "start_time": "2024-12-10T17:09:44.262896",
     "status": "completed"
    },
    "tags": []
   },
   "source": [
    "# Convert interactions to implicit"
   ]
  },
  {
   "cell_type": "code",
   "execution_count": 24,
   "id": "6b6d2351",
   "metadata": {
    "execution": {
     "iopub.execute_input": "2024-12-10T17:09:44.292264Z",
     "iopub.status.busy": "2024-12-10T17:09:44.291960Z",
     "iopub.status.idle": "2024-12-10T17:09:46.435291Z",
     "shell.execute_reply": "2024-12-10T17:09:46.434523Z"
    },
    "papermill": {
     "duration": 2.155774,
     "end_time": "2024-12-10T17:09:46.437308",
     "exception": false,
     "start_time": "2024-12-10T17:09:44.281534",
     "status": "completed"
    },
    "tags": []
   },
   "outputs": [],
   "source": [
    "interactions_rated_or_read_filt = (interactions.is_read == True) | (interactions.rating != 0)\n",
    "interactions_rated = interactions[interactions_rated_or_read_filt]\n",
    "interactions_rated = interactions_rated[interactions_rated.book_id.isin(books_eng.book_id)]"
   ]
  },
  {
   "cell_type": "markdown",
   "id": "a77fba4b",
   "metadata": {
    "papermill": {
     "duration": 0.009146,
     "end_time": "2024-12-10T17:09:46.456750",
     "exception": false,
     "start_time": "2024-12-10T17:09:46.447604",
     "status": "completed"
    },
    "tags": []
   },
   "source": [
    "# Create y sparse matrix"
   ]
  },
  {
   "cell_type": "code",
   "execution_count": 25,
   "id": "cdff9c7d",
   "metadata": {
    "execution": {
     "iopub.execute_input": "2024-12-10T17:09:46.477028Z",
     "iopub.status.busy": "2024-12-10T17:09:46.476448Z",
     "iopub.status.idle": "2024-12-10T17:10:12.331558Z",
     "shell.execute_reply": "2024-12-10T17:10:12.330705Z"
    },
    "papermill": {
     "duration": 25.868124,
     "end_time": "2024-12-10T17:10:12.334228",
     "exception": false,
     "start_time": "2024-12-10T17:09:46.466104",
     "status": "completed"
    },
    "tags": []
   },
   "outputs": [],
   "source": [
    "def transform_rating_and_read_to_implicit(x):\n",
    "    is_read = x['is_read']\n",
    "    rating = x['rating']\n",
    "    if rating != 0:\n",
    "        return rating >= 4\n",
    "    else:\n",
    "        return is_read\n",
    "values = interactions_rated[['is_read', 'rating']].apply(transform_rating_and_read_to_implicit, axis=1)\n",
    "values = values.astype(int).values"
   ]
  },
  {
   "cell_type": "code",
   "execution_count": 26,
   "id": "a85b9370",
   "metadata": {
    "execution": {
     "iopub.execute_input": "2024-12-10T17:10:12.362575Z",
     "iopub.status.busy": "2024-12-10T17:10:12.362222Z",
     "iopub.status.idle": "2024-12-10T17:10:13.068302Z",
     "shell.execute_reply": "2024-12-10T17:10:13.067386Z"
    },
    "papermill": {
     "duration": 0.718787,
     "end_time": "2024-12-10T17:10:13.070024",
     "exception": false,
     "start_time": "2024-12-10T17:10:12.351237",
     "status": "completed"
    },
    "tags": []
   },
   "outputs": [
    {
     "data": {
      "text/html": [
       "<style>#sk-container-id-1 {color: black;background-color: white;}#sk-container-id-1 pre{padding: 0;}#sk-container-id-1 div.sk-toggleable {background-color: white;}#sk-container-id-1 label.sk-toggleable__label {cursor: pointer;display: block;width: 100%;margin-bottom: 0;padding: 0.3em;box-sizing: border-box;text-align: center;}#sk-container-id-1 label.sk-toggleable__label-arrow:before {content: \"▸\";float: left;margin-right: 0.25em;color: #696969;}#sk-container-id-1 label.sk-toggleable__label-arrow:hover:before {color: black;}#sk-container-id-1 div.sk-estimator:hover label.sk-toggleable__label-arrow:before {color: black;}#sk-container-id-1 div.sk-toggleable__content {max-height: 0;max-width: 0;overflow: hidden;text-align: left;background-color: #f0f8ff;}#sk-container-id-1 div.sk-toggleable__content pre {margin: 0.2em;color: black;border-radius: 0.25em;background-color: #f0f8ff;}#sk-container-id-1 input.sk-toggleable__control:checked~div.sk-toggleable__content {max-height: 200px;max-width: 100%;overflow: auto;}#sk-container-id-1 input.sk-toggleable__control:checked~label.sk-toggleable__label-arrow:before {content: \"▾\";}#sk-container-id-1 div.sk-estimator input.sk-toggleable__control:checked~label.sk-toggleable__label {background-color: #d4ebff;}#sk-container-id-1 div.sk-label input.sk-toggleable__control:checked~label.sk-toggleable__label {background-color: #d4ebff;}#sk-container-id-1 input.sk-hidden--visually {border: 0;clip: rect(1px 1px 1px 1px);clip: rect(1px, 1px, 1px, 1px);height: 1px;margin: -1px;overflow: hidden;padding: 0;position: absolute;width: 1px;}#sk-container-id-1 div.sk-estimator {font-family: monospace;background-color: #f0f8ff;border: 1px dotted black;border-radius: 0.25em;box-sizing: border-box;margin-bottom: 0.5em;}#sk-container-id-1 div.sk-estimator:hover {background-color: #d4ebff;}#sk-container-id-1 div.sk-parallel-item::after {content: \"\";width: 100%;border-bottom: 1px solid gray;flex-grow: 1;}#sk-container-id-1 div.sk-label:hover label.sk-toggleable__label {background-color: #d4ebff;}#sk-container-id-1 div.sk-serial::before {content: \"\";position: absolute;border-left: 1px solid gray;box-sizing: border-box;top: 0;bottom: 0;left: 50%;z-index: 0;}#sk-container-id-1 div.sk-serial {display: flex;flex-direction: column;align-items: center;background-color: white;padding-right: 0.2em;padding-left: 0.2em;position: relative;}#sk-container-id-1 div.sk-item {position: relative;z-index: 1;}#sk-container-id-1 div.sk-parallel {display: flex;align-items: stretch;justify-content: center;background-color: white;position: relative;}#sk-container-id-1 div.sk-item::before, #sk-container-id-1 div.sk-parallel-item::before {content: \"\";position: absolute;border-left: 1px solid gray;box-sizing: border-box;top: 0;bottom: 0;left: 50%;z-index: -1;}#sk-container-id-1 div.sk-parallel-item {display: flex;flex-direction: column;z-index: 1;position: relative;background-color: white;}#sk-container-id-1 div.sk-parallel-item:first-child::after {align-self: flex-end;width: 50%;}#sk-container-id-1 div.sk-parallel-item:last-child::after {align-self: flex-start;width: 50%;}#sk-container-id-1 div.sk-parallel-item:only-child::after {width: 0;}#sk-container-id-1 div.sk-dashed-wrapped {border: 1px dashed gray;margin: 0 0.4em 0.5em 0.4em;box-sizing: border-box;padding-bottom: 0.4em;background-color: white;}#sk-container-id-1 div.sk-label label {font-family: monospace;font-weight: bold;display: inline-block;line-height: 1.2em;}#sk-container-id-1 div.sk-label-container {text-align: center;}#sk-container-id-1 div.sk-container {/* jupyter's `normalize.less` sets `[hidden] { display: none; }` but bootstrap.min.css set `[hidden] { display: none !important; }` so we also need the `!important` here to be able to override the default hidden behavior on the sphinx rendered scikit-learn.org. See: https://github.com/scikit-learn/scikit-learn/issues/21755 */display: inline-block !important;position: relative;}#sk-container-id-1 div.sk-text-repr-fallback {display: none;}</style><div id=\"sk-container-id-1\" class=\"sk-top-container\"><div class=\"sk-text-repr-fallback\"><pre>LabelEncoder()</pre><b>In a Jupyter environment, please rerun this cell to show the HTML representation or trust the notebook. <br />On GitHub, the HTML representation is unable to render, please try loading this page with nbviewer.org.</b></div><div class=\"sk-container\" hidden><div class=\"sk-item\"><div class=\"sk-estimator sk-toggleable\"><input class=\"sk-toggleable__control sk-hidden--visually\" id=\"sk-estimator-id-1\" type=\"checkbox\" checked><label for=\"sk-estimator-id-1\" class=\"sk-toggleable__label sk-toggleable__label-arrow\">LabelEncoder</label><div class=\"sk-toggleable__content\"><pre>LabelEncoder()</pre></div></div></div></div></div>"
      ],
      "text/plain": [
       "LabelEncoder()"
      ]
     },
     "execution_count": 26,
     "metadata": {},
     "output_type": "execute_result"
    }
   ],
   "source": [
    "book_id_encoder = LabelEncoder()\n",
    "book_id_encoder.fit(books_eng.book_id)\n",
    "\n",
    "user_id_encoder = LabelEncoder()\n",
    "user_id_encoder.fit(interactions_rated.user_id)"
   ]
  },
  {
   "cell_type": "code",
   "execution_count": 27,
   "id": "68ee457a",
   "metadata": {
    "execution": {
     "iopub.execute_input": "2024-12-10T17:10:13.091382Z",
     "iopub.status.busy": "2024-12-10T17:10:13.090650Z",
     "iopub.status.idle": "2024-12-10T17:10:13.149617Z",
     "shell.execute_reply": "2024-12-10T17:10:13.148706Z"
    },
    "papermill": {
     "duration": 0.071509,
     "end_time": "2024-12-10T17:10:13.151645",
     "exception": false,
     "start_time": "2024-12-10T17:10:13.080136",
     "status": "completed"
    },
    "tags": []
   },
   "outputs": [],
   "source": [
    "p_books_eng = books_eng.iloc[np.argsort(book_id_encoder.transform(books_eng.book_id))]\n",
    "assert (p_books_eng.book_id == book_id_encoder.classes_).all()\n",
    "p_books_eng = p_books_eng.drop(columns='book_id')"
   ]
  },
  {
   "cell_type": "code",
   "execution_count": 28,
   "id": "6c568db2",
   "metadata": {
    "execution": {
     "iopub.execute_input": "2024-12-10T17:10:13.172945Z",
     "iopub.status.busy": "2024-12-10T17:10:13.172619Z",
     "iopub.status.idle": "2024-12-10T17:10:14.668985Z",
     "shell.execute_reply": "2024-12-10T17:10:14.667911Z"
    },
    "papermill": {
     "duration": 1.508955,
     "end_time": "2024-12-10T17:10:14.670935",
     "exception": false,
     "start_time": "2024-12-10T17:10:13.161980",
     "status": "completed"
    },
    "tags": []
   },
   "outputs": [],
   "source": [
    "cols = book_id_encoder.transform(interactions_rated.book_id)\n",
    "rows = user_id_encoder.transform(interactions_rated.user_id)"
   ]
  },
  {
   "cell_type": "code",
   "execution_count": 29,
   "id": "47d5fdd3",
   "metadata": {
    "execution": {
     "iopub.execute_input": "2024-12-10T17:10:14.692576Z",
     "iopub.status.busy": "2024-12-10T17:10:14.692051Z",
     "iopub.status.idle": "2024-12-10T17:10:14.987988Z",
     "shell.execute_reply": "2024-12-10T17:10:14.987037Z"
    },
    "papermill": {
     "duration": 0.308595,
     "end_time": "2024-12-10T17:10:14.990056",
     "exception": false,
     "start_time": "2024-12-10T17:10:14.681461",
     "status": "completed"
    },
    "tags": []
   },
   "outputs": [],
   "source": [
    "y = csr_matrix((values, (rows, cols)), dtype=int)\n",
    "y = csr_matrix((np.ones(y.count_nonzero()), y.nonzero()), dtype=int)"
   ]
  },
  {
   "cell_type": "markdown",
   "id": "4a118f1e",
   "metadata": {
    "papermill": {
     "duration": 0.009702,
     "end_time": "2024-12-10T17:10:15.010036",
     "exception": false,
     "start_time": "2024-12-10T17:10:15.000334",
     "status": "completed"
    },
    "tags": []
   },
   "source": [
    "# Save y and english books sorted"
   ]
  },
  {
   "cell_type": "code",
   "execution_count": 30,
   "id": "7574fe34",
   "metadata": {
    "execution": {
     "iopub.execute_input": "2024-12-10T17:10:15.031005Z",
     "iopub.status.busy": "2024-12-10T17:10:15.030731Z",
     "iopub.status.idle": "2024-12-10T17:10:17.988118Z",
     "shell.execute_reply": "2024-12-10T17:10:17.987168Z"
    },
    "papermill": {
     "duration": 2.96998,
     "end_time": "2024-12-10T17:10:17.990138",
     "exception": false,
     "start_time": "2024-12-10T17:10:15.020158",
     "status": "completed"
    },
    "tags": []
   },
   "outputs": [],
   "source": [
    "save_npz('y.npz', y)\n",
    "p_books_eng.to_csv('books_processed.csv', index=False)"
   ]
  },
  {
   "cell_type": "markdown",
   "id": "b7e02b56",
   "metadata": {
    "papermill": {
     "duration": 0.00941,
     "end_time": "2024-12-10T17:10:18.010316",
     "exception": false,
     "start_time": "2024-12-10T17:10:18.000906",
     "status": "completed"
    },
    "tags": []
   },
   "source": [
    "# Create item features"
   ]
  },
  {
   "cell_type": "code",
   "execution_count": 31,
   "id": "9d3cdbdc",
   "metadata": {
    "execution": {
     "iopub.execute_input": "2024-12-10T17:10:18.030929Z",
     "iopub.status.busy": "2024-12-10T17:10:18.030481Z",
     "iopub.status.idle": "2024-12-10T17:10:18.136628Z",
     "shell.execute_reply": "2024-12-10T17:10:18.135955Z"
    },
    "papermill": {
     "duration": 0.118931,
     "end_time": "2024-12-10T17:10:18.138736",
     "exception": false,
     "start_time": "2024-12-10T17:10:18.019805",
     "status": "completed"
    },
    "tags": []
   },
   "outputs": [],
   "source": [
    "books_columns_to_transform = pd.DataFrame()\n",
    "books_columns_to_transform['content'] = p_books_eng['title'] + ' ' + p_books_eng['description']\n",
    "books_columns_to_transform['authors'] = p_books_eng.authors.apply(lambda x : list(x.keys()))\n",
    "books_columns_to_transform['categories'] = p_books_eng['categories']"
   ]
  },
  {
   "cell_type": "code",
   "execution_count": 32,
   "id": "5e05e8e0",
   "metadata": {
    "collapsed": true,
    "execution": {
     "iopub.execute_input": "2024-12-10T17:10:18.161818Z",
     "iopub.status.busy": "2024-12-10T17:10:18.161068Z",
     "iopub.status.idle": "2024-12-10T17:16:01.410270Z",
     "shell.execute_reply": "2024-12-10T17:16:01.409267Z"
    },
    "jupyter": {
     "outputs_hidden": true
    },
    "papermill": {
     "duration": 343.26326,
     "end_time": "2024-12-10T17:16:01.413356",
     "exception": false,
     "start_time": "2024-12-10T17:10:18.150096",
     "status": "completed"
    },
    "tags": []
   },
   "outputs": [],
   "source": [
    "item_preprocessing = ColumnTransformer([\n",
    "    ('content', MostCommonWords(min_count=100, lower=True, \n",
    "                                replace_punctuation='', replace_number='', stem=True, is_input_array=False), ['content']),\n",
    "    ('authors', MostCommonWords(min_count=1, lower=False,\n",
    "                                replace_punctuation=None, replace_number=None, stem=False, is_input_array=True), ['authors']),\n",
    "    ('categories', MostCommonWords(min_count=1, lower=False,\n",
    "                                   replace_punctuation=None, replace_number=None, stem=False, is_input_array=True), ['categories'])\n",
    "])\n",
    "\n",
    "item_features = item_preprocessing.fit_transform(books_columns_to_transform)"
   ]
  },
  {
   "cell_type": "code",
   "execution_count": 33,
   "id": "2daa0ace",
   "metadata": {
    "execution": {
     "iopub.execute_input": "2024-12-10T17:16:01.440176Z",
     "iopub.status.busy": "2024-12-10T17:16:01.439869Z",
     "iopub.status.idle": "2024-12-10T17:16:01.445229Z",
     "shell.execute_reply": "2024-12-10T17:16:01.444224Z"
    },
    "papermill": {
     "duration": 0.021206,
     "end_time": "2024-12-10T17:16:01.450061",
     "exception": false,
     "start_time": "2024-12-10T17:16:01.428855",
     "status": "completed"
    },
    "tags": []
   },
   "outputs": [],
   "source": [
    "identity_items = identity(p_books_eng.shape[0], dtype=int)"
   ]
  },
  {
   "cell_type": "code",
   "execution_count": 34,
   "id": "94d9dbfd",
   "metadata": {
    "execution": {
     "iopub.execute_input": "2024-12-10T17:16:01.479777Z",
     "iopub.status.busy": "2024-12-10T17:16:01.479124Z",
     "iopub.status.idle": "2024-12-10T17:16:01.524027Z",
     "shell.execute_reply": "2024-12-10T17:16:01.523065Z"
    },
    "papermill": {
     "duration": 0.058942,
     "end_time": "2024-12-10T17:16:01.526632",
     "exception": false,
     "start_time": "2024-12-10T17:16:01.467690",
     "status": "completed"
    },
    "tags": []
   },
   "outputs": [],
   "source": [
    "p_item_features = hstack([item_features, identity_items], dtype=int)"
   ]
  },
  {
   "cell_type": "code",
   "execution_count": 35,
   "id": "9aecb0a3",
   "metadata": {
    "execution": {
     "iopub.execute_input": "2024-12-10T17:16:01.554427Z",
     "iopub.status.busy": "2024-12-10T17:16:01.554124Z",
     "iopub.status.idle": "2024-12-10T17:16:03.645418Z",
     "shell.execute_reply": "2024-12-10T17:16:03.644502Z"
    },
    "papermill": {
     "duration": 2.104061,
     "end_time": "2024-12-10T17:16:03.647095",
     "exception": false,
     "start_time": "2024-12-10T17:16:01.543034",
     "status": "completed"
    },
    "tags": []
   },
   "outputs": [
    {
     "data": {
      "text/plain": [
       "['item_preprocessing.pkl']"
      ]
     },
     "execution_count": 35,
     "metadata": {},
     "output_type": "execute_result"
    }
   ],
   "source": [
    "save_npz('item_features.npz', p_item_features)\n",
    "joblib.dump(item_preprocessing, 'item_preprocessing.pkl')"
   ]
  },
  {
   "cell_type": "markdown",
   "id": "959302c3",
   "metadata": {
    "papermill": {
     "duration": 0.010015,
     "end_time": "2024-12-10T17:16:03.667066",
     "exception": false,
     "start_time": "2024-12-10T17:16:03.657051",
     "status": "completed"
    },
    "tags": []
   },
   "source": [
    "# Create User features"
   ]
  },
  {
   "cell_type": "code",
   "execution_count": 36,
   "id": "9e70c258",
   "metadata": {
    "execution": {
     "iopub.execute_input": "2024-12-10T17:16:03.687806Z",
     "iopub.status.busy": "2024-12-10T17:16:03.687200Z",
     "iopub.status.idle": "2024-12-10T17:16:05.520184Z",
     "shell.execute_reply": "2024-12-10T17:16:05.519454Z"
    },
    "papermill": {
     "duration": 1.845542,
     "end_time": "2024-12-10T17:16:05.522163",
     "exception": false,
     "start_time": "2024-12-10T17:16:03.676621",
     "status": "completed"
    },
    "tags": []
   },
   "outputs": [],
   "source": [
    "p_interactions_rated = interactions_rated[['user_id', 'book_id']].copy()\n",
    "p_interactions_rated['rating'] = values\n",
    "p_interactions_rated['user_id'] = user_id_encoder.transform(p_interactions_rated['user_id'])\n",
    "p_interactions_rated['book_id'] = book_id_encoder.transform(p_interactions_rated['book_id'])"
   ]
  },
  {
   "cell_type": "code",
   "execution_count": 37,
   "id": "fc4c4002",
   "metadata": {
    "execution": {
     "iopub.execute_input": "2024-12-10T17:16:05.543359Z",
     "iopub.status.busy": "2024-12-10T17:16:05.543062Z",
     "iopub.status.idle": "2024-12-10T17:16:05.555548Z",
     "shell.execute_reply": "2024-12-10T17:16:05.554944Z"
    },
    "papermill": {
     "duration": 0.024908,
     "end_time": "2024-12-10T17:16:05.557138",
     "exception": false,
     "start_time": "2024-12-10T17:16:05.532230",
     "status": "completed"
    },
    "tags": []
   },
   "outputs": [],
   "source": [
    "p1_books_eng = p_books_eng[['categories']].copy()\n",
    "p1_books_eng['book_id'] = np.arange(p1_books_eng.shape[0])"
   ]
  },
  {
   "cell_type": "code",
   "execution_count": 38,
   "id": "60f57c51",
   "metadata": {
    "execution": {
     "iopub.execute_input": "2024-12-10T17:16:05.577824Z",
     "iopub.status.busy": "2024-12-10T17:16:05.577532Z",
     "iopub.status.idle": "2024-12-10T17:16:06.099007Z",
     "shell.execute_reply": "2024-12-10T17:16:06.098166Z"
    },
    "papermill": {
     "duration": 0.533997,
     "end_time": "2024-12-10T17:16:06.100861",
     "exception": false,
     "start_time": "2024-12-10T17:16:05.566864",
     "status": "completed"
    },
    "tags": []
   },
   "outputs": [],
   "source": [
    "interactions_with_categories = p_interactions_rated.merge(p1_books_eng, on='book_id')"
   ]
  },
  {
   "cell_type": "code",
   "execution_count": 39,
   "id": "6319162a",
   "metadata": {
    "execution": {
     "iopub.execute_input": "2024-12-10T17:16:06.122709Z",
     "iopub.status.busy": "2024-12-10T17:16:06.122080Z",
     "iopub.status.idle": "2024-12-10T17:16:06.126390Z",
     "shell.execute_reply": "2024-12-10T17:16:06.125714Z"
    },
    "papermill": {
     "duration": 0.016925,
     "end_time": "2024-12-10T17:16:06.128002",
     "exception": false,
     "start_time": "2024-12-10T17:16:06.111077",
     "status": "completed"
    },
    "tags": []
   },
   "outputs": [],
   "source": [
    "def process_user_categories(user_id, categories, rating):\n",
    "    if rating == 1:\n",
    "        user_categories[user_id]['positive'].update(categories)\n",
    "    else:\n",
    "        user_categories[user_id]['negative'].update(categories)"
   ]
  },
  {
   "cell_type": "code",
   "execution_count": 40,
   "id": "d0e6ad7b",
   "metadata": {
    "execution": {
     "iopub.execute_input": "2024-12-10T17:16:06.148384Z",
     "iopub.status.busy": "2024-12-10T17:16:06.148143Z",
     "iopub.status.idle": "2024-12-10T17:16:53.800429Z",
     "shell.execute_reply": "2024-12-10T17:16:53.799721Z"
    },
    "papermill": {
     "duration": 47.664902,
     "end_time": "2024-12-10T17:16:53.802493",
     "exception": false,
     "start_time": "2024-12-10T17:16:06.137591",
     "status": "completed"
    },
    "tags": []
   },
   "outputs": [],
   "source": [
    "\"\"\"user_categories = ['positive' : counter, 'negative' : counter] of length n_users\"\"\"\n",
    "user_categories = np.array([{'positive' : Counter(), 'negative': Counter()} for _ in range(user_id_encoder.classes_.shape[0])])\n",
    "\n",
    "_ = interactions_with_categories.apply(lambda x : process_user_categories(x['user_id'], x['categories'], x['rating']), axis=1)"
   ]
  },
  {
   "cell_type": "code",
   "execution_count": 41,
   "id": "eff29ff3",
   "metadata": {
    "execution": {
     "iopub.execute_input": "2024-12-10T17:16:53.824099Z",
     "iopub.status.busy": "2024-12-10T17:16:53.823781Z",
     "iopub.status.idle": "2024-12-10T17:16:59.807714Z",
     "shell.execute_reply": "2024-12-10T17:16:59.806666Z"
    },
    "papermill": {
     "duration": 5.997146,
     "end_time": "2024-12-10T17:16:59.809917",
     "exception": false,
     "start_time": "2024-12-10T17:16:53.812771",
     "status": "completed"
    },
    "tags": []
   },
   "outputs": [],
   "source": [
    "user_categories_ratio = np.array([{k : (v['positive'][k] / v['negative'][k]) \n",
    "                                    if k in v['positive'].keys() and k in v['negative'].keys() \n",
    "                                    else v['positive'][k] if k in v['positive'].keys() else 0 \n",
    "                                    for k in v['positive'].keys() | v['negative'].keys()} \n",
    "                                    for v in user_categories])"
   ]
  },
  {
   "cell_type": "code",
   "execution_count": 42,
   "id": "ba1768d8",
   "metadata": {
    "execution": {
     "iopub.execute_input": "2024-12-10T17:16:59.830980Z",
     "iopub.status.busy": "2024-12-10T17:16:59.830636Z",
     "iopub.status.idle": "2024-12-10T17:17:05.407277Z",
     "shell.execute_reply": "2024-12-10T17:17:05.406404Z"
    },
    "papermill": {
     "duration": 5.589308,
     "end_time": "2024-12-10T17:17:05.409378",
     "exception": false,
     "start_time": "2024-12-10T17:16:59.820070",
     "status": "completed"
    },
    "tags": []
   },
   "outputs": [],
   "source": [
    "#user_categories[i]['positive'][k] >= 2 because some categories have only 2 ratings\n",
    "#therefore I assume users liking a 2 or less books in that category like that category\n",
    "user_categories_filtered = [[k for k in user_categories_ratio[i].keys() \n",
    "                             if user_categories_ratio[i][k] >= 1 and user_categories[i]['positive'][k] >= 2]\n",
    "                             for i in range(len(user_categories))]"
   ]
  },
  {
   "cell_type": "code",
   "execution_count": 43,
   "id": "abaca6d9",
   "metadata": {
    "execution": {
     "iopub.execute_input": "2024-12-10T17:17:05.431258Z",
     "iopub.status.busy": "2024-12-10T17:17:05.430978Z",
     "iopub.status.idle": "2024-12-10T17:17:05.474120Z",
     "shell.execute_reply": "2024-12-10T17:17:05.473320Z"
    },
    "papermill": {
     "duration": 0.05605,
     "end_time": "2024-12-10T17:17:05.476108",
     "exception": false,
     "start_time": "2024-12-10T17:17:05.420058",
     "status": "completed"
    },
    "tags": []
   },
   "outputs": [],
   "source": [
    "user_categories_filtered_series = pd.Series(user_categories_filtered)"
   ]
  },
  {
   "cell_type": "code",
   "execution_count": 44,
   "id": "ccb12ebb",
   "metadata": {
    "execution": {
     "iopub.execute_input": "2024-12-10T17:17:05.498273Z",
     "iopub.status.busy": "2024-12-10T17:17:05.497982Z",
     "iopub.status.idle": "2024-12-10T17:17:05.502588Z",
     "shell.execute_reply": "2024-12-10T17:17:05.501748Z"
    },
    "papermill": {
     "duration": 0.017353,
     "end_time": "2024-12-10T17:17:05.504268",
     "exception": false,
     "start_time": "2024-12-10T17:17:05.486915",
     "status": "completed"
    },
    "tags": []
   },
   "outputs": [],
   "source": [
    "user_preprocessing = MostCommonWords(min_count=1, lower=False, \n",
    "                                replace_punctuation=None, replace_number=None, stem=False, is_input_array=True)"
   ]
  },
  {
   "cell_type": "code",
   "execution_count": 45,
   "id": "7b9985f0",
   "metadata": {
    "execution": {
     "iopub.execute_input": "2024-12-10T17:17:05.525535Z",
     "iopub.status.busy": "2024-12-10T17:17:05.524890Z",
     "iopub.status.idle": "2024-12-10T17:17:53.621010Z",
     "shell.execute_reply": "2024-12-10T17:17:53.620215Z"
    },
    "papermill": {
     "duration": 48.109515,
     "end_time": "2024-12-10T17:17:53.623613",
     "exception": false,
     "start_time": "2024-12-10T17:17:05.514098",
     "status": "completed"
    },
    "tags": []
   },
   "outputs": [],
   "source": [
    "user_features = user_preprocessing.fit_transform(user_categories_filtered_series)"
   ]
  },
  {
   "cell_type": "code",
   "execution_count": 46,
   "id": "64a8e091",
   "metadata": {
    "execution": {
     "iopub.execute_input": "2024-12-10T17:17:53.652943Z",
     "iopub.status.busy": "2024-12-10T17:17:53.652645Z",
     "iopub.status.idle": "2024-12-10T17:17:53.657540Z",
     "shell.execute_reply": "2024-12-10T17:17:53.656729Z"
    },
    "papermill": {
     "duration": 0.024696,
     "end_time": "2024-12-10T17:17:53.659232",
     "exception": false,
     "start_time": "2024-12-10T17:17:53.634536",
     "status": "completed"
    },
    "tags": []
   },
   "outputs": [],
   "source": [
    "identity_users = identity(user_features.shape[0], dtype=int)"
   ]
  },
  {
   "cell_type": "code",
   "execution_count": 47,
   "id": "b31cbd8c",
   "metadata": {
    "execution": {
     "iopub.execute_input": "2024-12-10T17:17:53.721001Z",
     "iopub.status.busy": "2024-12-10T17:17:53.720640Z",
     "iopub.status.idle": "2024-12-10T17:17:53.794151Z",
     "shell.execute_reply": "2024-12-10T17:17:53.793398Z"
    },
    "papermill": {
     "duration": 0.086509,
     "end_time": "2024-12-10T17:17:53.796204",
     "exception": false,
     "start_time": "2024-12-10T17:17:53.709695",
     "status": "completed"
    },
    "tags": []
   },
   "outputs": [],
   "source": [
    "p_user_features = hstack([user_features, identity_users], dtype=int)"
   ]
  },
  {
   "cell_type": "code",
   "execution_count": 48,
   "id": "da98428f",
   "metadata": {
    "execution": {
     "iopub.execute_input": "2024-12-10T17:17:53.817318Z",
     "iopub.status.busy": "2024-12-10T17:17:53.817027Z",
     "iopub.status.idle": "2024-12-10T17:17:55.277275Z",
     "shell.execute_reply": "2024-12-10T17:17:55.276320Z"
    },
    "papermill": {
     "duration": 1.472865,
     "end_time": "2024-12-10T17:17:55.279211",
     "exception": false,
     "start_time": "2024-12-10T17:17:53.806346",
     "status": "completed"
    },
    "tags": []
   },
   "outputs": [
    {
     "data": {
      "text/plain": [
       "['user_processing.pkl']"
      ]
     },
     "execution_count": 48,
     "metadata": {},
     "output_type": "execute_result"
    }
   ],
   "source": [
    "save_npz('user_features.npz', p_user_features)\n",
    "joblib.dump(user_preprocessing, 'user_processing.pkl')"
   ]
  }
 ],
 "metadata": {
  "kaggle": {
   "accelerator": "none",
   "dataSources": [
    {
     "datasetId": 6252752,
     "sourceId": 10139509,
     "sourceType": "datasetVersion"
    },
    {
     "sourceId": 202696258,
     "sourceType": "kernelVersion"
    }
   ],
   "dockerImageVersionId": 30786,
   "isGpuEnabled": false,
   "isInternetEnabled": true,
   "language": "python",
   "sourceType": "notebook"
  },
  "kernelspec": {
   "display_name": "Python 3",
   "language": "python",
   "name": "python3"
  },
  "language_info": {
   "codemirror_mode": {
    "name": "ipython",
    "version": 3
   },
   "file_extension": ".py",
   "mimetype": "text/x-python",
   "name": "python",
   "nbconvert_exporter": "python",
   "pygments_lexer": "ipython3",
   "version": "3.10.14"
  },
  "papermill": {
   "default_parameters": {},
   "duration": 816.12864,
   "end_time": "2024-12-10T17:17:59.415251",
   "environment_variables": {},
   "exception": null,
   "input_path": "__notebook__.ipynb",
   "output_path": "__notebook__.ipynb",
   "parameters": {},
   "start_time": "2024-12-10T17:04:23.286611",
   "version": "2.6.0"
  },
  "widgets": {
   "application/vnd.jupyter.widget-state+json": {
    "state": {
     "01494bb56419470fac00fd0675eaf5cf": {
      "model_module": "@jupyter-widgets/controls",
      "model_module_version": "1.5.0",
      "model_name": "HTMLModel",
      "state": {
       "_dom_classes": [],
       "_model_module": "@jupyter-widgets/controls",
       "_model_module_version": "1.5.0",
       "_model_name": "HTMLModel",
       "_view_count": null,
       "_view_module": "@jupyter-widgets/controls",
       "_view_module_version": "1.5.0",
       "_view_name": "HTMLView",
       "description": "",
       "description_tooltip": null,
       "layout": "IPY_MODEL_0404e5d6ba524e5f869e635ab5b25098",
       "placeholder": "​",
       "style": "IPY_MODEL_a01da7a76ed845dfa960999216ca5759",
       "value": "config_sentence_transformers.json: 100%"
      }
     },
     "0404e5d6ba524e5f869e635ab5b25098": {
      "model_module": "@jupyter-widgets/base",
      "model_module_version": "1.2.0",
      "model_name": "LayoutModel",
      "state": {
       "_model_module": "@jupyter-widgets/base",
       "_model_module_version": "1.2.0",
       "_model_name": "LayoutModel",
       "_view_count": null,
       "_view_module": "@jupyter-widgets/base",
       "_view_module_version": "1.2.0",
       "_view_name": "LayoutView",
       "align_content": null,
       "align_items": null,
       "align_self": null,
       "border": null,
       "bottom": null,
       "display": null,
       "flex": null,
       "flex_flow": null,
       "grid_area": null,
       "grid_auto_columns": null,
       "grid_auto_flow": null,
       "grid_auto_rows": null,
       "grid_column": null,
       "grid_gap": null,
       "grid_row": null,
       "grid_template_areas": null,
       "grid_template_columns": null,
       "grid_template_rows": null,
       "height": null,
       "justify_content": null,
       "justify_items": null,
       "left": null,
       "margin": null,
       "max_height": null,
       "max_width": null,
       "min_height": null,
       "min_width": null,
       "object_fit": null,
       "object_position": null,
       "order": null,
       "overflow": null,
       "overflow_x": null,
       "overflow_y": null,
       "padding": null,
       "right": null,
       "top": null,
       "visibility": null,
       "width": null
      }
     },
     "04edb62129dc4b168f04e512a8f61642": {
      "model_module": "@jupyter-widgets/controls",
      "model_module_version": "1.5.0",
      "model_name": "DescriptionStyleModel",
      "state": {
       "_model_module": "@jupyter-widgets/controls",
       "_model_module_version": "1.5.0",
       "_model_name": "DescriptionStyleModel",
       "_view_count": null,
       "_view_module": "@jupyter-widgets/base",
       "_view_module_version": "1.2.0",
       "_view_name": "StyleView",
       "description_width": ""
      }
     },
     "0529e3c92cd544988b7ce8200010b256": {
      "model_module": "@jupyter-widgets/controls",
      "model_module_version": "1.5.0",
      "model_name": "DescriptionStyleModel",
      "state": {
       "_model_module": "@jupyter-widgets/controls",
       "_model_module_version": "1.5.0",
       "_model_name": "DescriptionStyleModel",
       "_view_count": null,
       "_view_module": "@jupyter-widgets/base",
       "_view_module_version": "1.2.0",
       "_view_name": "StyleView",
       "description_width": ""
      }
     },
     "077d087044ed4aaa98ea03476db2259c": {
      "model_module": "@jupyter-widgets/base",
      "model_module_version": "1.2.0",
      "model_name": "LayoutModel",
      "state": {
       "_model_module": "@jupyter-widgets/base",
       "_model_module_version": "1.2.0",
       "_model_name": "LayoutModel",
       "_view_count": null,
       "_view_module": "@jupyter-widgets/base",
       "_view_module_version": "1.2.0",
       "_view_name": "LayoutView",
       "align_content": null,
       "align_items": null,
       "align_self": null,
       "border": null,
       "bottom": null,
       "display": null,
       "flex": null,
       "flex_flow": null,
       "grid_area": null,
       "grid_auto_columns": null,
       "grid_auto_flow": null,
       "grid_auto_rows": null,
       "grid_column": null,
       "grid_gap": null,
       "grid_row": null,
       "grid_template_areas": null,
       "grid_template_columns": null,
       "grid_template_rows": null,
       "height": null,
       "justify_content": null,
       "justify_items": null,
       "left": null,
       "margin": null,
       "max_height": null,
       "max_width": null,
       "min_height": null,
       "min_width": null,
       "object_fit": null,
       "object_position": null,
       "order": null,
       "overflow": null,
       "overflow_x": null,
       "overflow_y": null,
       "padding": null,
       "right": null,
       "top": null,
       "visibility": null,
       "width": null
      }
     },
     "07d73d5b5a3b4c809b7238fa32698e1f": {
      "model_module": "@jupyter-widgets/controls",
      "model_module_version": "1.5.0",
      "model_name": "HBoxModel",
      "state": {
       "_dom_classes": [],
       "_model_module": "@jupyter-widgets/controls",
       "_model_module_version": "1.5.0",
       "_model_name": "HBoxModel",
       "_view_count": null,
       "_view_module": "@jupyter-widgets/controls",
       "_view_module_version": "1.5.0",
       "_view_name": "HBoxView",
       "box_style": "",
       "children": [
        "IPY_MODEL_4b03ba50765a4a89aeb1decef424c25f",
        "IPY_MODEL_bcd956e65bd14331a7360b2e048596da",
        "IPY_MODEL_77f9139665144e0fb2f0c38631f9bd7d"
       ],
       "layout": "IPY_MODEL_ed69a81463804c479c3b174f3f883ded"
      }
     },
     "08636c7287f04091b93755225cedb23d": {
      "model_module": "@jupyter-widgets/controls",
      "model_module_version": "1.5.0",
      "model_name": "FloatProgressModel",
      "state": {
       "_dom_classes": [],
       "_model_module": "@jupyter-widgets/controls",
       "_model_module_version": "1.5.0",
       "_model_name": "FloatProgressModel",
       "_view_count": null,
       "_view_module": "@jupyter-widgets/controls",
       "_view_module_version": "1.5.0",
       "_view_name": "ProgressView",
       "bar_style": "success",
       "description": "",
       "description_tooltip": null,
       "layout": "IPY_MODEL_efc87c2c008f41bd8e25c253bff253aa",
       "max": 53.0,
       "min": 0.0,
       "orientation": "horizontal",
       "style": "IPY_MODEL_b2543c1825da4ad99c5d35f746bff8be",
       "value": 53.0
      }
     },
     "0b86058dc824481eb3072fdf705300af": {
      "model_module": "@jupyter-widgets/controls",
      "model_module_version": "1.5.0",
      "model_name": "DescriptionStyleModel",
      "state": {
       "_model_module": "@jupyter-widgets/controls",
       "_model_module_version": "1.5.0",
       "_model_name": "DescriptionStyleModel",
       "_view_count": null,
       "_view_module": "@jupyter-widgets/base",
       "_view_module_version": "1.2.0",
       "_view_name": "StyleView",
       "description_width": ""
      }
     },
     "0b960877ef684052be7f2e085228b508": {
      "model_module": "@jupyter-widgets/base",
      "model_module_version": "1.2.0",
      "model_name": "LayoutModel",
      "state": {
       "_model_module": "@jupyter-widgets/base",
       "_model_module_version": "1.2.0",
       "_model_name": "LayoutModel",
       "_view_count": null,
       "_view_module": "@jupyter-widgets/base",
       "_view_module_version": "1.2.0",
       "_view_name": "LayoutView",
       "align_content": null,
       "align_items": null,
       "align_self": null,
       "border": null,
       "bottom": null,
       "display": null,
       "flex": null,
       "flex_flow": null,
       "grid_area": null,
       "grid_auto_columns": null,
       "grid_auto_flow": null,
       "grid_auto_rows": null,
       "grid_column": null,
       "grid_gap": null,
       "grid_row": null,
       "grid_template_areas": null,
       "grid_template_columns": null,
       "grid_template_rows": null,
       "height": null,
       "justify_content": null,
       "justify_items": null,
       "left": null,
       "margin": null,
       "max_height": null,
       "max_width": null,
       "min_height": null,
       "min_width": null,
       "object_fit": null,
       "object_position": null,
       "order": null,
       "overflow": null,
       "overflow_x": null,
       "overflow_y": null,
       "padding": null,
       "right": null,
       "top": null,
       "visibility": null,
       "width": null
      }
     },
     "0c9358f12de8435eaa7cf746d23fd003": {
      "model_module": "@jupyter-widgets/controls",
      "model_module_version": "1.5.0",
      "model_name": "DescriptionStyleModel",
      "state": {
       "_model_module": "@jupyter-widgets/controls",
       "_model_module_version": "1.5.0",
       "_model_name": "DescriptionStyleModel",
       "_view_count": null,
       "_view_module": "@jupyter-widgets/base",
       "_view_module_version": "1.2.0",
       "_view_name": "StyleView",
       "description_width": ""
      }
     },
     "0fb6982463cd49fa9ab49b7183c1756b": {
      "model_module": "@jupyter-widgets/base",
      "model_module_version": "1.2.0",
      "model_name": "LayoutModel",
      "state": {
       "_model_module": "@jupyter-widgets/base",
       "_model_module_version": "1.2.0",
       "_model_name": "LayoutModel",
       "_view_count": null,
       "_view_module": "@jupyter-widgets/base",
       "_view_module_version": "1.2.0",
       "_view_name": "LayoutView",
       "align_content": null,
       "align_items": null,
       "align_self": null,
       "border": null,
       "bottom": null,
       "display": null,
       "flex": null,
       "flex_flow": null,
       "grid_area": null,
       "grid_auto_columns": null,
       "grid_auto_flow": null,
       "grid_auto_rows": null,
       "grid_column": null,
       "grid_gap": null,
       "grid_row": null,
       "grid_template_areas": null,
       "grid_template_columns": null,
       "grid_template_rows": null,
       "height": null,
       "justify_content": null,
       "justify_items": null,
       "left": null,
       "margin": null,
       "max_height": null,
       "max_width": null,
       "min_height": null,
       "min_width": null,
       "object_fit": null,
       "object_position": null,
       "order": null,
       "overflow": null,
       "overflow_x": null,
       "overflow_y": null,
       "padding": null,
       "right": null,
       "top": null,
       "visibility": null,
       "width": null
      }
     },
     "10fe85dc75e34f57b37514d6aed3a807": {
      "model_module": "@jupyter-widgets/base",
      "model_module_version": "1.2.0",
      "model_name": "LayoutModel",
      "state": {
       "_model_module": "@jupyter-widgets/base",
       "_model_module_version": "1.2.0",
       "_model_name": "LayoutModel",
       "_view_count": null,
       "_view_module": "@jupyter-widgets/base",
       "_view_module_version": "1.2.0",
       "_view_name": "LayoutView",
       "align_content": null,
       "align_items": null,
       "align_self": null,
       "border": null,
       "bottom": null,
       "display": null,
       "flex": null,
       "flex_flow": null,
       "grid_area": null,
       "grid_auto_columns": null,
       "grid_auto_flow": null,
       "grid_auto_rows": null,
       "grid_column": null,
       "grid_gap": null,
       "grid_row": null,
       "grid_template_areas": null,
       "grid_template_columns": null,
       "grid_template_rows": null,
       "height": null,
       "justify_content": null,
       "justify_items": null,
       "left": null,
       "margin": null,
       "max_height": null,
       "max_width": null,
       "min_height": null,
       "min_width": null,
       "object_fit": null,
       "object_position": null,
       "order": null,
       "overflow": null,
       "overflow_x": null,
       "overflow_y": null,
       "padding": null,
       "right": null,
       "top": null,
       "visibility": null,
       "width": null
      }
     },
     "13d8516119494b10abe7c3e97b10a1ec": {
      "model_module": "@jupyter-widgets/base",
      "model_module_version": "1.2.0",
      "model_name": "LayoutModel",
      "state": {
       "_model_module": "@jupyter-widgets/base",
       "_model_module_version": "1.2.0",
       "_model_name": "LayoutModel",
       "_view_count": null,
       "_view_module": "@jupyter-widgets/base",
       "_view_module_version": "1.2.0",
       "_view_name": "LayoutView",
       "align_content": null,
       "align_items": null,
       "align_self": null,
       "border": null,
       "bottom": null,
       "display": null,
       "flex": null,
       "flex_flow": null,
       "grid_area": null,
       "grid_auto_columns": null,
       "grid_auto_flow": null,
       "grid_auto_rows": null,
       "grid_column": null,
       "grid_gap": null,
       "grid_row": null,
       "grid_template_areas": null,
       "grid_template_columns": null,
       "grid_template_rows": null,
       "height": null,
       "justify_content": null,
       "justify_items": null,
       "left": null,
       "margin": null,
       "max_height": null,
       "max_width": null,
       "min_height": null,
       "min_width": null,
       "object_fit": null,
       "object_position": null,
       "order": null,
       "overflow": null,
       "overflow_x": null,
       "overflow_y": null,
       "padding": null,
       "right": null,
       "top": null,
       "visibility": null,
       "width": null
      }
     },
     "147746a0e935454b9630e45c832e05be": {
      "model_module": "@jupyter-widgets/base",
      "model_module_version": "1.2.0",
      "model_name": "LayoutModel",
      "state": {
       "_model_module": "@jupyter-widgets/base",
       "_model_module_version": "1.2.0",
       "_model_name": "LayoutModel",
       "_view_count": null,
       "_view_module": "@jupyter-widgets/base",
       "_view_module_version": "1.2.0",
       "_view_name": "LayoutView",
       "align_content": null,
       "align_items": null,
       "align_self": null,
       "border": null,
       "bottom": null,
       "display": null,
       "flex": null,
       "flex_flow": null,
       "grid_area": null,
       "grid_auto_columns": null,
       "grid_auto_flow": null,
       "grid_auto_rows": null,
       "grid_column": null,
       "grid_gap": null,
       "grid_row": null,
       "grid_template_areas": null,
       "grid_template_columns": null,
       "grid_template_rows": null,
       "height": null,
       "justify_content": null,
       "justify_items": null,
       "left": null,
       "margin": null,
       "max_height": null,
       "max_width": null,
       "min_height": null,
       "min_width": null,
       "object_fit": null,
       "object_position": null,
       "order": null,
       "overflow": null,
       "overflow_x": null,
       "overflow_y": null,
       "padding": null,
       "right": null,
       "top": null,
       "visibility": null,
       "width": null
      }
     },
     "1652271fef1f4005b143149b4424b894": {
      "model_module": "@jupyter-widgets/controls",
      "model_module_version": "1.5.0",
      "model_name": "ProgressStyleModel",
      "state": {
       "_model_module": "@jupyter-widgets/controls",
       "_model_module_version": "1.5.0",
       "_model_name": "ProgressStyleModel",
       "_view_count": null,
       "_view_module": "@jupyter-widgets/base",
       "_view_module_version": "1.2.0",
       "_view_name": "StyleView",
       "bar_color": null,
       "description_width": ""
      }
     },
     "169faf59650447a8a5fe14f348daedac": {
      "model_module": "@jupyter-widgets/base",
      "model_module_version": "1.2.0",
      "model_name": "LayoutModel",
      "state": {
       "_model_module": "@jupyter-widgets/base",
       "_model_module_version": "1.2.0",
       "_model_name": "LayoutModel",
       "_view_count": null,
       "_view_module": "@jupyter-widgets/base",
       "_view_module_version": "1.2.0",
       "_view_name": "LayoutView",
       "align_content": null,
       "align_items": null,
       "align_self": null,
       "border": null,
       "bottom": null,
       "display": null,
       "flex": null,
       "flex_flow": null,
       "grid_area": null,
       "grid_auto_columns": null,
       "grid_auto_flow": null,
       "grid_auto_rows": null,
       "grid_column": null,
       "grid_gap": null,
       "grid_row": null,
       "grid_template_areas": null,
       "grid_template_columns": null,
       "grid_template_rows": null,
       "height": null,
       "justify_content": null,
       "justify_items": null,
       "left": null,
       "margin": null,
       "max_height": null,
       "max_width": null,
       "min_height": null,
       "min_width": null,
       "object_fit": null,
       "object_position": null,
       "order": null,
       "overflow": null,
       "overflow_x": null,
       "overflow_y": null,
       "padding": null,
       "right": null,
       "top": null,
       "visibility": null,
       "width": null
      }
     },
     "182382eb6ad84097b3a87144e2a86e9d": {
      "model_module": "@jupyter-widgets/controls",
      "model_module_version": "1.5.0",
      "model_name": "FloatProgressModel",
      "state": {
       "_dom_classes": [],
       "_model_module": "@jupyter-widgets/controls",
       "_model_module_version": "1.5.0",
       "_model_name": "FloatProgressModel",
       "_view_count": null,
       "_view_module": "@jupyter-widgets/controls",
       "_view_module_version": "1.5.0",
       "_view_name": "ProgressView",
       "bar_style": "success",
       "description": "",
       "description_tooltip": null,
       "layout": "IPY_MODEL_26af22d8f3d5453c80c57a893dd8bfc8",
       "max": 349.0,
       "min": 0.0,
       "orientation": "horizontal",
       "style": "IPY_MODEL_c0583405ef7f4bc399c04db67f46a5ef",
       "value": 349.0
      }
     },
     "18a0da09f1284e7a9f9f4adaa7993265": {
      "model_module": "@jupyter-widgets/controls",
      "model_module_version": "1.5.0",
      "model_name": "HBoxModel",
      "state": {
       "_dom_classes": [],
       "_model_module": "@jupyter-widgets/controls",
       "_model_module_version": "1.5.0",
       "_model_name": "HBoxModel",
       "_view_count": null,
       "_view_module": "@jupyter-widgets/controls",
       "_view_module_version": "1.5.0",
       "_view_name": "HBoxView",
       "box_style": "",
       "children": [
        "IPY_MODEL_ce724109e1ce48f2bf64e41a9a718b93",
        "IPY_MODEL_ef21613d580a40049c3259a55cf92797",
        "IPY_MODEL_d3276581a0054077bc581d64606f572c"
       ],
       "layout": "IPY_MODEL_58201116ecad46dbaa77e06abad8f174"
      }
     },
     "1a074b4e11824df5a7fe4ee28b02efe5": {
      "model_module": "@jupyter-widgets/controls",
      "model_module_version": "1.5.0",
      "model_name": "DescriptionStyleModel",
      "state": {
       "_model_module": "@jupyter-widgets/controls",
       "_model_module_version": "1.5.0",
       "_model_name": "DescriptionStyleModel",
       "_view_count": null,
       "_view_module": "@jupyter-widgets/base",
       "_view_module_version": "1.2.0",
       "_view_name": "StyleView",
       "description_width": ""
      }
     },
     "2181c7a0688245d0b5532cac6f84e02e": {
      "model_module": "@jupyter-widgets/base",
      "model_module_version": "1.2.0",
      "model_name": "LayoutModel",
      "state": {
       "_model_module": "@jupyter-widgets/base",
       "_model_module_version": "1.2.0",
       "_model_name": "LayoutModel",
       "_view_count": null,
       "_view_module": "@jupyter-widgets/base",
       "_view_module_version": "1.2.0",
       "_view_name": "LayoutView",
       "align_content": null,
       "align_items": null,
       "align_self": null,
       "border": null,
       "bottom": null,
       "display": null,
       "flex": null,
       "flex_flow": null,
       "grid_area": null,
       "grid_auto_columns": null,
       "grid_auto_flow": null,
       "grid_auto_rows": null,
       "grid_column": null,
       "grid_gap": null,
       "grid_row": null,
       "grid_template_areas": null,
       "grid_template_columns": null,
       "grid_template_rows": null,
       "height": null,
       "justify_content": null,
       "justify_items": null,
       "left": null,
       "margin": null,
       "max_height": null,
       "max_width": null,
       "min_height": null,
       "min_width": null,
       "object_fit": null,
       "object_position": null,
       "order": null,
       "overflow": null,
       "overflow_x": null,
       "overflow_y": null,
       "padding": null,
       "right": null,
       "top": null,
       "visibility": null,
       "width": null
      }
     },
     "245b5c69507341ccb04bbc719f43d627": {
      "model_module": "@jupyter-widgets/controls",
      "model_module_version": "1.5.0",
      "model_name": "DescriptionStyleModel",
      "state": {
       "_model_module": "@jupyter-widgets/controls",
       "_model_module_version": "1.5.0",
       "_model_name": "DescriptionStyleModel",
       "_view_count": null,
       "_view_module": "@jupyter-widgets/base",
       "_view_module_version": "1.2.0",
       "_view_name": "StyleView",
       "description_width": ""
      }
     },
     "26af22d8f3d5453c80c57a893dd8bfc8": {
      "model_module": "@jupyter-widgets/base",
      "model_module_version": "1.2.0",
      "model_name": "LayoutModel",
      "state": {
       "_model_module": "@jupyter-widgets/base",
       "_model_module_version": "1.2.0",
       "_model_name": "LayoutModel",
       "_view_count": null,
       "_view_module": "@jupyter-widgets/base",
       "_view_module_version": "1.2.0",
       "_view_name": "LayoutView",
       "align_content": null,
       "align_items": null,
       "align_self": null,
       "border": null,
       "bottom": null,
       "display": null,
       "flex": null,
       "flex_flow": null,
       "grid_area": null,
       "grid_auto_columns": null,
       "grid_auto_flow": null,
       "grid_auto_rows": null,
       "grid_column": null,
       "grid_gap": null,
       "grid_row": null,
       "grid_template_areas": null,
       "grid_template_columns": null,
       "grid_template_rows": null,
       "height": null,
       "justify_content": null,
       "justify_items": null,
       "left": null,
       "margin": null,
       "max_height": null,
       "max_width": null,
       "min_height": null,
       "min_width": null,
       "object_fit": null,
       "object_position": null,
       "order": null,
       "overflow": null,
       "overflow_x": null,
       "overflow_y": null,
       "padding": null,
       "right": null,
       "top": null,
       "visibility": null,
       "width": null
      }
     },
     "281fb3a695ff49699c9504d461d1120f": {
      "model_module": "@jupyter-widgets/controls",
      "model_module_version": "1.5.0",
      "model_name": "ProgressStyleModel",
      "state": {
       "_model_module": "@jupyter-widgets/controls",
       "_model_module_version": "1.5.0",
       "_model_name": "ProgressStyleModel",
       "_view_count": null,
       "_view_module": "@jupyter-widgets/base",
       "_view_module_version": "1.2.0",
       "_view_name": "StyleView",
       "bar_color": null,
       "description_width": ""
      }
     },
     "2908b32563c94662bacac95f60b08382": {
      "model_module": "@jupyter-widgets/controls",
      "model_module_version": "1.5.0",
      "model_name": "DescriptionStyleModel",
      "state": {
       "_model_module": "@jupyter-widgets/controls",
       "_model_module_version": "1.5.0",
       "_model_name": "DescriptionStyleModel",
       "_view_count": null,
       "_view_module": "@jupyter-widgets/base",
       "_view_module_version": "1.2.0",
       "_view_name": "StyleView",
       "description_width": ""
      }
     },
     "2928940674b34b0e9e5dec48440baa42": {
      "model_module": "@jupyter-widgets/controls",
      "model_module_version": "1.5.0",
      "model_name": "HTMLModel",
      "state": {
       "_dom_classes": [],
       "_model_module": "@jupyter-widgets/controls",
       "_model_module_version": "1.5.0",
       "_model_name": "HTMLModel",
       "_view_count": null,
       "_view_module": "@jupyter-widgets/controls",
       "_view_module_version": "1.5.0",
       "_view_name": "HTMLView",
       "description": "",
       "description_tooltip": null,
       "layout": "IPY_MODEL_3e0240e5e3da4fb2b4d6b3b4f031df37",
       "placeholder": "​",
       "style": "IPY_MODEL_6563abdd153f427eb3b938ba9febfb88",
       "value": " 190/190 [00:00&lt;00:00, 18.6kB/s]"
      }
     },
     "2bca7f0079254a5daf75e9c73338a4e6": {
      "model_module": "@jupyter-widgets/base",
      "model_module_version": "1.2.0",
      "model_name": "LayoutModel",
      "state": {
       "_model_module": "@jupyter-widgets/base",
       "_model_module_version": "1.2.0",
       "_model_name": "LayoutModel",
       "_view_count": null,
       "_view_module": "@jupyter-widgets/base",
       "_view_module_version": "1.2.0",
       "_view_name": "LayoutView",
       "align_content": null,
       "align_items": null,
       "align_self": null,
       "border": null,
       "bottom": null,
       "display": null,
       "flex": null,
       "flex_flow": null,
       "grid_area": null,
       "grid_auto_columns": null,
       "grid_auto_flow": null,
       "grid_auto_rows": null,
       "grid_column": null,
       "grid_gap": null,
       "grid_row": null,
       "grid_template_areas": null,
       "grid_template_columns": null,
       "grid_template_rows": null,
       "height": null,
       "justify_content": null,
       "justify_items": null,
       "left": null,
       "margin": null,
       "max_height": null,
       "max_width": null,
       "min_height": null,
       "min_width": null,
       "object_fit": null,
       "object_position": null,
       "order": null,
       "overflow": null,
       "overflow_x": null,
       "overflow_y": null,
       "padding": null,
       "right": null,
       "top": null,
       "visibility": null,
       "width": null
      }
     },
     "2c864a185b8443cc8bbd9b9e24947cc2": {
      "model_module": "@jupyter-widgets/base",
      "model_module_version": "1.2.0",
      "model_name": "LayoutModel",
      "state": {
       "_model_module": "@jupyter-widgets/base",
       "_model_module_version": "1.2.0",
       "_model_name": "LayoutModel",
       "_view_count": null,
       "_view_module": "@jupyter-widgets/base",
       "_view_module_version": "1.2.0",
       "_view_name": "LayoutView",
       "align_content": null,
       "align_items": null,
       "align_self": null,
       "border": null,
       "bottom": null,
       "display": null,
       "flex": null,
       "flex_flow": null,
       "grid_area": null,
       "grid_auto_columns": null,
       "grid_auto_flow": null,
       "grid_auto_rows": null,
       "grid_column": null,
       "grid_gap": null,
       "grid_row": null,
       "grid_template_areas": null,
       "grid_template_columns": null,
       "grid_template_rows": null,
       "height": null,
       "justify_content": null,
       "justify_items": null,
       "left": null,
       "margin": null,
       "max_height": null,
       "max_width": null,
       "min_height": null,
       "min_width": null,
       "object_fit": null,
       "object_position": null,
       "order": null,
       "overflow": null,
       "overflow_x": null,
       "overflow_y": null,
       "padding": null,
       "right": null,
       "top": null,
       "visibility": null,
       "width": null
      }
     },
     "3107c8b38d61432398500fded5d92833": {
      "model_module": "@jupyter-widgets/controls",
      "model_module_version": "1.5.0",
      "model_name": "DescriptionStyleModel",
      "state": {
       "_model_module": "@jupyter-widgets/controls",
       "_model_module_version": "1.5.0",
       "_model_name": "DescriptionStyleModel",
       "_view_count": null,
       "_view_module": "@jupyter-widgets/base",
       "_view_module_version": "1.2.0",
       "_view_name": "StyleView",
       "description_width": ""
      }
     },
     "355fe75d15a841d49b0a321b20722302": {
      "model_module": "@jupyter-widgets/base",
      "model_module_version": "1.2.0",
      "model_name": "LayoutModel",
      "state": {
       "_model_module": "@jupyter-widgets/base",
       "_model_module_version": "1.2.0",
       "_model_name": "LayoutModel",
       "_view_count": null,
       "_view_module": "@jupyter-widgets/base",
       "_view_module_version": "1.2.0",
       "_view_name": "LayoutView",
       "align_content": null,
       "align_items": null,
       "align_self": null,
       "border": null,
       "bottom": null,
       "display": null,
       "flex": null,
       "flex_flow": null,
       "grid_area": null,
       "grid_auto_columns": null,
       "grid_auto_flow": null,
       "grid_auto_rows": null,
       "grid_column": null,
       "grid_gap": null,
       "grid_row": null,
       "grid_template_areas": null,
       "grid_template_columns": null,
       "grid_template_rows": null,
       "height": null,
       "justify_content": null,
       "justify_items": null,
       "left": null,
       "margin": null,
       "max_height": null,
       "max_width": null,
       "min_height": null,
       "min_width": null,
       "object_fit": null,
       "object_position": null,
       "order": null,
       "overflow": null,
       "overflow_x": null,
       "overflow_y": null,
       "padding": null,
       "right": null,
       "top": null,
       "visibility": null,
       "width": null
      }
     },
     "35c2aa727b394f249843ce303bfb3362": {
      "model_module": "@jupyter-widgets/controls",
      "model_module_version": "1.5.0",
      "model_name": "DescriptionStyleModel",
      "state": {
       "_model_module": "@jupyter-widgets/controls",
       "_model_module_version": "1.5.0",
       "_model_name": "DescriptionStyleModel",
       "_view_count": null,
       "_view_module": "@jupyter-widgets/base",
       "_view_module_version": "1.2.0",
       "_view_name": "StyleView",
       "description_width": ""
      }
     },
     "3621d6bd369743f5bcfdb2edc96634bb": {
      "model_module": "@jupyter-widgets/controls",
      "model_module_version": "1.5.0",
      "model_name": "DescriptionStyleModel",
      "state": {
       "_model_module": "@jupyter-widgets/controls",
       "_model_module_version": "1.5.0",
       "_model_name": "DescriptionStyleModel",
       "_view_count": null,
       "_view_module": "@jupyter-widgets/base",
       "_view_module_version": "1.2.0",
       "_view_name": "StyleView",
       "description_width": ""
      }
     },
     "39e92aaceb824d3a9ccd2729c17cf324": {
      "model_module": "@jupyter-widgets/controls",
      "model_module_version": "1.5.0",
      "model_name": "FloatProgressModel",
      "state": {
       "_dom_classes": [],
       "_model_module": "@jupyter-widgets/controls",
       "_model_module_version": "1.5.0",
       "_model_name": "FloatProgressModel",
       "_view_count": null,
       "_view_module": "@jupyter-widgets/controls",
       "_view_module_version": "1.5.0",
       "_view_name": "ProgressView",
       "bar_style": "success",
       "description": "",
       "description_tooltip": null,
       "layout": "IPY_MODEL_f781022cc3b04e3dba53ea70aa114500",
       "max": 116.0,
       "min": 0.0,
       "orientation": "horizontal",
       "style": "IPY_MODEL_46b609488ede4463ab7a1a88acf9b1b0",
       "value": 116.0
      }
     },
     "3dc50d2b9ea44ff9a2bcbbe99f339fb8": {
      "model_module": "@jupyter-widgets/controls",
      "model_module_version": "1.5.0",
      "model_name": "DescriptionStyleModel",
      "state": {
       "_model_module": "@jupyter-widgets/controls",
       "_model_module_version": "1.5.0",
       "_model_name": "DescriptionStyleModel",
       "_view_count": null,
       "_view_module": "@jupyter-widgets/base",
       "_view_module_version": "1.2.0",
       "_view_name": "StyleView",
       "description_width": ""
      }
     },
     "3de2e3e2ac054cd7b5be3a6e3a7ec15d": {
      "model_module": "@jupyter-widgets/base",
      "model_module_version": "1.2.0",
      "model_name": "LayoutModel",
      "state": {
       "_model_module": "@jupyter-widgets/base",
       "_model_module_version": "1.2.0",
       "_model_name": "LayoutModel",
       "_view_count": null,
       "_view_module": "@jupyter-widgets/base",
       "_view_module_version": "1.2.0",
       "_view_name": "LayoutView",
       "align_content": null,
       "align_items": null,
       "align_self": null,
       "border": null,
       "bottom": null,
       "display": null,
       "flex": null,
       "flex_flow": null,
       "grid_area": null,
       "grid_auto_columns": null,
       "grid_auto_flow": null,
       "grid_auto_rows": null,
       "grid_column": null,
       "grid_gap": null,
       "grid_row": null,
       "grid_template_areas": null,
       "grid_template_columns": null,
       "grid_template_rows": null,
       "height": null,
       "justify_content": null,
       "justify_items": null,
       "left": null,
       "margin": null,
       "max_height": null,
       "max_width": null,
       "min_height": null,
       "min_width": null,
       "object_fit": null,
       "object_position": null,
       "order": null,
       "overflow": null,
       "overflow_x": null,
       "overflow_y": null,
       "padding": null,
       "right": null,
       "top": null,
       "visibility": null,
       "width": null
      }
     },
     "3e0240e5e3da4fb2b4d6b3b4f031df37": {
      "model_module": "@jupyter-widgets/base",
      "model_module_version": "1.2.0",
      "model_name": "LayoutModel",
      "state": {
       "_model_module": "@jupyter-widgets/base",
       "_model_module_version": "1.2.0",
       "_model_name": "LayoutModel",
       "_view_count": null,
       "_view_module": "@jupyter-widgets/base",
       "_view_module_version": "1.2.0",
       "_view_name": "LayoutView",
       "align_content": null,
       "align_items": null,
       "align_self": null,
       "border": null,
       "bottom": null,
       "display": null,
       "flex": null,
       "flex_flow": null,
       "grid_area": null,
       "grid_auto_columns": null,
       "grid_auto_flow": null,
       "grid_auto_rows": null,
       "grid_column": null,
       "grid_gap": null,
       "grid_row": null,
       "grid_template_areas": null,
       "grid_template_columns": null,
       "grid_template_rows": null,
       "height": null,
       "justify_content": null,
       "justify_items": null,
       "left": null,
       "margin": null,
       "max_height": null,
       "max_width": null,
       "min_height": null,
       "min_width": null,
       "object_fit": null,
       "object_position": null,
       "order": null,
       "overflow": null,
       "overflow_x": null,
       "overflow_y": null,
       "padding": null,
       "right": null,
       "top": null,
       "visibility": null,
       "width": null
      }
     },
     "41b3c5e57b894018ac1f9a6d8e0fe37b": {
      "model_module": "@jupyter-widgets/controls",
      "model_module_version": "1.5.0",
      "model_name": "HTMLModel",
      "state": {
       "_dom_classes": [],
       "_model_module": "@jupyter-widgets/controls",
       "_model_module_version": "1.5.0",
       "_model_name": "HTMLModel",
       "_view_count": null,
       "_view_module": "@jupyter-widgets/controls",
       "_view_module_version": "1.5.0",
       "_view_name": "HTMLView",
       "description": "",
       "description_tooltip": null,
       "layout": "IPY_MODEL_efbbc2e3616f43f9837b93b8f82e18b4",
       "placeholder": "​",
       "style": "IPY_MODEL_1a074b4e11824df5a7fe4ee28b02efe5",
       "value": " 10.6k/10.6k [00:00&lt;00:00, 1.07MB/s]"
      }
     },
     "42a5321ee0774cae9edb6c9ec09e941e": {
      "model_module": "@jupyter-widgets/controls",
      "model_module_version": "1.5.0",
      "model_name": "HTMLModel",
      "state": {
       "_dom_classes": [],
       "_model_module": "@jupyter-widgets/controls",
       "_model_module_version": "1.5.0",
       "_model_name": "HTMLModel",
       "_view_count": null,
       "_view_module": "@jupyter-widgets/controls",
       "_view_module_version": "1.5.0",
       "_view_name": "HTMLView",
       "description": "",
       "description_tooltip": null,
       "layout": "IPY_MODEL_7148bdd781de424eb03c5784f8993ba9",
       "placeholder": "​",
       "style": "IPY_MODEL_980e4ff19e7e43e8a9728ddd5cb22a63",
       "value": " 571/571 [00:00&lt;00:00, 49.2kB/s]"
      }
     },
     "433093ae2bbe4cfdaecd9c41ae86f28c": {
      "model_module": "@jupyter-widgets/controls",
      "model_module_version": "1.5.0",
      "model_name": "ProgressStyleModel",
      "state": {
       "_model_module": "@jupyter-widgets/controls",
       "_model_module_version": "1.5.0",
       "_model_name": "ProgressStyleModel",
       "_view_count": null,
       "_view_module": "@jupyter-widgets/base",
       "_view_module_version": "1.2.0",
       "_view_name": "StyleView",
       "bar_color": null,
       "description_width": ""
      }
     },
     "44e40618fdce4852a66357021e235175": {
      "model_module": "@jupyter-widgets/base",
      "model_module_version": "1.2.0",
      "model_name": "LayoutModel",
      "state": {
       "_model_module": "@jupyter-widgets/base",
       "_model_module_version": "1.2.0",
       "_model_name": "LayoutModel",
       "_view_count": null,
       "_view_module": "@jupyter-widgets/base",
       "_view_module_version": "1.2.0",
       "_view_name": "LayoutView",
       "align_content": null,
       "align_items": null,
       "align_self": null,
       "border": null,
       "bottom": null,
       "display": null,
       "flex": null,
       "flex_flow": null,
       "grid_area": null,
       "grid_auto_columns": null,
       "grid_auto_flow": null,
       "grid_auto_rows": null,
       "grid_column": null,
       "grid_gap": null,
       "grid_row": null,
       "grid_template_areas": null,
       "grid_template_columns": null,
       "grid_template_rows": null,
       "height": null,
       "justify_content": null,
       "justify_items": null,
       "left": null,
       "margin": null,
       "max_height": null,
       "max_width": null,
       "min_height": null,
       "min_width": null,
       "object_fit": null,
       "object_position": null,
       "order": null,
       "overflow": null,
       "overflow_x": null,
       "overflow_y": null,
       "padding": null,
       "right": null,
       "top": null,
       "visibility": null,
       "width": null
      }
     },
     "46b609488ede4463ab7a1a88acf9b1b0": {
      "model_module": "@jupyter-widgets/controls",
      "model_module_version": "1.5.0",
      "model_name": "ProgressStyleModel",
      "state": {
       "_model_module": "@jupyter-widgets/controls",
       "_model_module_version": "1.5.0",
       "_model_name": "ProgressStyleModel",
       "_view_count": null,
       "_view_module": "@jupyter-widgets/base",
       "_view_module_version": "1.2.0",
       "_view_name": "StyleView",
       "bar_color": null,
       "description_width": ""
      }
     },
     "46be74af9bad4bb7b43d6a489939e8c8": {
      "model_module": "@jupyter-widgets/controls",
      "model_module_version": "1.5.0",
      "model_name": "HTMLModel",
      "state": {
       "_dom_classes": [],
       "_model_module": "@jupyter-widgets/controls",
       "_model_module_version": "1.5.0",
       "_model_name": "HTMLModel",
       "_view_count": null,
       "_view_module": "@jupyter-widgets/controls",
       "_view_module_version": "1.5.0",
       "_view_name": "HTMLView",
       "description": "",
       "description_tooltip": null,
       "layout": "IPY_MODEL_10fe85dc75e34f57b37514d6aed3a807",
       "placeholder": "​",
       "style": "IPY_MODEL_245b5c69507341ccb04bbc719f43d627",
       "value": " 438M/438M [00:01&lt;00:00, 222MB/s]"
      }
     },
     "4b03ba50765a4a89aeb1decef424c25f": {
      "model_module": "@jupyter-widgets/controls",
      "model_module_version": "1.5.0",
      "model_name": "HTMLModel",
      "state": {
       "_dom_classes": [],
       "_model_module": "@jupyter-widgets/controls",
       "_model_module_version": "1.5.0",
       "_model_name": "HTMLModel",
       "_view_count": null,
       "_view_module": "@jupyter-widgets/controls",
       "_view_module_version": "1.5.0",
       "_view_name": "HTMLView",
       "description": "",
       "description_tooltip": null,
       "layout": "IPY_MODEL_d7b594b982ed49028febaa09008e6c76",
       "placeholder": "​",
       "style": "IPY_MODEL_aa82ded179a5452782c54cc4381c2406",
       "value": "Batches: 100%"
      }
     },
     "4c137d0b370a4cf6b48638a52c2d92a4": {
      "model_module": "@jupyter-widgets/base",
      "model_module_version": "1.2.0",
      "model_name": "LayoutModel",
      "state": {
       "_model_module": "@jupyter-widgets/base",
       "_model_module_version": "1.2.0",
       "_model_name": "LayoutModel",
       "_view_count": null,
       "_view_module": "@jupyter-widgets/base",
       "_view_module_version": "1.2.0",
       "_view_name": "LayoutView",
       "align_content": null,
       "align_items": null,
       "align_self": null,
       "border": null,
       "bottom": null,
       "display": null,
       "flex": null,
       "flex_flow": null,
       "grid_area": null,
       "grid_auto_columns": null,
       "grid_auto_flow": null,
       "grid_auto_rows": null,
       "grid_column": null,
       "grid_gap": null,
       "grid_row": null,
       "grid_template_areas": null,
       "grid_template_columns": null,
       "grid_template_rows": null,
       "height": null,
       "justify_content": null,
       "justify_items": null,
       "left": null,
       "margin": null,
       "max_height": null,
       "max_width": null,
       "min_height": null,
       "min_width": null,
       "object_fit": null,
       "object_position": null,
       "order": null,
       "overflow": null,
       "overflow_x": null,
       "overflow_y": null,
       "padding": null,
       "right": null,
       "top": null,
       "visibility": null,
       "width": null
      }
     },
     "4c16193ea4e9432390b8ecf558588b41": {
      "model_module": "@jupyter-widgets/controls",
      "model_module_version": "1.5.0",
      "model_name": "HTMLModel",
      "state": {
       "_dom_classes": [],
       "_model_module": "@jupyter-widgets/controls",
       "_model_module_version": "1.5.0",
       "_model_name": "HTMLModel",
       "_view_count": null,
       "_view_module": "@jupyter-widgets/controls",
       "_view_module_version": "1.5.0",
       "_view_name": "HTMLView",
       "description": "",
       "description_tooltip": null,
       "layout": "IPY_MODEL_0fb6982463cd49fa9ab49b7183c1756b",
       "placeholder": "​",
       "style": "IPY_MODEL_ddf957e1a5f34601b26e883edde368ee",
       "value": "Batches: 100%"
      }
     },
     "50a9462294294656aa8f5c19dd09ad03": {
      "model_module": "@jupyter-widgets/controls",
      "model_module_version": "1.5.0",
      "model_name": "HTMLModel",
      "state": {
       "_dom_classes": [],
       "_model_module": "@jupyter-widgets/controls",
       "_model_module_version": "1.5.0",
       "_model_name": "HTMLModel",
       "_view_count": null,
       "_view_module": "@jupyter-widgets/controls",
       "_view_module_version": "1.5.0",
       "_view_name": "HTMLView",
       "description": "",
       "description_tooltip": null,
       "layout": "IPY_MODEL_7fb479aa642848c986688b8c15f11f05",
       "placeholder": "​",
       "style": "IPY_MODEL_3107c8b38d61432398500fded5d92833",
       "value": "vocab.txt: 100%"
      }
     },
     "53e68a1be1ff46eb92a3d607754e8d33": {
      "model_module": "@jupyter-widgets/controls",
      "model_module_version": "1.5.0",
      "model_name": "FloatProgressModel",
      "state": {
       "_dom_classes": [],
       "_model_module": "@jupyter-widgets/controls",
       "_model_module_version": "1.5.0",
       "_model_name": "FloatProgressModel",
       "_view_count": null,
       "_view_module": "@jupyter-widgets/controls",
       "_view_module_version": "1.5.0",
       "_view_name": "ProgressView",
       "bar_style": "success",
       "description": "",
       "description_tooltip": null,
       "layout": "IPY_MODEL_077d087044ed4aaa98ea03476db2259c",
       "max": 10621.0,
       "min": 0.0,
       "orientation": "horizontal",
       "style": "IPY_MODEL_c6d8d1c0f5054d87ad4dac9fb8cb8e4e",
       "value": 10621.0
      }
     },
     "58201116ecad46dbaa77e06abad8f174": {
      "model_module": "@jupyter-widgets/base",
      "model_module_version": "1.2.0",
      "model_name": "LayoutModel",
      "state": {
       "_model_module": "@jupyter-widgets/base",
       "_model_module_version": "1.2.0",
       "_model_name": "LayoutModel",
       "_view_count": null,
       "_view_module": "@jupyter-widgets/base",
       "_view_module_version": "1.2.0",
       "_view_name": "LayoutView",
       "align_content": null,
       "align_items": null,
       "align_self": null,
       "border": null,
       "bottom": null,
       "display": null,
       "flex": null,
       "flex_flow": null,
       "grid_area": null,
       "grid_auto_columns": null,
       "grid_auto_flow": null,
       "grid_auto_rows": null,
       "grid_column": null,
       "grid_gap": null,
       "grid_row": null,
       "grid_template_areas": null,
       "grid_template_columns": null,
       "grid_template_rows": null,
       "height": null,
       "justify_content": null,
       "justify_items": null,
       "left": null,
       "margin": null,
       "max_height": null,
       "max_width": null,
       "min_height": null,
       "min_width": null,
       "object_fit": null,
       "object_position": null,
       "order": null,
       "overflow": null,
       "overflow_x": null,
       "overflow_y": null,
       "padding": null,
       "right": null,
       "top": null,
       "visibility": null,
       "width": null
      }
     },
     "5baaea977424470c97250c446ffd7640": {
      "model_module": "@jupyter-widgets/base",
      "model_module_version": "1.2.0",
      "model_name": "LayoutModel",
      "state": {
       "_model_module": "@jupyter-widgets/base",
       "_model_module_version": "1.2.0",
       "_model_name": "LayoutModel",
       "_view_count": null,
       "_view_module": "@jupyter-widgets/base",
       "_view_module_version": "1.2.0",
       "_view_name": "LayoutView",
       "align_content": null,
       "align_items": null,
       "align_self": null,
       "border": null,
       "bottom": null,
       "display": null,
       "flex": null,
       "flex_flow": null,
       "grid_area": null,
       "grid_auto_columns": null,
       "grid_auto_flow": null,
       "grid_auto_rows": null,
       "grid_column": null,
       "grid_gap": null,
       "grid_row": null,
       "grid_template_areas": null,
       "grid_template_columns": null,
       "grid_template_rows": null,
       "height": null,
       "justify_content": null,
       "justify_items": null,
       "left": null,
       "margin": null,
       "max_height": null,
       "max_width": null,
       "min_height": null,
       "min_width": null,
       "object_fit": null,
       "object_position": null,
       "order": null,
       "overflow": null,
       "overflow_x": null,
       "overflow_y": null,
       "padding": null,
       "right": null,
       "top": null,
       "visibility": null,
       "width": null
      }
     },
     "5ebe6fb0663644339852a4bf09418a39": {
      "model_module": "@jupyter-widgets/base",
      "model_module_version": "1.2.0",
      "model_name": "LayoutModel",
      "state": {
       "_model_module": "@jupyter-widgets/base",
       "_model_module_version": "1.2.0",
       "_model_name": "LayoutModel",
       "_view_count": null,
       "_view_module": "@jupyter-widgets/base",
       "_view_module_version": "1.2.0",
       "_view_name": "LayoutView",
       "align_content": null,
       "align_items": null,
       "align_self": null,
       "border": null,
       "bottom": null,
       "display": null,
       "flex": null,
       "flex_flow": null,
       "grid_area": null,
       "grid_auto_columns": null,
       "grid_auto_flow": null,
       "grid_auto_rows": null,
       "grid_column": null,
       "grid_gap": null,
       "grid_row": null,
       "grid_template_areas": null,
       "grid_template_columns": null,
       "grid_template_rows": null,
       "height": null,
       "justify_content": null,
       "justify_items": null,
       "left": null,
       "margin": null,
       "max_height": null,
       "max_width": null,
       "min_height": null,
       "min_width": null,
       "object_fit": null,
       "object_position": null,
       "order": null,
       "overflow": null,
       "overflow_x": null,
       "overflow_y": null,
       "padding": null,
       "right": null,
       "top": null,
       "visibility": null,
       "width": null
      }
     },
     "600fc258ba14434e929fefb115dacc35": {
      "model_module": "@jupyter-widgets/controls",
      "model_module_version": "1.5.0",
      "model_name": "HTMLModel",
      "state": {
       "_dom_classes": [],
       "_model_module": "@jupyter-widgets/controls",
       "_model_module_version": "1.5.0",
       "_model_name": "HTMLModel",
       "_view_count": null,
       "_view_module": "@jupyter-widgets/controls",
       "_view_module_version": "1.5.0",
       "_view_name": "HTMLView",
       "description": "",
       "description_tooltip": null,
       "layout": "IPY_MODEL_c6780682d10940b5aefd22e4f1dacb87",
       "placeholder": "​",
       "style": "IPY_MODEL_35c2aa727b394f249843ce303bfb3362",
       "value": " 349/349 [00:00&lt;00:00, 34.1kB/s]"
      }
     },
     "61834453c14348c0bc2d7c251d4145ae": {
      "model_module": "@jupyter-widgets/controls",
      "model_module_version": "1.5.0",
      "model_name": "HTMLModel",
      "state": {
       "_dom_classes": [],
       "_model_module": "@jupyter-widgets/controls",
       "_model_module_version": "1.5.0",
       "_model_name": "HTMLModel",
       "_view_count": null,
       "_view_module": "@jupyter-widgets/controls",
       "_view_module_version": "1.5.0",
       "_view_name": "HTMLView",
       "description": "",
       "description_tooltip": null,
       "layout": "IPY_MODEL_c998201b27b64de19d7bc374f2eac119",
       "placeholder": "​",
       "style": "IPY_MODEL_f6c225b78ac447388c1a7237884db1df",
       "value": "README.md: 100%"
      }
     },
     "61a3eecdb20847eea82f16ff4b2b929c": {
      "model_module": "@jupyter-widgets/base",
      "model_module_version": "1.2.0",
      "model_name": "LayoutModel",
      "state": {
       "_model_module": "@jupyter-widgets/base",
       "_model_module_version": "1.2.0",
       "_model_name": "LayoutModel",
       "_view_count": null,
       "_view_module": "@jupyter-widgets/base",
       "_view_module_version": "1.2.0",
       "_view_name": "LayoutView",
       "align_content": null,
       "align_items": null,
       "align_self": null,
       "border": null,
       "bottom": null,
       "display": null,
       "flex": null,
       "flex_flow": null,
       "grid_area": null,
       "grid_auto_columns": null,
       "grid_auto_flow": null,
       "grid_auto_rows": null,
       "grid_column": null,
       "grid_gap": null,
       "grid_row": null,
       "grid_template_areas": null,
       "grid_template_columns": null,
       "grid_template_rows": null,
       "height": null,
       "justify_content": null,
       "justify_items": null,
       "left": null,
       "margin": null,
       "max_height": null,
       "max_width": null,
       "min_height": null,
       "min_width": null,
       "object_fit": null,
       "object_position": null,
       "order": null,
       "overflow": null,
       "overflow_x": null,
       "overflow_y": null,
       "padding": null,
       "right": null,
       "top": null,
       "visibility": null,
       "width": null
      }
     },
     "622e39e403834f0c9517bbbe665e7a1f": {
      "model_module": "@jupyter-widgets/controls",
      "model_module_version": "1.5.0",
      "model_name": "FloatProgressModel",
      "state": {
       "_dom_classes": [],
       "_model_module": "@jupyter-widgets/controls",
       "_model_module_version": "1.5.0",
       "_model_name": "FloatProgressModel",
       "_view_count": null,
       "_view_module": "@jupyter-widgets/controls",
       "_view_module_version": "1.5.0",
       "_view_name": "ProgressView",
       "bar_style": "success",
       "description": "",
       "description_tooltip": null,
       "layout": "IPY_MODEL_71489dfa553541059382186c09415f9f",
       "max": 231536.0,
       "min": 0.0,
       "orientation": "horizontal",
       "style": "IPY_MODEL_1652271fef1f4005b143149b4424b894",
       "value": 231536.0
      }
     },
     "6563abdd153f427eb3b938ba9febfb88": {
      "model_module": "@jupyter-widgets/controls",
      "model_module_version": "1.5.0",
      "model_name": "DescriptionStyleModel",
      "state": {
       "_model_module": "@jupyter-widgets/controls",
       "_model_module_version": "1.5.0",
       "_model_name": "DescriptionStyleModel",
       "_view_count": null,
       "_view_module": "@jupyter-widgets/base",
       "_view_module_version": "1.2.0",
       "_view_name": "StyleView",
       "description_width": ""
      }
     },
     "6cf3efd35eb944fb941bf9d91ce38276": {
      "model_module": "@jupyter-widgets/base",
      "model_module_version": "1.2.0",
      "model_name": "LayoutModel",
      "state": {
       "_model_module": "@jupyter-widgets/base",
       "_model_module_version": "1.2.0",
       "_model_name": "LayoutModel",
       "_view_count": null,
       "_view_module": "@jupyter-widgets/base",
       "_view_module_version": "1.2.0",
       "_view_name": "LayoutView",
       "align_content": null,
       "align_items": null,
       "align_self": null,
       "border": null,
       "bottom": null,
       "display": null,
       "flex": null,
       "flex_flow": null,
       "grid_area": null,
       "grid_auto_columns": null,
       "grid_auto_flow": null,
       "grid_auto_rows": null,
       "grid_column": null,
       "grid_gap": null,
       "grid_row": null,
       "grid_template_areas": null,
       "grid_template_columns": null,
       "grid_template_rows": null,
       "height": null,
       "justify_content": null,
       "justify_items": null,
       "left": null,
       "margin": null,
       "max_height": null,
       "max_width": null,
       "min_height": null,
       "min_width": null,
       "object_fit": null,
       "object_position": null,
       "order": null,
       "overflow": null,
       "overflow_x": null,
       "overflow_y": null,
       "padding": null,
       "right": null,
       "top": null,
       "visibility": null,
       "width": null
      }
     },
     "71489dfa553541059382186c09415f9f": {
      "model_module": "@jupyter-widgets/base",
      "model_module_version": "1.2.0",
      "model_name": "LayoutModel",
      "state": {
       "_model_module": "@jupyter-widgets/base",
       "_model_module_version": "1.2.0",
       "_model_name": "LayoutModel",
       "_view_count": null,
       "_view_module": "@jupyter-widgets/base",
       "_view_module_version": "1.2.0",
       "_view_name": "LayoutView",
       "align_content": null,
       "align_items": null,
       "align_self": null,
       "border": null,
       "bottom": null,
       "display": null,
       "flex": null,
       "flex_flow": null,
       "grid_area": null,
       "grid_auto_columns": null,
       "grid_auto_flow": null,
       "grid_auto_rows": null,
       "grid_column": null,
       "grid_gap": null,
       "grid_row": null,
       "grid_template_areas": null,
       "grid_template_columns": null,
       "grid_template_rows": null,
       "height": null,
       "justify_content": null,
       "justify_items": null,
       "left": null,
       "margin": null,
       "max_height": null,
       "max_width": null,
       "min_height": null,
       "min_width": null,
       "object_fit": null,
       "object_position": null,
       "order": null,
       "overflow": null,
       "overflow_x": null,
       "overflow_y": null,
       "padding": null,
       "right": null,
       "top": null,
       "visibility": null,
       "width": null
      }
     },
     "7148bdd781de424eb03c5784f8993ba9": {
      "model_module": "@jupyter-widgets/base",
      "model_module_version": "1.2.0",
      "model_name": "LayoutModel",
      "state": {
       "_model_module": "@jupyter-widgets/base",
       "_model_module_version": "1.2.0",
       "_model_name": "LayoutModel",
       "_view_count": null,
       "_view_module": "@jupyter-widgets/base",
       "_view_module_version": "1.2.0",
       "_view_name": "LayoutView",
       "align_content": null,
       "align_items": null,
       "align_self": null,
       "border": null,
       "bottom": null,
       "display": null,
       "flex": null,
       "flex_flow": null,
       "grid_area": null,
       "grid_auto_columns": null,
       "grid_auto_flow": null,
       "grid_auto_rows": null,
       "grid_column": null,
       "grid_gap": null,
       "grid_row": null,
       "grid_template_areas": null,
       "grid_template_columns": null,
       "grid_template_rows": null,
       "height": null,
       "justify_content": null,
       "justify_items": null,
       "left": null,
       "margin": null,
       "max_height": null,
       "max_width": null,
       "min_height": null,
       "min_width": null,
       "object_fit": null,
       "object_position": null,
       "order": null,
       "overflow": null,
       "overflow_x": null,
       "overflow_y": null,
       "padding": null,
       "right": null,
       "top": null,
       "visibility": null,
       "width": null
      }
     },
     "71f9a8285e174262b9ad39e9069bfdef": {
      "model_module": "@jupyter-widgets/base",
      "model_module_version": "1.2.0",
      "model_name": "LayoutModel",
      "state": {
       "_model_module": "@jupyter-widgets/base",
       "_model_module_version": "1.2.0",
       "_model_name": "LayoutModel",
       "_view_count": null,
       "_view_module": "@jupyter-widgets/base",
       "_view_module_version": "1.2.0",
       "_view_name": "LayoutView",
       "align_content": null,
       "align_items": null,
       "align_self": null,
       "border": null,
       "bottom": null,
       "display": null,
       "flex": null,
       "flex_flow": null,
       "grid_area": null,
       "grid_auto_columns": null,
       "grid_auto_flow": null,
       "grid_auto_rows": null,
       "grid_column": null,
       "grid_gap": null,
       "grid_row": null,
       "grid_template_areas": null,
       "grid_template_columns": null,
       "grid_template_rows": null,
       "height": null,
       "justify_content": null,
       "justify_items": null,
       "left": null,
       "margin": null,
       "max_height": null,
       "max_width": null,
       "min_height": null,
       "min_width": null,
       "object_fit": null,
       "object_position": null,
       "order": null,
       "overflow": null,
       "overflow_x": null,
       "overflow_y": null,
       "padding": null,
       "right": null,
       "top": null,
       "visibility": null,
       "width": null
      }
     },
     "73fb2596649543ab8b6986885e1bf7ea": {
      "model_module": "@jupyter-widgets/controls",
      "model_module_version": "1.5.0",
      "model_name": "HTMLModel",
      "state": {
       "_dom_classes": [],
       "_model_module": "@jupyter-widgets/controls",
       "_model_module_version": "1.5.0",
       "_model_name": "HTMLModel",
       "_view_count": null,
       "_view_module": "@jupyter-widgets/controls",
       "_view_module_version": "1.5.0",
       "_view_name": "HTMLView",
       "description": "",
       "description_tooltip": null,
       "layout": "IPY_MODEL_5ebe6fb0663644339852a4bf09418a39",
       "placeholder": "​",
       "style": "IPY_MODEL_c63652982a3e40bcad81800db65f081f",
       "value": "config.json: 100%"
      }
     },
     "7440a92302cb4d9884fe895245cff132": {
      "model_module": "@jupyter-widgets/base",
      "model_module_version": "1.2.0",
      "model_name": "LayoutModel",
      "state": {
       "_model_module": "@jupyter-widgets/base",
       "_model_module_version": "1.2.0",
       "_model_name": "LayoutModel",
       "_view_count": null,
       "_view_module": "@jupyter-widgets/base",
       "_view_module_version": "1.2.0",
       "_view_name": "LayoutView",
       "align_content": null,
       "align_items": null,
       "align_self": null,
       "border": null,
       "bottom": null,
       "display": null,
       "flex": null,
       "flex_flow": null,
       "grid_area": null,
       "grid_auto_columns": null,
       "grid_auto_flow": null,
       "grid_auto_rows": null,
       "grid_column": null,
       "grid_gap": null,
       "grid_row": null,
       "grid_template_areas": null,
       "grid_template_columns": null,
       "grid_template_rows": null,
       "height": null,
       "justify_content": null,
       "justify_items": null,
       "left": null,
       "margin": null,
       "max_height": null,
       "max_width": null,
       "min_height": null,
       "min_width": null,
       "object_fit": null,
       "object_position": null,
       "order": null,
       "overflow": null,
       "overflow_x": null,
       "overflow_y": null,
       "padding": null,
       "right": null,
       "top": null,
       "visibility": null,
       "width": null
      }
     },
     "7441d451473446d2868b3e76a5c4b269": {
      "model_module": "@jupyter-widgets/controls",
      "model_module_version": "1.5.0",
      "model_name": "DescriptionStyleModel",
      "state": {
       "_model_module": "@jupyter-widgets/controls",
       "_model_module_version": "1.5.0",
       "_model_name": "DescriptionStyleModel",
       "_view_count": null,
       "_view_module": "@jupyter-widgets/base",
       "_view_module_version": "1.2.0",
       "_view_name": "StyleView",
       "description_width": ""
      }
     },
     "7484424d02014638849eedcb39782512": {
      "model_module": "@jupyter-widgets/base",
      "model_module_version": "1.2.0",
      "model_name": "LayoutModel",
      "state": {
       "_model_module": "@jupyter-widgets/base",
       "_model_module_version": "1.2.0",
       "_model_name": "LayoutModel",
       "_view_count": null,
       "_view_module": "@jupyter-widgets/base",
       "_view_module_version": "1.2.0",
       "_view_name": "LayoutView",
       "align_content": null,
       "align_items": null,
       "align_self": null,
       "border": null,
       "bottom": null,
       "display": null,
       "flex": null,
       "flex_flow": null,
       "grid_area": null,
       "grid_auto_columns": null,
       "grid_auto_flow": null,
       "grid_auto_rows": null,
       "grid_column": null,
       "grid_gap": null,
       "grid_row": null,
       "grid_template_areas": null,
       "grid_template_columns": null,
       "grid_template_rows": null,
       "height": null,
       "justify_content": null,
       "justify_items": null,
       "left": null,
       "margin": null,
       "max_height": null,
       "max_width": null,
       "min_height": null,
       "min_width": null,
       "object_fit": null,
       "object_position": null,
       "order": null,
       "overflow": null,
       "overflow_x": null,
       "overflow_y": null,
       "padding": null,
       "right": null,
       "top": null,
       "visibility": null,
       "width": null
      }
     },
     "74c2cbf9fadd41db8e7294fbd9ac6da7": {
      "model_module": "@jupyter-widgets/controls",
      "model_module_version": "1.5.0",
      "model_name": "HTMLModel",
      "state": {
       "_dom_classes": [],
       "_model_module": "@jupyter-widgets/controls",
       "_model_module_version": "1.5.0",
       "_model_name": "HTMLModel",
       "_view_count": null,
       "_view_module": "@jupyter-widgets/controls",
       "_view_module_version": "1.5.0",
       "_view_name": "HTMLView",
       "description": "",
       "description_tooltip": null,
       "layout": "IPY_MODEL_dbda1806c86c413da8cce4d8fecde798",
       "placeholder": "​",
       "style": "IPY_MODEL_ea6aab10b00f483ba73d94fa6f75dee9",
       "value": "model.safetensors: 100%"
      }
     },
     "75c288b774fc4104a7a611e2914e0090": {
      "model_module": "@jupyter-widgets/controls",
      "model_module_version": "1.5.0",
      "model_name": "HTMLModel",
      "state": {
       "_dom_classes": [],
       "_model_module": "@jupyter-widgets/controls",
       "_model_module_version": "1.5.0",
       "_model_name": "HTMLModel",
       "_view_count": null,
       "_view_module": "@jupyter-widgets/controls",
       "_view_module_version": "1.5.0",
       "_view_name": "HTMLView",
       "description": "",
       "description_tooltip": null,
       "layout": "IPY_MODEL_147746a0e935454b9630e45c832e05be",
       "placeholder": "​",
       "style": "IPY_MODEL_eee0a6c0c39d4f79b750c162caa6931b",
       "value": " 53.0/53.0 [00:00&lt;00:00, 5.19kB/s]"
      }
     },
     "77f9139665144e0fb2f0c38631f9bd7d": {
      "model_module": "@jupyter-widgets/controls",
      "model_module_version": "1.5.0",
      "model_name": "HTMLModel",
      "state": {
       "_dom_classes": [],
       "_model_module": "@jupyter-widgets/controls",
       "_model_module_version": "1.5.0",
       "_model_name": "HTMLModel",
       "_view_count": null,
       "_view_module": "@jupyter-widgets/controls",
       "_view_module_version": "1.5.0",
       "_view_name": "HTMLView",
       "description": "",
       "description_tooltip": null,
       "layout": "IPY_MODEL_4c137d0b370a4cf6b48638a52c2d92a4",
       "placeholder": "​",
       "style": "IPY_MODEL_3621d6bd369743f5bcfdb2edc96634bb",
       "value": " 10/10 [00:00&lt;00:00, 21.41it/s]"
      }
     },
     "78b695d1da154fce9b1f57f9466d5642": {
      "model_module": "@jupyter-widgets/base",
      "model_module_version": "1.2.0",
      "model_name": "LayoutModel",
      "state": {
       "_model_module": "@jupyter-widgets/base",
       "_model_module_version": "1.2.0",
       "_model_name": "LayoutModel",
       "_view_count": null,
       "_view_module": "@jupyter-widgets/base",
       "_view_module_version": "1.2.0",
       "_view_name": "LayoutView",
       "align_content": null,
       "align_items": null,
       "align_self": null,
       "border": null,
       "bottom": null,
       "display": null,
       "flex": null,
       "flex_flow": null,
       "grid_area": null,
       "grid_auto_columns": null,
       "grid_auto_flow": null,
       "grid_auto_rows": null,
       "grid_column": null,
       "grid_gap": null,
       "grid_row": null,
       "grid_template_areas": null,
       "grid_template_columns": null,
       "grid_template_rows": null,
       "height": null,
       "justify_content": null,
       "justify_items": null,
       "left": null,
       "margin": null,
       "max_height": null,
       "max_width": null,
       "min_height": null,
       "min_width": null,
       "object_fit": null,
       "object_position": null,
       "order": null,
       "overflow": null,
       "overflow_x": null,
       "overflow_y": null,
       "padding": null,
       "right": null,
       "top": null,
       "visibility": null,
       "width": null
      }
     },
     "7b8e651ee2164abfb2dd9f11d638dea9": {
      "model_module": "@jupyter-widgets/controls",
      "model_module_version": "1.5.0",
      "model_name": "HTMLModel",
      "state": {
       "_dom_classes": [],
       "_model_module": "@jupyter-widgets/controls",
       "_model_module_version": "1.5.0",
       "_model_name": "HTMLModel",
       "_view_count": null,
       "_view_module": "@jupyter-widgets/controls",
       "_view_module_version": "1.5.0",
       "_view_name": "HTMLView",
       "description": "",
       "description_tooltip": null,
       "layout": "IPY_MODEL_89da4c9b17f94ba9a6c923135e39758c",
       "placeholder": "​",
       "style": "IPY_MODEL_dc1d4c6968b94698b7b98affb4642cb7",
       "value": "sentence_bert_config.json: 100%"
      }
     },
     "7c06573b69cc47de99aa978e26b1ac4c": {
      "model_module": "@jupyter-widgets/base",
      "model_module_version": "1.2.0",
      "model_name": "LayoutModel",
      "state": {
       "_model_module": "@jupyter-widgets/base",
       "_model_module_version": "1.2.0",
       "_model_name": "LayoutModel",
       "_view_count": null,
       "_view_module": "@jupyter-widgets/base",
       "_view_module_version": "1.2.0",
       "_view_name": "LayoutView",
       "align_content": null,
       "align_items": null,
       "align_self": null,
       "border": null,
       "bottom": null,
       "display": null,
       "flex": null,
       "flex_flow": null,
       "grid_area": null,
       "grid_auto_columns": null,
       "grid_auto_flow": null,
       "grid_auto_rows": null,
       "grid_column": null,
       "grid_gap": null,
       "grid_row": null,
       "grid_template_areas": null,
       "grid_template_columns": null,
       "grid_template_rows": null,
       "height": null,
       "justify_content": null,
       "justify_items": null,
       "left": null,
       "margin": null,
       "max_height": null,
       "max_width": null,
       "min_height": null,
       "min_width": null,
       "object_fit": null,
       "object_position": null,
       "order": null,
       "overflow": null,
       "overflow_x": null,
       "overflow_y": null,
       "padding": null,
       "right": null,
       "top": null,
       "visibility": null,
       "width": null
      }
     },
     "7c3b02f07d0d40b8a9a794a5ceb9c60c": {
      "model_module": "@jupyter-widgets/base",
      "model_module_version": "1.2.0",
      "model_name": "LayoutModel",
      "state": {
       "_model_module": "@jupyter-widgets/base",
       "_model_module_version": "1.2.0",
       "_model_name": "LayoutModel",
       "_view_count": null,
       "_view_module": "@jupyter-widgets/base",
       "_view_module_version": "1.2.0",
       "_view_name": "LayoutView",
       "align_content": null,
       "align_items": null,
       "align_self": null,
       "border": null,
       "bottom": null,
       "display": null,
       "flex": null,
       "flex_flow": null,
       "grid_area": null,
       "grid_auto_columns": null,
       "grid_auto_flow": null,
       "grid_auto_rows": null,
       "grid_column": null,
       "grid_gap": null,
       "grid_row": null,
       "grid_template_areas": null,
       "grid_template_columns": null,
       "grid_template_rows": null,
       "height": null,
       "justify_content": null,
       "justify_items": null,
       "left": null,
       "margin": null,
       "max_height": null,
       "max_width": null,
       "min_height": null,
       "min_width": null,
       "object_fit": null,
       "object_position": null,
       "order": null,
       "overflow": null,
       "overflow_x": null,
       "overflow_y": null,
       "padding": null,
       "right": null,
       "top": null,
       "visibility": null,
       "width": null
      }
     },
     "7cd70a6b8b8745b383af9fba1aa09b31": {
      "model_module": "@jupyter-widgets/controls",
      "model_module_version": "1.5.0",
      "model_name": "HBoxModel",
      "state": {
       "_dom_classes": [],
       "_model_module": "@jupyter-widgets/controls",
       "_model_module_version": "1.5.0",
       "_model_name": "HBoxModel",
       "_view_count": null,
       "_view_module": "@jupyter-widgets/controls",
       "_view_module_version": "1.5.0",
       "_view_name": "HBoxView",
       "box_style": "",
       "children": [
        "IPY_MODEL_61834453c14348c0bc2d7c251d4145ae",
        "IPY_MODEL_53e68a1be1ff46eb92a3d607754e8d33",
        "IPY_MODEL_41b3c5e57b894018ac1f9a6d8e0fe37b"
       ],
       "layout": "IPY_MODEL_7c06573b69cc47de99aa978e26b1ac4c"
      }
     },
     "7dc3916bb7354f4c8559c940b54ada69": {
      "model_module": "@jupyter-widgets/controls",
      "model_module_version": "1.5.0",
      "model_name": "ProgressStyleModel",
      "state": {
       "_model_module": "@jupyter-widgets/controls",
       "_model_module_version": "1.5.0",
       "_model_name": "ProgressStyleModel",
       "_view_count": null,
       "_view_module": "@jupyter-widgets/base",
       "_view_module_version": "1.2.0",
       "_view_name": "StyleView",
       "bar_color": null,
       "description_width": ""
      }
     },
     "7fb479aa642848c986688b8c15f11f05": {
      "model_module": "@jupyter-widgets/base",
      "model_module_version": "1.2.0",
      "model_name": "LayoutModel",
      "state": {
       "_model_module": "@jupyter-widgets/base",
       "_model_module_version": "1.2.0",
       "_model_name": "LayoutModel",
       "_view_count": null,
       "_view_module": "@jupyter-widgets/base",
       "_view_module_version": "1.2.0",
       "_view_name": "LayoutView",
       "align_content": null,
       "align_items": null,
       "align_self": null,
       "border": null,
       "bottom": null,
       "display": null,
       "flex": null,
       "flex_flow": null,
       "grid_area": null,
       "grid_auto_columns": null,
       "grid_auto_flow": null,
       "grid_auto_rows": null,
       "grid_column": null,
       "grid_gap": null,
       "grid_row": null,
       "grid_template_areas": null,
       "grid_template_columns": null,
       "grid_template_rows": null,
       "height": null,
       "justify_content": null,
       "justify_items": null,
       "left": null,
       "margin": null,
       "max_height": null,
       "max_width": null,
       "min_height": null,
       "min_width": null,
       "object_fit": null,
       "object_position": null,
       "order": null,
       "overflow": null,
       "overflow_x": null,
       "overflow_y": null,
       "padding": null,
       "right": null,
       "top": null,
       "visibility": null,
       "width": null
      }
     },
     "7fc8a6e2adb648b6875f9c98cf393620": {
      "model_module": "@jupyter-widgets/controls",
      "model_module_version": "1.5.0",
      "model_name": "HTMLModel",
      "state": {
       "_dom_classes": [],
       "_model_module": "@jupyter-widgets/controls",
       "_model_module_version": "1.5.0",
       "_model_name": "HTMLModel",
       "_view_count": null,
       "_view_module": "@jupyter-widgets/controls",
       "_view_module_version": "1.5.0",
       "_view_name": "HTMLView",
       "description": "",
       "description_tooltip": null,
       "layout": "IPY_MODEL_8ea5636cdb34428baf3077592f9bff59",
       "placeholder": "​",
       "style": "IPY_MODEL_0b86058dc824481eb3072fdf705300af",
       "value": " 4335/4335 [01:11&lt;00:00, 88.38it/s]"
      }
     },
     "89d66d6970f8475f92daa1b04ae224f8": {
      "model_module": "@jupyter-widgets/controls",
      "model_module_version": "1.5.0",
      "model_name": "FloatProgressModel",
      "state": {
       "_dom_classes": [],
       "_model_module": "@jupyter-widgets/controls",
       "_model_module_version": "1.5.0",
       "_model_name": "FloatProgressModel",
       "_view_count": null,
       "_view_module": "@jupyter-widgets/controls",
       "_view_module_version": "1.5.0",
       "_view_name": "ProgressView",
       "bar_style": "success",
       "description": "",
       "description_tooltip": null,
       "layout": "IPY_MODEL_a40f706e78b3493981187daf2cf9880f",
       "max": 437971872.0,
       "min": 0.0,
       "orientation": "horizontal",
       "style": "IPY_MODEL_281fb3a695ff49699c9504d461d1120f",
       "value": 437971872.0
      }
     },
     "89da4c9b17f94ba9a6c923135e39758c": {
      "model_module": "@jupyter-widgets/base",
      "model_module_version": "1.2.0",
      "model_name": "LayoutModel",
      "state": {
       "_model_module": "@jupyter-widgets/base",
       "_model_module_version": "1.2.0",
       "_model_name": "LayoutModel",
       "_view_count": null,
       "_view_module": "@jupyter-widgets/base",
       "_view_module_version": "1.2.0",
       "_view_name": "LayoutView",
       "align_content": null,
       "align_items": null,
       "align_self": null,
       "border": null,
       "bottom": null,
       "display": null,
       "flex": null,
       "flex_flow": null,
       "grid_area": null,
       "grid_auto_columns": null,
       "grid_auto_flow": null,
       "grid_auto_rows": null,
       "grid_column": null,
       "grid_gap": null,
       "grid_row": null,
       "grid_template_areas": null,
       "grid_template_columns": null,
       "grid_template_rows": null,
       "height": null,
       "justify_content": null,
       "justify_items": null,
       "left": null,
       "margin": null,
       "max_height": null,
       "max_width": null,
       "min_height": null,
       "min_width": null,
       "object_fit": null,
       "object_position": null,
       "order": null,
       "overflow": null,
       "overflow_x": null,
       "overflow_y": null,
       "padding": null,
       "right": null,
       "top": null,
       "visibility": null,
       "width": null
      }
     },
     "8b09ba3981f34875a7cda55bb8ac7bfc": {
      "model_module": "@jupyter-widgets/base",
      "model_module_version": "1.2.0",
      "model_name": "LayoutModel",
      "state": {
       "_model_module": "@jupyter-widgets/base",
       "_model_module_version": "1.2.0",
       "_model_name": "LayoutModel",
       "_view_count": null,
       "_view_module": "@jupyter-widgets/base",
       "_view_module_version": "1.2.0",
       "_view_name": "LayoutView",
       "align_content": null,
       "align_items": null,
       "align_self": null,
       "border": null,
       "bottom": null,
       "display": null,
       "flex": null,
       "flex_flow": null,
       "grid_area": null,
       "grid_auto_columns": null,
       "grid_auto_flow": null,
       "grid_auto_rows": null,
       "grid_column": null,
       "grid_gap": null,
       "grid_row": null,
       "grid_template_areas": null,
       "grid_template_columns": null,
       "grid_template_rows": null,
       "height": null,
       "justify_content": null,
       "justify_items": null,
       "left": null,
       "margin": null,
       "max_height": null,
       "max_width": null,
       "min_height": null,
       "min_width": null,
       "object_fit": null,
       "object_position": null,
       "order": null,
       "overflow": null,
       "overflow_x": null,
       "overflow_y": null,
       "padding": null,
       "right": null,
       "top": null,
       "visibility": null,
       "width": null
      }
     },
     "8ea5636cdb34428baf3077592f9bff59": {
      "model_module": "@jupyter-widgets/base",
      "model_module_version": "1.2.0",
      "model_name": "LayoutModel",
      "state": {
       "_model_module": "@jupyter-widgets/base",
       "_model_module_version": "1.2.0",
       "_model_name": "LayoutModel",
       "_view_count": null,
       "_view_module": "@jupyter-widgets/base",
       "_view_module_version": "1.2.0",
       "_view_name": "LayoutView",
       "align_content": null,
       "align_items": null,
       "align_self": null,
       "border": null,
       "bottom": null,
       "display": null,
       "flex": null,
       "flex_flow": null,
       "grid_area": null,
       "grid_auto_columns": null,
       "grid_auto_flow": null,
       "grid_auto_rows": null,
       "grid_column": null,
       "grid_gap": null,
       "grid_row": null,
       "grid_template_areas": null,
       "grid_template_columns": null,
       "grid_template_rows": null,
       "height": null,
       "justify_content": null,
       "justify_items": null,
       "left": null,
       "margin": null,
       "max_height": null,
       "max_width": null,
       "min_height": null,
       "min_width": null,
       "object_fit": null,
       "object_position": null,
       "order": null,
       "overflow": null,
       "overflow_x": null,
       "overflow_y": null,
       "padding": null,
       "right": null,
       "top": null,
       "visibility": null,
       "width": null
      }
     },
     "90a00c85221c42f9a8bb374457db6c51": {
      "model_module": "@jupyter-widgets/controls",
      "model_module_version": "1.5.0",
      "model_name": "DescriptionStyleModel",
      "state": {
       "_model_module": "@jupyter-widgets/controls",
       "_model_module_version": "1.5.0",
       "_model_name": "DescriptionStyleModel",
       "_view_count": null,
       "_view_module": "@jupyter-widgets/base",
       "_view_module_version": "1.2.0",
       "_view_name": "StyleView",
       "description_width": ""
      }
     },
     "926d265c69354ce1a1e2f9404e76bc28": {
      "model_module": "@jupyter-widgets/controls",
      "model_module_version": "1.5.0",
      "model_name": "HBoxModel",
      "state": {
       "_dom_classes": [],
       "_model_module": "@jupyter-widgets/controls",
       "_model_module_version": "1.5.0",
       "_model_name": "HBoxModel",
       "_view_count": null,
       "_view_module": "@jupyter-widgets/controls",
       "_view_module_version": "1.5.0",
       "_view_name": "HBoxView",
       "box_style": "",
       "children": [
        "IPY_MODEL_01494bb56419470fac00fd0675eaf5cf",
        "IPY_MODEL_39e92aaceb824d3a9ccd2729c17cf324",
        "IPY_MODEL_ddcb8b1fd4d6474cb55439b3190a900d"
       ],
       "layout": "IPY_MODEL_2bca7f0079254a5daf75e9c73338a4e6"
      }
     },
     "980e4ff19e7e43e8a9728ddd5cb22a63": {
      "model_module": "@jupyter-widgets/controls",
      "model_module_version": "1.5.0",
      "model_name": "DescriptionStyleModel",
      "state": {
       "_model_module": "@jupyter-widgets/controls",
       "_model_module_version": "1.5.0",
       "_model_name": "DescriptionStyleModel",
       "_view_count": null,
       "_view_module": "@jupyter-widgets/base",
       "_view_module_version": "1.2.0",
       "_view_name": "StyleView",
       "description_width": ""
      }
     },
     "98b5f9dc324548448f7953f55f5d86db": {
      "model_module": "@jupyter-widgets/controls",
      "model_module_version": "1.5.0",
      "model_name": "DescriptionStyleModel",
      "state": {
       "_model_module": "@jupyter-widgets/controls",
       "_model_module_version": "1.5.0",
       "_model_name": "DescriptionStyleModel",
       "_view_count": null,
       "_view_module": "@jupyter-widgets/base",
       "_view_module_version": "1.2.0",
       "_view_name": "StyleView",
       "description_width": ""
      }
     },
     "9cc264fd08f64160b14a245e4b332e20": {
      "model_module": "@jupyter-widgets/controls",
      "model_module_version": "1.5.0",
      "model_name": "FloatProgressModel",
      "state": {
       "_dom_classes": [],
       "_model_module": "@jupyter-widgets/controls",
       "_model_module_version": "1.5.0",
       "_model_name": "FloatProgressModel",
       "_view_count": null,
       "_view_module": "@jupyter-widgets/controls",
       "_view_module_version": "1.5.0",
       "_view_name": "ProgressView",
       "bar_style": "success",
       "description": "",
       "description_tooltip": null,
       "layout": "IPY_MODEL_44e40618fdce4852a66357021e235175",
       "max": 239.0,
       "min": 0.0,
       "orientation": "horizontal",
       "style": "IPY_MODEL_d3b84cb7cd4f4888bc5e47667436515f",
       "value": 239.0
      }
     },
     "9d3f76e2017b4da0a6714ff9a4e8e5e4": {
      "model_module": "@jupyter-widgets/controls",
      "model_module_version": "1.5.0",
      "model_name": "HBoxModel",
      "state": {
       "_dom_classes": [],
       "_model_module": "@jupyter-widgets/controls",
       "_model_module_version": "1.5.0",
       "_model_name": "HBoxModel",
       "_view_count": null,
       "_view_module": "@jupyter-widgets/controls",
       "_view_module_version": "1.5.0",
       "_view_name": "HBoxView",
       "box_style": "",
       "children": [
        "IPY_MODEL_4c16193ea4e9432390b8ecf558588b41",
        "IPY_MODEL_adeeafdee25b413eab54d07e68227496",
        "IPY_MODEL_7fc8a6e2adb648b6875f9c98cf393620"
       ],
       "layout": "IPY_MODEL_78b695d1da154fce9b1f57f9466d5642"
      }
     },
     "9d51784f5fdb4be5b4f36efd3aeff398": {
      "model_module": "@jupyter-widgets/controls",
      "model_module_version": "1.5.0",
      "model_name": "ProgressStyleModel",
      "state": {
       "_model_module": "@jupyter-widgets/controls",
       "_model_module_version": "1.5.0",
       "_model_name": "ProgressStyleModel",
       "_view_count": null,
       "_view_module": "@jupyter-widgets/base",
       "_view_module_version": "1.2.0",
       "_view_name": "StyleView",
       "bar_color": null,
       "description_width": ""
      }
     },
     "a01da7a76ed845dfa960999216ca5759": {
      "model_module": "@jupyter-widgets/controls",
      "model_module_version": "1.5.0",
      "model_name": "DescriptionStyleModel",
      "state": {
       "_model_module": "@jupyter-widgets/controls",
       "_model_module_version": "1.5.0",
       "_model_name": "DescriptionStyleModel",
       "_view_count": null,
       "_view_module": "@jupyter-widgets/base",
       "_view_module_version": "1.2.0",
       "_view_name": "StyleView",
       "description_width": ""
      }
     },
     "a13267c5b1974b32b0448ef32cd268c3": {
      "model_module": "@jupyter-widgets/controls",
      "model_module_version": "1.5.0",
      "model_name": "HBoxModel",
      "state": {
       "_dom_classes": [],
       "_model_module": "@jupyter-widgets/controls",
       "_model_module_version": "1.5.0",
       "_model_name": "HBoxModel",
       "_view_count": null,
       "_view_module": "@jupyter-widgets/controls",
       "_view_module_version": "1.5.0",
       "_view_name": "HBoxView",
       "box_style": "",
       "children": [
        "IPY_MODEL_dd4325a3542b490ea15acd2f69d2458e",
        "IPY_MODEL_9cc264fd08f64160b14a245e4b332e20",
        "IPY_MODEL_c2fb9bf1d58b4d06bdcee896c3a16a98"
       ],
       "layout": "IPY_MODEL_c9ca97fec4d04c3a84e9adbda7da1a09"
      }
     },
     "a14c264ef3b84554a6cc46f48983c4c3": {
      "model_module": "@jupyter-widgets/base",
      "model_module_version": "1.2.0",
      "model_name": "LayoutModel",
      "state": {
       "_model_module": "@jupyter-widgets/base",
       "_model_module_version": "1.2.0",
       "_model_name": "LayoutModel",
       "_view_count": null,
       "_view_module": "@jupyter-widgets/base",
       "_view_module_version": "1.2.0",
       "_view_name": "LayoutView",
       "align_content": null,
       "align_items": null,
       "align_self": null,
       "border": null,
       "bottom": null,
       "display": null,
       "flex": null,
       "flex_flow": null,
       "grid_area": null,
       "grid_auto_columns": null,
       "grid_auto_flow": null,
       "grid_auto_rows": null,
       "grid_column": null,
       "grid_gap": null,
       "grid_row": null,
       "grid_template_areas": null,
       "grid_template_columns": null,
       "grid_template_rows": null,
       "height": null,
       "justify_content": null,
       "justify_items": null,
       "left": null,
       "margin": null,
       "max_height": null,
       "max_width": null,
       "min_height": null,
       "min_width": null,
       "object_fit": null,
       "object_position": null,
       "order": null,
       "overflow": null,
       "overflow_x": null,
       "overflow_y": null,
       "padding": null,
       "right": null,
       "top": null,
       "visibility": null,
       "width": null
      }
     },
     "a1d749944fbc455ab7f56a9432fd7290": {
      "model_module": "@jupyter-widgets/controls",
      "model_module_version": "1.5.0",
      "model_name": "ProgressStyleModel",
      "state": {
       "_model_module": "@jupyter-widgets/controls",
       "_model_module_version": "1.5.0",
       "_model_name": "ProgressStyleModel",
       "_view_count": null,
       "_view_module": "@jupyter-widgets/base",
       "_view_module_version": "1.2.0",
       "_view_name": "StyleView",
       "bar_color": null,
       "description_width": ""
      }
     },
     "a40f706e78b3493981187daf2cf9880f": {
      "model_module": "@jupyter-widgets/base",
      "model_module_version": "1.2.0",
      "model_name": "LayoutModel",
      "state": {
       "_model_module": "@jupyter-widgets/base",
       "_model_module_version": "1.2.0",
       "_model_name": "LayoutModel",
       "_view_count": null,
       "_view_module": "@jupyter-widgets/base",
       "_view_module_version": "1.2.0",
       "_view_name": "LayoutView",
       "align_content": null,
       "align_items": null,
       "align_self": null,
       "border": null,
       "bottom": null,
       "display": null,
       "flex": null,
       "flex_flow": null,
       "grid_area": null,
       "grid_auto_columns": null,
       "grid_auto_flow": null,
       "grid_auto_rows": null,
       "grid_column": null,
       "grid_gap": null,
       "grid_row": null,
       "grid_template_areas": null,
       "grid_template_columns": null,
       "grid_template_rows": null,
       "height": null,
       "justify_content": null,
       "justify_items": null,
       "left": null,
       "margin": null,
       "max_height": null,
       "max_width": null,
       "min_height": null,
       "min_width": null,
       "object_fit": null,
       "object_position": null,
       "order": null,
       "overflow": null,
       "overflow_x": null,
       "overflow_y": null,
       "padding": null,
       "right": null,
       "top": null,
       "visibility": null,
       "width": null
      }
     },
     "a713c774dfa34029b33367b06b702bc1": {
      "model_module": "@jupyter-widgets/controls",
      "model_module_version": "1.5.0",
      "model_name": "HBoxModel",
      "state": {
       "_dom_classes": [],
       "_model_module": "@jupyter-widgets/controls",
       "_model_module_version": "1.5.0",
       "_model_name": "HBoxModel",
       "_view_count": null,
       "_view_module": "@jupyter-widgets/controls",
       "_view_module_version": "1.5.0",
       "_view_name": "HBoxView",
       "box_style": "",
       "children": [
        "IPY_MODEL_50a9462294294656aa8f5c19dd09ad03",
        "IPY_MODEL_622e39e403834f0c9517bbbe665e7a1f",
        "IPY_MODEL_b91084a03cdc437d8c2abf6b69e3d5eb"
       ],
       "layout": "IPY_MODEL_d0c706576e6d49028df413e9576a5923"
      }
     },
     "aa82ded179a5452782c54cc4381c2406": {
      "model_module": "@jupyter-widgets/controls",
      "model_module_version": "1.5.0",
      "model_name": "DescriptionStyleModel",
      "state": {
       "_model_module": "@jupyter-widgets/controls",
       "_model_module_version": "1.5.0",
       "_model_name": "DescriptionStyleModel",
       "_view_count": null,
       "_view_module": "@jupyter-widgets/base",
       "_view_module_version": "1.2.0",
       "_view_name": "StyleView",
       "description_width": ""
      }
     },
     "ac5bbde48dd84e17b0de840bdfcf8046": {
      "model_module": "@jupyter-widgets/base",
      "model_module_version": "1.2.0",
      "model_name": "LayoutModel",
      "state": {
       "_model_module": "@jupyter-widgets/base",
       "_model_module_version": "1.2.0",
       "_model_name": "LayoutModel",
       "_view_count": null,
       "_view_module": "@jupyter-widgets/base",
       "_view_module_version": "1.2.0",
       "_view_name": "LayoutView",
       "align_content": null,
       "align_items": null,
       "align_self": null,
       "border": null,
       "bottom": null,
       "display": null,
       "flex": null,
       "flex_flow": null,
       "grid_area": null,
       "grid_auto_columns": null,
       "grid_auto_flow": null,
       "grid_auto_rows": null,
       "grid_column": null,
       "grid_gap": null,
       "grid_row": null,
       "grid_template_areas": null,
       "grid_template_columns": null,
       "grid_template_rows": null,
       "height": null,
       "justify_content": null,
       "justify_items": null,
       "left": null,
       "margin": null,
       "max_height": null,
       "max_width": null,
       "min_height": null,
       "min_width": null,
       "object_fit": null,
       "object_position": null,
       "order": null,
       "overflow": null,
       "overflow_x": null,
       "overflow_y": null,
       "padding": null,
       "right": null,
       "top": null,
       "visibility": null,
       "width": null
      }
     },
     "acaf9382155a4c3eb3c6dd44ab2af9f4": {
      "model_module": "@jupyter-widgets/controls",
      "model_module_version": "1.5.0",
      "model_name": "HBoxModel",
      "state": {
       "_dom_classes": [],
       "_model_module": "@jupyter-widgets/controls",
       "_model_module_version": "1.5.0",
       "_model_name": "HBoxModel",
       "_view_count": null,
       "_view_module": "@jupyter-widgets/controls",
       "_view_module_version": "1.5.0",
       "_view_name": "HBoxView",
       "box_style": "",
       "children": [
        "IPY_MODEL_d4cb38e9ff5a4b5892310bddccb9760d",
        "IPY_MODEL_182382eb6ad84097b3a87144e2a86e9d",
        "IPY_MODEL_600fc258ba14434e929fefb115dacc35"
       ],
       "layout": "IPY_MODEL_2181c7a0688245d0b5532cac6f84e02e"
      }
     },
     "acf4a8a884ca452e8104022913fe3917": {
      "model_module": "@jupyter-widgets/controls",
      "model_module_version": "1.5.0",
      "model_name": "HBoxModel",
      "state": {
       "_dom_classes": [],
       "_model_module": "@jupyter-widgets/controls",
       "_model_module_version": "1.5.0",
       "_model_name": "HBoxModel",
       "_view_count": null,
       "_view_module": "@jupyter-widgets/controls",
       "_view_module_version": "1.5.0",
       "_view_name": "HBoxView",
       "box_style": "",
       "children": [
        "IPY_MODEL_f37cab221275454980c0144014130f0a",
        "IPY_MODEL_dff5de11f921468e9f9bcb871e030d0c",
        "IPY_MODEL_2928940674b34b0e9e5dec48440baa42"
       ],
       "layout": "IPY_MODEL_8b09ba3981f34875a7cda55bb8ac7bfc"
      }
     },
     "ad5b722d45d0433ebb7466f9a748c5ae": {
      "model_module": "@jupyter-widgets/controls",
      "model_module_version": "1.5.0",
      "model_name": "ProgressStyleModel",
      "state": {
       "_model_module": "@jupyter-widgets/controls",
       "_model_module_version": "1.5.0",
       "_model_name": "ProgressStyleModel",
       "_view_count": null,
       "_view_module": "@jupyter-widgets/base",
       "_view_module_version": "1.2.0",
       "_view_name": "StyleView",
       "bar_color": null,
       "description_width": ""
      }
     },
     "adeeafdee25b413eab54d07e68227496": {
      "model_module": "@jupyter-widgets/controls",
      "model_module_version": "1.5.0",
      "model_name": "FloatProgressModel",
      "state": {
       "_dom_classes": [],
       "_model_module": "@jupyter-widgets/controls",
       "_model_module_version": "1.5.0",
       "_model_name": "FloatProgressModel",
       "_view_count": null,
       "_view_module": "@jupyter-widgets/controls",
       "_view_module_version": "1.5.0",
       "_view_name": "ProgressView",
       "bar_style": "success",
       "description": "",
       "description_tooltip": null,
       "layout": "IPY_MODEL_ef4313e42bcd48aeb30f2dd8ed5d6e48",
       "max": 4335.0,
       "min": 0.0,
       "orientation": "horizontal",
       "style": "IPY_MODEL_9d51784f5fdb4be5b4f36efd3aeff398",
       "value": 4335.0
      }
     },
     "ae48232fe1194787bb7978ac234728b8": {
      "model_module": "@jupyter-widgets/base",
      "model_module_version": "1.2.0",
      "model_name": "LayoutModel",
      "state": {
       "_model_module": "@jupyter-widgets/base",
       "_model_module_version": "1.2.0",
       "_model_name": "LayoutModel",
       "_view_count": null,
       "_view_module": "@jupyter-widgets/base",
       "_view_module_version": "1.2.0",
       "_view_name": "LayoutView",
       "align_content": null,
       "align_items": null,
       "align_self": null,
       "border": null,
       "bottom": null,
       "display": null,
       "flex": null,
       "flex_flow": null,
       "grid_area": null,
       "grid_auto_columns": null,
       "grid_auto_flow": null,
       "grid_auto_rows": null,
       "grid_column": null,
       "grid_gap": null,
       "grid_row": null,
       "grid_template_areas": null,
       "grid_template_columns": null,
       "grid_template_rows": null,
       "height": null,
       "justify_content": null,
       "justify_items": null,
       "left": null,
       "margin": null,
       "max_height": null,
       "max_width": null,
       "min_height": null,
       "min_width": null,
       "object_fit": null,
       "object_position": null,
       "order": null,
       "overflow": null,
       "overflow_x": null,
       "overflow_y": null,
       "padding": null,
       "right": null,
       "top": null,
       "visibility": null,
       "width": null
      }
     },
     "afe79cca9a2a4afb93e6c4395a4955ce": {
      "model_module": "@jupyter-widgets/controls",
      "model_module_version": "1.5.0",
      "model_name": "FloatProgressModel",
      "state": {
       "_dom_classes": [],
       "_model_module": "@jupyter-widgets/controls",
       "_model_module_version": "1.5.0",
       "_model_name": "FloatProgressModel",
       "_view_count": null,
       "_view_module": "@jupyter-widgets/controls",
       "_view_module_version": "1.5.0",
       "_view_name": "ProgressView",
       "bar_style": "success",
       "description": "",
       "description_tooltip": null,
       "layout": "IPY_MODEL_5baaea977424470c97250c446ffd7640",
       "max": 363.0,
       "min": 0.0,
       "orientation": "horizontal",
       "style": "IPY_MODEL_ad5b722d45d0433ebb7466f9a748c5ae",
       "value": 363.0
      }
     },
     "b0b55d47ea8744fca13ce689d8b91265": {
      "model_module": "@jupyter-widgets/controls",
      "model_module_version": "1.5.0",
      "model_name": "HTMLModel",
      "state": {
       "_dom_classes": [],
       "_model_module": "@jupyter-widgets/controls",
       "_model_module_version": "1.5.0",
       "_model_name": "HTMLModel",
       "_view_count": null,
       "_view_module": "@jupyter-widgets/controls",
       "_view_module_version": "1.5.0",
       "_view_name": "HTMLView",
       "description": "",
       "description_tooltip": null,
       "layout": "IPY_MODEL_d0c01978be4143fcb660bbd13d3b8f49",
       "placeholder": "​",
       "style": "IPY_MODEL_d4fd5e4a5ea84f2fbbe29820bbbe6e56",
       "value": " 363/363 [00:00&lt;00:00, 34.1kB/s]"
      }
     },
     "b2543c1825da4ad99c5d35f746bff8be": {
      "model_module": "@jupyter-widgets/controls",
      "model_module_version": "1.5.0",
      "model_name": "ProgressStyleModel",
      "state": {
       "_model_module": "@jupyter-widgets/controls",
       "_model_module_version": "1.5.0",
       "_model_name": "ProgressStyleModel",
       "_view_count": null,
       "_view_module": "@jupyter-widgets/base",
       "_view_module_version": "1.2.0",
       "_view_name": "StyleView",
       "bar_color": null,
       "description_width": ""
      }
     },
     "b4d31d3e800142f4a59f153f6b3a19ba": {
      "model_module": "@jupyter-widgets/controls",
      "model_module_version": "1.5.0",
      "model_name": "HTMLModel",
      "state": {
       "_dom_classes": [],
       "_model_module": "@jupyter-widgets/controls",
       "_model_module_version": "1.5.0",
       "_model_name": "HTMLModel",
       "_view_count": null,
       "_view_module": "@jupyter-widgets/controls",
       "_view_module_version": "1.5.0",
       "_view_name": "HTMLView",
       "description": "",
       "description_tooltip": null,
       "layout": "IPY_MODEL_61a3eecdb20847eea82f16ff4b2b929c",
       "placeholder": "​",
       "style": "IPY_MODEL_3dc50d2b9ea44ff9a2bcbbe99f339fb8",
       "value": "tokenizer_config.json: 100%"
      }
     },
     "b91084a03cdc437d8c2abf6b69e3d5eb": {
      "model_module": "@jupyter-widgets/controls",
      "model_module_version": "1.5.0",
      "model_name": "HTMLModel",
      "state": {
       "_dom_classes": [],
       "_model_module": "@jupyter-widgets/controls",
       "_model_module_version": "1.5.0",
       "_model_name": "HTMLModel",
       "_view_count": null,
       "_view_module": "@jupyter-widgets/controls",
       "_view_module_version": "1.5.0",
       "_view_name": "HTMLView",
       "description": "",
       "description_tooltip": null,
       "layout": "IPY_MODEL_ac5bbde48dd84e17b0de840bdfcf8046",
       "placeholder": "​",
       "style": "IPY_MODEL_2908b32563c94662bacac95f60b08382",
       "value": " 232k/232k [00:00&lt;00:00, 1.19MB/s]"
      }
     },
     "bcd956e65bd14331a7360b2e048596da": {
      "model_module": "@jupyter-widgets/controls",
      "model_module_version": "1.5.0",
      "model_name": "FloatProgressModel",
      "state": {
       "_dom_classes": [],
       "_model_module": "@jupyter-widgets/controls",
       "_model_module_version": "1.5.0",
       "_model_name": "FloatProgressModel",
       "_view_count": null,
       "_view_module": "@jupyter-widgets/controls",
       "_view_module_version": "1.5.0",
       "_view_name": "ProgressView",
       "bar_style": "success",
       "description": "",
       "description_tooltip": null,
       "layout": "IPY_MODEL_13d8516119494b10abe7c3e97b10a1ec",
       "max": 10.0,
       "min": 0.0,
       "orientation": "horizontal",
       "style": "IPY_MODEL_433093ae2bbe4cfdaecd9c41ae86f28c",
       "value": 10.0
      }
     },
     "c0583405ef7f4bc399c04db67f46a5ef": {
      "model_module": "@jupyter-widgets/controls",
      "model_module_version": "1.5.0",
      "model_name": "ProgressStyleModel",
      "state": {
       "_model_module": "@jupyter-widgets/controls",
       "_model_module_version": "1.5.0",
       "_model_name": "ProgressStyleModel",
       "_view_count": null,
       "_view_module": "@jupyter-widgets/base",
       "_view_module_version": "1.2.0",
       "_view_name": "StyleView",
       "bar_color": null,
       "description_width": ""
      }
     },
     "c2fb9bf1d58b4d06bdcee896c3a16a98": {
      "model_module": "@jupyter-widgets/controls",
      "model_module_version": "1.5.0",
      "model_name": "HTMLModel",
      "state": {
       "_dom_classes": [],
       "_model_module": "@jupyter-widgets/controls",
       "_model_module_version": "1.5.0",
       "_model_name": "HTMLModel",
       "_view_count": null,
       "_view_module": "@jupyter-widgets/controls",
       "_view_module_version": "1.5.0",
       "_view_name": "HTMLView",
       "description": "",
       "description_tooltip": null,
       "layout": "IPY_MODEL_ed0ffa2ed9b24b91a87a365cc39ca424",
       "placeholder": "​",
       "style": "IPY_MODEL_90a00c85221c42f9a8bb374457db6c51",
       "value": " 239/239 [00:00&lt;00:00, 22.5kB/s]"
      }
     },
     "c4e7eb38c99d42eca6eaeead0277daf6": {
      "model_module": "@jupyter-widgets/controls",
      "model_module_version": "1.5.0",
      "model_name": "ProgressStyleModel",
      "state": {
       "_model_module": "@jupyter-widgets/controls",
       "_model_module_version": "1.5.0",
       "_model_name": "ProgressStyleModel",
       "_view_count": null,
       "_view_module": "@jupyter-widgets/base",
       "_view_module_version": "1.2.0",
       "_view_name": "StyleView",
       "bar_color": null,
       "description_width": ""
      }
     },
     "c63652982a3e40bcad81800db65f081f": {
      "model_module": "@jupyter-widgets/controls",
      "model_module_version": "1.5.0",
      "model_name": "DescriptionStyleModel",
      "state": {
       "_model_module": "@jupyter-widgets/controls",
       "_model_module_version": "1.5.0",
       "_model_name": "DescriptionStyleModel",
       "_view_count": null,
       "_view_module": "@jupyter-widgets/base",
       "_view_module_version": "1.2.0",
       "_view_name": "StyleView",
       "description_width": ""
      }
     },
     "c6780682d10940b5aefd22e4f1dacb87": {
      "model_module": "@jupyter-widgets/base",
      "model_module_version": "1.2.0",
      "model_name": "LayoutModel",
      "state": {
       "_model_module": "@jupyter-widgets/base",
       "_model_module_version": "1.2.0",
       "_model_name": "LayoutModel",
       "_view_count": null,
       "_view_module": "@jupyter-widgets/base",
       "_view_module_version": "1.2.0",
       "_view_name": "LayoutView",
       "align_content": null,
       "align_items": null,
       "align_self": null,
       "border": null,
       "bottom": null,
       "display": null,
       "flex": null,
       "flex_flow": null,
       "grid_area": null,
       "grid_auto_columns": null,
       "grid_auto_flow": null,
       "grid_auto_rows": null,
       "grid_column": null,
       "grid_gap": null,
       "grid_row": null,
       "grid_template_areas": null,
       "grid_template_columns": null,
       "grid_template_rows": null,
       "height": null,
       "justify_content": null,
       "justify_items": null,
       "left": null,
       "margin": null,
       "max_height": null,
       "max_width": null,
       "min_height": null,
       "min_width": null,
       "object_fit": null,
       "object_position": null,
       "order": null,
       "overflow": null,
       "overflow_x": null,
       "overflow_y": null,
       "padding": null,
       "right": null,
       "top": null,
       "visibility": null,
       "width": null
      }
     },
     "c6d8d1c0f5054d87ad4dac9fb8cb8e4e": {
      "model_module": "@jupyter-widgets/controls",
      "model_module_version": "1.5.0",
      "model_name": "ProgressStyleModel",
      "state": {
       "_model_module": "@jupyter-widgets/controls",
       "_model_module_version": "1.5.0",
       "_model_name": "ProgressStyleModel",
       "_view_count": null,
       "_view_module": "@jupyter-widgets/base",
       "_view_module_version": "1.2.0",
       "_view_name": "StyleView",
       "bar_color": null,
       "description_width": ""
      }
     },
     "c933839a3f0142058fc62ef0bb8be9f9": {
      "model_module": "@jupyter-widgets/controls",
      "model_module_version": "1.5.0",
      "model_name": "HBoxModel",
      "state": {
       "_dom_classes": [],
       "_model_module": "@jupyter-widgets/controls",
       "_model_module_version": "1.5.0",
       "_model_name": "HBoxModel",
       "_view_count": null,
       "_view_module": "@jupyter-widgets/controls",
       "_view_module_version": "1.5.0",
       "_view_name": "HBoxView",
       "box_style": "",
       "children": [
        "IPY_MODEL_74c2cbf9fadd41db8e7294fbd9ac6da7",
        "IPY_MODEL_89d66d6970f8475f92daa1b04ae224f8",
        "IPY_MODEL_46be74af9bad4bb7b43d6a489939e8c8"
       ],
       "layout": "IPY_MODEL_6cf3efd35eb944fb941bf9d91ce38276"
      }
     },
     "c998201b27b64de19d7bc374f2eac119": {
      "model_module": "@jupyter-widgets/base",
      "model_module_version": "1.2.0",
      "model_name": "LayoutModel",
      "state": {
       "_model_module": "@jupyter-widgets/base",
       "_model_module_version": "1.2.0",
       "_model_name": "LayoutModel",
       "_view_count": null,
       "_view_module": "@jupyter-widgets/base",
       "_view_module_version": "1.2.0",
       "_view_name": "LayoutView",
       "align_content": null,
       "align_items": null,
       "align_self": null,
       "border": null,
       "bottom": null,
       "display": null,
       "flex": null,
       "flex_flow": null,
       "grid_area": null,
       "grid_auto_columns": null,
       "grid_auto_flow": null,
       "grid_auto_rows": null,
       "grid_column": null,
       "grid_gap": null,
       "grid_row": null,
       "grid_template_areas": null,
       "grid_template_columns": null,
       "grid_template_rows": null,
       "height": null,
       "justify_content": null,
       "justify_items": null,
       "left": null,
       "margin": null,
       "max_height": null,
       "max_width": null,
       "min_height": null,
       "min_width": null,
       "object_fit": null,
       "object_position": null,
       "order": null,
       "overflow": null,
       "overflow_x": null,
       "overflow_y": null,
       "padding": null,
       "right": null,
       "top": null,
       "visibility": null,
       "width": null
      }
     },
     "c9ca97fec4d04c3a84e9adbda7da1a09": {
      "model_module": "@jupyter-widgets/base",
      "model_module_version": "1.2.0",
      "model_name": "LayoutModel",
      "state": {
       "_model_module": "@jupyter-widgets/base",
       "_model_module_version": "1.2.0",
       "_model_name": "LayoutModel",
       "_view_count": null,
       "_view_module": "@jupyter-widgets/base",
       "_view_module_version": "1.2.0",
       "_view_name": "LayoutView",
       "align_content": null,
       "align_items": null,
       "align_self": null,
       "border": null,
       "bottom": null,
       "display": null,
       "flex": null,
       "flex_flow": null,
       "grid_area": null,
       "grid_auto_columns": null,
       "grid_auto_flow": null,
       "grid_auto_rows": null,
       "grid_column": null,
       "grid_gap": null,
       "grid_row": null,
       "grid_template_areas": null,
       "grid_template_columns": null,
       "grid_template_rows": null,
       "height": null,
       "justify_content": null,
       "justify_items": null,
       "left": null,
       "margin": null,
       "max_height": null,
       "max_width": null,
       "min_height": null,
       "min_width": null,
       "object_fit": null,
       "object_position": null,
       "order": null,
       "overflow": null,
       "overflow_x": null,
       "overflow_y": null,
       "padding": null,
       "right": null,
       "top": null,
       "visibility": null,
       "width": null
      }
     },
     "ce724109e1ce48f2bf64e41a9a718b93": {
      "model_module": "@jupyter-widgets/controls",
      "model_module_version": "1.5.0",
      "model_name": "HTMLModel",
      "state": {
       "_dom_classes": [],
       "_model_module": "@jupyter-widgets/controls",
       "_model_module_version": "1.5.0",
       "_model_name": "HTMLModel",
       "_view_count": null,
       "_view_module": "@jupyter-widgets/controls",
       "_view_module_version": "1.5.0",
       "_view_name": "HTMLView",
       "description": "",
       "description_tooltip": null,
       "layout": "IPY_MODEL_71f9a8285e174262b9ad39e9069bfdef",
       "placeholder": "​",
       "style": "IPY_MODEL_04edb62129dc4b168f04e512a8f61642",
       "value": "tokenizer.json: 100%"
      }
     },
     "cfce28d95b3049138de3d276e0cf2bf8": {
      "model_module": "@jupyter-widgets/controls",
      "model_module_version": "1.5.0",
      "model_name": "HBoxModel",
      "state": {
       "_dom_classes": [],
       "_model_module": "@jupyter-widgets/controls",
       "_model_module_version": "1.5.0",
       "_model_name": "HBoxModel",
       "_view_count": null,
       "_view_module": "@jupyter-widgets/controls",
       "_view_module_version": "1.5.0",
       "_view_name": "HBoxView",
       "box_style": "",
       "children": [
        "IPY_MODEL_b4d31d3e800142f4a59f153f6b3a19ba",
        "IPY_MODEL_afe79cca9a2a4afb93e6c4395a4955ce",
        "IPY_MODEL_b0b55d47ea8744fca13ce689d8b91265"
       ],
       "layout": "IPY_MODEL_0b960877ef684052be7f2e085228b508"
      }
     },
     "d0c01978be4143fcb660bbd13d3b8f49": {
      "model_module": "@jupyter-widgets/base",
      "model_module_version": "1.2.0",
      "model_name": "LayoutModel",
      "state": {
       "_model_module": "@jupyter-widgets/base",
       "_model_module_version": "1.2.0",
       "_model_name": "LayoutModel",
       "_view_count": null,
       "_view_module": "@jupyter-widgets/base",
       "_view_module_version": "1.2.0",
       "_view_name": "LayoutView",
       "align_content": null,
       "align_items": null,
       "align_self": null,
       "border": null,
       "bottom": null,
       "display": null,
       "flex": null,
       "flex_flow": null,
       "grid_area": null,
       "grid_auto_columns": null,
       "grid_auto_flow": null,
       "grid_auto_rows": null,
       "grid_column": null,
       "grid_gap": null,
       "grid_row": null,
       "grid_template_areas": null,
       "grid_template_columns": null,
       "grid_template_rows": null,
       "height": null,
       "justify_content": null,
       "justify_items": null,
       "left": null,
       "margin": null,
       "max_height": null,
       "max_width": null,
       "min_height": null,
       "min_width": null,
       "object_fit": null,
       "object_position": null,
       "order": null,
       "overflow": null,
       "overflow_x": null,
       "overflow_y": null,
       "padding": null,
       "right": null,
       "top": null,
       "visibility": null,
       "width": null
      }
     },
     "d0c706576e6d49028df413e9576a5923": {
      "model_module": "@jupyter-widgets/base",
      "model_module_version": "1.2.0",
      "model_name": "LayoutModel",
      "state": {
       "_model_module": "@jupyter-widgets/base",
       "_model_module_version": "1.2.0",
       "_model_name": "LayoutModel",
       "_view_count": null,
       "_view_module": "@jupyter-widgets/base",
       "_view_module_version": "1.2.0",
       "_view_name": "LayoutView",
       "align_content": null,
       "align_items": null,
       "align_self": null,
       "border": null,
       "bottom": null,
       "display": null,
       "flex": null,
       "flex_flow": null,
       "grid_area": null,
       "grid_auto_columns": null,
       "grid_auto_flow": null,
       "grid_auto_rows": null,
       "grid_column": null,
       "grid_gap": null,
       "grid_row": null,
       "grid_template_areas": null,
       "grid_template_columns": null,
       "grid_template_rows": null,
       "height": null,
       "justify_content": null,
       "justify_items": null,
       "left": null,
       "margin": null,
       "max_height": null,
       "max_width": null,
       "min_height": null,
       "min_width": null,
       "object_fit": null,
       "object_position": null,
       "order": null,
       "overflow": null,
       "overflow_x": null,
       "overflow_y": null,
       "padding": null,
       "right": null,
       "top": null,
       "visibility": null,
       "width": null
      }
     },
     "d3276581a0054077bc581d64606f572c": {
      "model_module": "@jupyter-widgets/controls",
      "model_module_version": "1.5.0",
      "model_name": "HTMLModel",
      "state": {
       "_dom_classes": [],
       "_model_module": "@jupyter-widgets/controls",
       "_model_module_version": "1.5.0",
       "_model_name": "HTMLModel",
       "_view_count": null,
       "_view_module": "@jupyter-widgets/controls",
       "_view_module_version": "1.5.0",
       "_view_name": "HTMLView",
       "description": "",
       "description_tooltip": null,
       "layout": "IPY_MODEL_169faf59650447a8a5fe14f348daedac",
       "placeholder": "​",
       "style": "IPY_MODEL_7441d451473446d2868b3e76a5c4b269",
       "value": " 466k/466k [00:00&lt;00:00, 2.36MB/s]"
      }
     },
     "d3b84cb7cd4f4888bc5e47667436515f": {
      "model_module": "@jupyter-widgets/controls",
      "model_module_version": "1.5.0",
      "model_name": "ProgressStyleModel",
      "state": {
       "_model_module": "@jupyter-widgets/controls",
       "_model_module_version": "1.5.0",
       "_model_name": "ProgressStyleModel",
       "_view_count": null,
       "_view_module": "@jupyter-widgets/base",
       "_view_module_version": "1.2.0",
       "_view_name": "StyleView",
       "bar_color": null,
       "description_width": ""
      }
     },
     "d4cb38e9ff5a4b5892310bddccb9760d": {
      "model_module": "@jupyter-widgets/controls",
      "model_module_version": "1.5.0",
      "model_name": "HTMLModel",
      "state": {
       "_dom_classes": [],
       "_model_module": "@jupyter-widgets/controls",
       "_model_module_version": "1.5.0",
       "_model_name": "HTMLModel",
       "_view_count": null,
       "_view_module": "@jupyter-widgets/controls",
       "_view_module_version": "1.5.0",
       "_view_name": "HTMLView",
       "description": "",
       "description_tooltip": null,
       "layout": "IPY_MODEL_a14c264ef3b84554a6cc46f48983c4c3",
       "placeholder": "​",
       "style": "IPY_MODEL_0c9358f12de8435eaa7cf746d23fd003",
       "value": "modules.json: 100%"
      }
     },
     "d4fd5e4a5ea84f2fbbe29820bbbe6e56": {
      "model_module": "@jupyter-widgets/controls",
      "model_module_version": "1.5.0",
      "model_name": "DescriptionStyleModel",
      "state": {
       "_model_module": "@jupyter-widgets/controls",
       "_model_module_version": "1.5.0",
       "_model_name": "DescriptionStyleModel",
       "_view_count": null,
       "_view_module": "@jupyter-widgets/base",
       "_view_module_version": "1.2.0",
       "_view_name": "StyleView",
       "description_width": ""
      }
     },
     "d7b594b982ed49028febaa09008e6c76": {
      "model_module": "@jupyter-widgets/base",
      "model_module_version": "1.2.0",
      "model_name": "LayoutModel",
      "state": {
       "_model_module": "@jupyter-widgets/base",
       "_model_module_version": "1.2.0",
       "_model_name": "LayoutModel",
       "_view_count": null,
       "_view_module": "@jupyter-widgets/base",
       "_view_module_version": "1.2.0",
       "_view_name": "LayoutView",
       "align_content": null,
       "align_items": null,
       "align_self": null,
       "border": null,
       "bottom": null,
       "display": null,
       "flex": null,
       "flex_flow": null,
       "grid_area": null,
       "grid_auto_columns": null,
       "grid_auto_flow": null,
       "grid_auto_rows": null,
       "grid_column": null,
       "grid_gap": null,
       "grid_row": null,
       "grid_template_areas": null,
       "grid_template_columns": null,
       "grid_template_rows": null,
       "height": null,
       "justify_content": null,
       "justify_items": null,
       "left": null,
       "margin": null,
       "max_height": null,
       "max_width": null,
       "min_height": null,
       "min_width": null,
       "object_fit": null,
       "object_position": null,
       "order": null,
       "overflow": null,
       "overflow_x": null,
       "overflow_y": null,
       "padding": null,
       "right": null,
       "top": null,
       "visibility": null,
       "width": null
      }
     },
     "dbda1806c86c413da8cce4d8fecde798": {
      "model_module": "@jupyter-widgets/base",
      "model_module_version": "1.2.0",
      "model_name": "LayoutModel",
      "state": {
       "_model_module": "@jupyter-widgets/base",
       "_model_module_version": "1.2.0",
       "_model_name": "LayoutModel",
       "_view_count": null,
       "_view_module": "@jupyter-widgets/base",
       "_view_module_version": "1.2.0",
       "_view_name": "LayoutView",
       "align_content": null,
       "align_items": null,
       "align_self": null,
       "border": null,
       "bottom": null,
       "display": null,
       "flex": null,
       "flex_flow": null,
       "grid_area": null,
       "grid_auto_columns": null,
       "grid_auto_flow": null,
       "grid_auto_rows": null,
       "grid_column": null,
       "grid_gap": null,
       "grid_row": null,
       "grid_template_areas": null,
       "grid_template_columns": null,
       "grid_template_rows": null,
       "height": null,
       "justify_content": null,
       "justify_items": null,
       "left": null,
       "margin": null,
       "max_height": null,
       "max_width": null,
       "min_height": null,
       "min_width": null,
       "object_fit": null,
       "object_position": null,
       "order": null,
       "overflow": null,
       "overflow_x": null,
       "overflow_y": null,
       "padding": null,
       "right": null,
       "top": null,
       "visibility": null,
       "width": null
      }
     },
     "dc1d4c6968b94698b7b98affb4642cb7": {
      "model_module": "@jupyter-widgets/controls",
      "model_module_version": "1.5.0",
      "model_name": "DescriptionStyleModel",
      "state": {
       "_model_module": "@jupyter-widgets/controls",
       "_model_module_version": "1.5.0",
       "_model_name": "DescriptionStyleModel",
       "_view_count": null,
       "_view_module": "@jupyter-widgets/base",
       "_view_module_version": "1.2.0",
       "_view_name": "StyleView",
       "description_width": ""
      }
     },
     "dd4325a3542b490ea15acd2f69d2458e": {
      "model_module": "@jupyter-widgets/controls",
      "model_module_version": "1.5.0",
      "model_name": "HTMLModel",
      "state": {
       "_dom_classes": [],
       "_model_module": "@jupyter-widgets/controls",
       "_model_module_version": "1.5.0",
       "_model_name": "HTMLModel",
       "_view_count": null,
       "_view_module": "@jupyter-widgets/controls",
       "_view_module_version": "1.5.0",
       "_view_name": "HTMLView",
       "description": "",
       "description_tooltip": null,
       "layout": "IPY_MODEL_3de2e3e2ac054cd7b5be3a6e3a7ec15d",
       "placeholder": "​",
       "style": "IPY_MODEL_98b5f9dc324548448f7953f55f5d86db",
       "value": "special_tokens_map.json: 100%"
      }
     },
     "ddcb8b1fd4d6474cb55439b3190a900d": {
      "model_module": "@jupyter-widgets/controls",
      "model_module_version": "1.5.0",
      "model_name": "HTMLModel",
      "state": {
       "_dom_classes": [],
       "_model_module": "@jupyter-widgets/controls",
       "_model_module_version": "1.5.0",
       "_model_name": "HTMLModel",
       "_view_count": null,
       "_view_module": "@jupyter-widgets/controls",
       "_view_module_version": "1.5.0",
       "_view_name": "HTMLView",
       "description": "",
       "description_tooltip": null,
       "layout": "IPY_MODEL_e031769673ec47c68ef04d52e4723e9c",
       "placeholder": "​",
       "style": "IPY_MODEL_e43fbedd3f09463e804aa92d9c26a4de",
       "value": " 116/116 [00:00&lt;00:00, 11.1kB/s]"
      }
     },
     "ddf957e1a5f34601b26e883edde368ee": {
      "model_module": "@jupyter-widgets/controls",
      "model_module_version": "1.5.0",
      "model_name": "DescriptionStyleModel",
      "state": {
       "_model_module": "@jupyter-widgets/controls",
       "_model_module_version": "1.5.0",
       "_model_name": "DescriptionStyleModel",
       "_view_count": null,
       "_view_module": "@jupyter-widgets/base",
       "_view_module_version": "1.2.0",
       "_view_name": "StyleView",
       "description_width": ""
      }
     },
     "df236401476743cf86bbb723932593df": {
      "model_module": "@jupyter-widgets/controls",
      "model_module_version": "1.5.0",
      "model_name": "FloatProgressModel",
      "state": {
       "_dom_classes": [],
       "_model_module": "@jupyter-widgets/controls",
       "_model_module_version": "1.5.0",
       "_model_name": "FloatProgressModel",
       "_view_count": null,
       "_view_module": "@jupyter-widgets/controls",
       "_view_module_version": "1.5.0",
       "_view_name": "ProgressView",
       "bar_style": "success",
       "description": "",
       "description_tooltip": null,
       "layout": "IPY_MODEL_7484424d02014638849eedcb39782512",
       "max": 571.0,
       "min": 0.0,
       "orientation": "horizontal",
       "style": "IPY_MODEL_7dc3916bb7354f4c8559c940b54ada69",
       "value": 571.0
      }
     },
     "dff5de11f921468e9f9bcb871e030d0c": {
      "model_module": "@jupyter-widgets/controls",
      "model_module_version": "1.5.0",
      "model_name": "FloatProgressModel",
      "state": {
       "_dom_classes": [],
       "_model_module": "@jupyter-widgets/controls",
       "_model_module_version": "1.5.0",
       "_model_name": "FloatProgressModel",
       "_view_count": null,
       "_view_module": "@jupyter-widgets/controls",
       "_view_module_version": "1.5.0",
       "_view_name": "ProgressView",
       "bar_style": "success",
       "description": "",
       "description_tooltip": null,
       "layout": "IPY_MODEL_2c864a185b8443cc8bbd9b9e24947cc2",
       "max": 190.0,
       "min": 0.0,
       "orientation": "horizontal",
       "style": "IPY_MODEL_a1d749944fbc455ab7f56a9432fd7290",
       "value": 190.0
      }
     },
     "e031769673ec47c68ef04d52e4723e9c": {
      "model_module": "@jupyter-widgets/base",
      "model_module_version": "1.2.0",
      "model_name": "LayoutModel",
      "state": {
       "_model_module": "@jupyter-widgets/base",
       "_model_module_version": "1.2.0",
       "_model_name": "LayoutModel",
       "_view_count": null,
       "_view_module": "@jupyter-widgets/base",
       "_view_module_version": "1.2.0",
       "_view_name": "LayoutView",
       "align_content": null,
       "align_items": null,
       "align_self": null,
       "border": null,
       "bottom": null,
       "display": null,
       "flex": null,
       "flex_flow": null,
       "grid_area": null,
       "grid_auto_columns": null,
       "grid_auto_flow": null,
       "grid_auto_rows": null,
       "grid_column": null,
       "grid_gap": null,
       "grid_row": null,
       "grid_template_areas": null,
       "grid_template_columns": null,
       "grid_template_rows": null,
       "height": null,
       "justify_content": null,
       "justify_items": null,
       "left": null,
       "margin": null,
       "max_height": null,
       "max_width": null,
       "min_height": null,
       "min_width": null,
       "object_fit": null,
       "object_position": null,
       "order": null,
       "overflow": null,
       "overflow_x": null,
       "overflow_y": null,
       "padding": null,
       "right": null,
       "top": null,
       "visibility": null,
       "width": null
      }
     },
     "e2f8fa37293f4d229e2ce162cbcf6711": {
      "model_module": "@jupyter-widgets/controls",
      "model_module_version": "1.5.0",
      "model_name": "HBoxModel",
      "state": {
       "_dom_classes": [],
       "_model_module": "@jupyter-widgets/controls",
       "_model_module_version": "1.5.0",
       "_model_name": "HBoxModel",
       "_view_count": null,
       "_view_module": "@jupyter-widgets/controls",
       "_view_module_version": "1.5.0",
       "_view_name": "HBoxView",
       "box_style": "",
       "children": [
        "IPY_MODEL_7b8e651ee2164abfb2dd9f11d638dea9",
        "IPY_MODEL_08636c7287f04091b93755225cedb23d",
        "IPY_MODEL_75c288b774fc4104a7a611e2914e0090"
       ],
       "layout": "IPY_MODEL_ae48232fe1194787bb7978ac234728b8"
      }
     },
     "e43fbedd3f09463e804aa92d9c26a4de": {
      "model_module": "@jupyter-widgets/controls",
      "model_module_version": "1.5.0",
      "model_name": "DescriptionStyleModel",
      "state": {
       "_model_module": "@jupyter-widgets/controls",
       "_model_module_version": "1.5.0",
       "_model_name": "DescriptionStyleModel",
       "_view_count": null,
       "_view_module": "@jupyter-widgets/base",
       "_view_module_version": "1.2.0",
       "_view_name": "StyleView",
       "description_width": ""
      }
     },
     "e45f235e77334ea79e6ca547a4ed24ba": {
      "model_module": "@jupyter-widgets/controls",
      "model_module_version": "1.5.0",
      "model_name": "HBoxModel",
      "state": {
       "_dom_classes": [],
       "_model_module": "@jupyter-widgets/controls",
       "_model_module_version": "1.5.0",
       "_model_name": "HBoxModel",
       "_view_count": null,
       "_view_module": "@jupyter-widgets/controls",
       "_view_module_version": "1.5.0",
       "_view_name": "HBoxView",
       "box_style": "",
       "children": [
        "IPY_MODEL_73fb2596649543ab8b6986885e1bf7ea",
        "IPY_MODEL_df236401476743cf86bbb723932593df",
        "IPY_MODEL_42a5321ee0774cae9edb6c9ec09e941e"
       ],
       "layout": "IPY_MODEL_7c3b02f07d0d40b8a9a794a5ceb9c60c"
      }
     },
     "ea6aab10b00f483ba73d94fa6f75dee9": {
      "model_module": "@jupyter-widgets/controls",
      "model_module_version": "1.5.0",
      "model_name": "DescriptionStyleModel",
      "state": {
       "_model_module": "@jupyter-widgets/controls",
       "_model_module_version": "1.5.0",
       "_model_name": "DescriptionStyleModel",
       "_view_count": null,
       "_view_module": "@jupyter-widgets/base",
       "_view_module_version": "1.2.0",
       "_view_name": "StyleView",
       "description_width": ""
      }
     },
     "ed0ffa2ed9b24b91a87a365cc39ca424": {
      "model_module": "@jupyter-widgets/base",
      "model_module_version": "1.2.0",
      "model_name": "LayoutModel",
      "state": {
       "_model_module": "@jupyter-widgets/base",
       "_model_module_version": "1.2.0",
       "_model_name": "LayoutModel",
       "_view_count": null,
       "_view_module": "@jupyter-widgets/base",
       "_view_module_version": "1.2.0",
       "_view_name": "LayoutView",
       "align_content": null,
       "align_items": null,
       "align_self": null,
       "border": null,
       "bottom": null,
       "display": null,
       "flex": null,
       "flex_flow": null,
       "grid_area": null,
       "grid_auto_columns": null,
       "grid_auto_flow": null,
       "grid_auto_rows": null,
       "grid_column": null,
       "grid_gap": null,
       "grid_row": null,
       "grid_template_areas": null,
       "grid_template_columns": null,
       "grid_template_rows": null,
       "height": null,
       "justify_content": null,
       "justify_items": null,
       "left": null,
       "margin": null,
       "max_height": null,
       "max_width": null,
       "min_height": null,
       "min_width": null,
       "object_fit": null,
       "object_position": null,
       "order": null,
       "overflow": null,
       "overflow_x": null,
       "overflow_y": null,
       "padding": null,
       "right": null,
       "top": null,
       "visibility": null,
       "width": null
      }
     },
     "ed69a81463804c479c3b174f3f883ded": {
      "model_module": "@jupyter-widgets/base",
      "model_module_version": "1.2.0",
      "model_name": "LayoutModel",
      "state": {
       "_model_module": "@jupyter-widgets/base",
       "_model_module_version": "1.2.0",
       "_model_name": "LayoutModel",
       "_view_count": null,
       "_view_module": "@jupyter-widgets/base",
       "_view_module_version": "1.2.0",
       "_view_name": "LayoutView",
       "align_content": null,
       "align_items": null,
       "align_self": null,
       "border": null,
       "bottom": null,
       "display": null,
       "flex": null,
       "flex_flow": null,
       "grid_area": null,
       "grid_auto_columns": null,
       "grid_auto_flow": null,
       "grid_auto_rows": null,
       "grid_column": null,
       "grid_gap": null,
       "grid_row": null,
       "grid_template_areas": null,
       "grid_template_columns": null,
       "grid_template_rows": null,
       "height": null,
       "justify_content": null,
       "justify_items": null,
       "left": null,
       "margin": null,
       "max_height": null,
       "max_width": null,
       "min_height": null,
       "min_width": null,
       "object_fit": null,
       "object_position": null,
       "order": null,
       "overflow": null,
       "overflow_x": null,
       "overflow_y": null,
       "padding": null,
       "right": null,
       "top": null,
       "visibility": null,
       "width": null
      }
     },
     "eee0a6c0c39d4f79b750c162caa6931b": {
      "model_module": "@jupyter-widgets/controls",
      "model_module_version": "1.5.0",
      "model_name": "DescriptionStyleModel",
      "state": {
       "_model_module": "@jupyter-widgets/controls",
       "_model_module_version": "1.5.0",
       "_model_name": "DescriptionStyleModel",
       "_view_count": null,
       "_view_module": "@jupyter-widgets/base",
       "_view_module_version": "1.2.0",
       "_view_name": "StyleView",
       "description_width": ""
      }
     },
     "ef21613d580a40049c3259a55cf92797": {
      "model_module": "@jupyter-widgets/controls",
      "model_module_version": "1.5.0",
      "model_name": "FloatProgressModel",
      "state": {
       "_dom_classes": [],
       "_model_module": "@jupyter-widgets/controls",
       "_model_module_version": "1.5.0",
       "_model_name": "FloatProgressModel",
       "_view_count": null,
       "_view_module": "@jupyter-widgets/controls",
       "_view_module_version": "1.5.0",
       "_view_name": "ProgressView",
       "bar_style": "success",
       "description": "",
       "description_tooltip": null,
       "layout": "IPY_MODEL_7440a92302cb4d9884fe895245cff132",
       "max": 466021.0,
       "min": 0.0,
       "orientation": "horizontal",
       "style": "IPY_MODEL_c4e7eb38c99d42eca6eaeead0277daf6",
       "value": 466021.0
      }
     },
     "ef4313e42bcd48aeb30f2dd8ed5d6e48": {
      "model_module": "@jupyter-widgets/base",
      "model_module_version": "1.2.0",
      "model_name": "LayoutModel",
      "state": {
       "_model_module": "@jupyter-widgets/base",
       "_model_module_version": "1.2.0",
       "_model_name": "LayoutModel",
       "_view_count": null,
       "_view_module": "@jupyter-widgets/base",
       "_view_module_version": "1.2.0",
       "_view_name": "LayoutView",
       "align_content": null,
       "align_items": null,
       "align_self": null,
       "border": null,
       "bottom": null,
       "display": null,
       "flex": null,
       "flex_flow": null,
       "grid_area": null,
       "grid_auto_columns": null,
       "grid_auto_flow": null,
       "grid_auto_rows": null,
       "grid_column": null,
       "grid_gap": null,
       "grid_row": null,
       "grid_template_areas": null,
       "grid_template_columns": null,
       "grid_template_rows": null,
       "height": null,
       "justify_content": null,
       "justify_items": null,
       "left": null,
       "margin": null,
       "max_height": null,
       "max_width": null,
       "min_height": null,
       "min_width": null,
       "object_fit": null,
       "object_position": null,
       "order": null,
       "overflow": null,
       "overflow_x": null,
       "overflow_y": null,
       "padding": null,
       "right": null,
       "top": null,
       "visibility": null,
       "width": null
      }
     },
     "efbbc2e3616f43f9837b93b8f82e18b4": {
      "model_module": "@jupyter-widgets/base",
      "model_module_version": "1.2.0",
      "model_name": "LayoutModel",
      "state": {
       "_model_module": "@jupyter-widgets/base",
       "_model_module_version": "1.2.0",
       "_model_name": "LayoutModel",
       "_view_count": null,
       "_view_module": "@jupyter-widgets/base",
       "_view_module_version": "1.2.0",
       "_view_name": "LayoutView",
       "align_content": null,
       "align_items": null,
       "align_self": null,
       "border": null,
       "bottom": null,
       "display": null,
       "flex": null,
       "flex_flow": null,
       "grid_area": null,
       "grid_auto_columns": null,
       "grid_auto_flow": null,
       "grid_auto_rows": null,
       "grid_column": null,
       "grid_gap": null,
       "grid_row": null,
       "grid_template_areas": null,
       "grid_template_columns": null,
       "grid_template_rows": null,
       "height": null,
       "justify_content": null,
       "justify_items": null,
       "left": null,
       "margin": null,
       "max_height": null,
       "max_width": null,
       "min_height": null,
       "min_width": null,
       "object_fit": null,
       "object_position": null,
       "order": null,
       "overflow": null,
       "overflow_x": null,
       "overflow_y": null,
       "padding": null,
       "right": null,
       "top": null,
       "visibility": null,
       "width": null
      }
     },
     "efc87c2c008f41bd8e25c253bff253aa": {
      "model_module": "@jupyter-widgets/base",
      "model_module_version": "1.2.0",
      "model_name": "LayoutModel",
      "state": {
       "_model_module": "@jupyter-widgets/base",
       "_model_module_version": "1.2.0",
       "_model_name": "LayoutModel",
       "_view_count": null,
       "_view_module": "@jupyter-widgets/base",
       "_view_module_version": "1.2.0",
       "_view_name": "LayoutView",
       "align_content": null,
       "align_items": null,
       "align_self": null,
       "border": null,
       "bottom": null,
       "display": null,
       "flex": null,
       "flex_flow": null,
       "grid_area": null,
       "grid_auto_columns": null,
       "grid_auto_flow": null,
       "grid_auto_rows": null,
       "grid_column": null,
       "grid_gap": null,
       "grid_row": null,
       "grid_template_areas": null,
       "grid_template_columns": null,
       "grid_template_rows": null,
       "height": null,
       "justify_content": null,
       "justify_items": null,
       "left": null,
       "margin": null,
       "max_height": null,
       "max_width": null,
       "min_height": null,
       "min_width": null,
       "object_fit": null,
       "object_position": null,
       "order": null,
       "overflow": null,
       "overflow_x": null,
       "overflow_y": null,
       "padding": null,
       "right": null,
       "top": null,
       "visibility": null,
       "width": null
      }
     },
     "f37cab221275454980c0144014130f0a": {
      "model_module": "@jupyter-widgets/controls",
      "model_module_version": "1.5.0",
      "model_name": "HTMLModel",
      "state": {
       "_dom_classes": [],
       "_model_module": "@jupyter-widgets/controls",
       "_model_module_version": "1.5.0",
       "_model_name": "HTMLModel",
       "_view_count": null,
       "_view_module": "@jupyter-widgets/controls",
       "_view_module_version": "1.5.0",
       "_view_name": "HTMLView",
       "description": "",
       "description_tooltip": null,
       "layout": "IPY_MODEL_355fe75d15a841d49b0a321b20722302",
       "placeholder": "​",
       "style": "IPY_MODEL_0529e3c92cd544988b7ce8200010b256",
       "value": "1_Pooling/config.json: 100%"
      }
     },
     "f6c225b78ac447388c1a7237884db1df": {
      "model_module": "@jupyter-widgets/controls",
      "model_module_version": "1.5.0",
      "model_name": "DescriptionStyleModel",
      "state": {
       "_model_module": "@jupyter-widgets/controls",
       "_model_module_version": "1.5.0",
       "_model_name": "DescriptionStyleModel",
       "_view_count": null,
       "_view_module": "@jupyter-widgets/base",
       "_view_module_version": "1.2.0",
       "_view_name": "StyleView",
       "description_width": ""
      }
     },
     "f781022cc3b04e3dba53ea70aa114500": {
      "model_module": "@jupyter-widgets/base",
      "model_module_version": "1.2.0",
      "model_name": "LayoutModel",
      "state": {
       "_model_module": "@jupyter-widgets/base",
       "_model_module_version": "1.2.0",
       "_model_name": "LayoutModel",
       "_view_count": null,
       "_view_module": "@jupyter-widgets/base",
       "_view_module_version": "1.2.0",
       "_view_name": "LayoutView",
       "align_content": null,
       "align_items": null,
       "align_self": null,
       "border": null,
       "bottom": null,
       "display": null,
       "flex": null,
       "flex_flow": null,
       "grid_area": null,
       "grid_auto_columns": null,
       "grid_auto_flow": null,
       "grid_auto_rows": null,
       "grid_column": null,
       "grid_gap": null,
       "grid_row": null,
       "grid_template_areas": null,
       "grid_template_columns": null,
       "grid_template_rows": null,
       "height": null,
       "justify_content": null,
       "justify_items": null,
       "left": null,
       "margin": null,
       "max_height": null,
       "max_width": null,
       "min_height": null,
       "min_width": null,
       "object_fit": null,
       "object_position": null,
       "order": null,
       "overflow": null,
       "overflow_x": null,
       "overflow_y": null,
       "padding": null,
       "right": null,
       "top": null,
       "visibility": null,
       "width": null
      }
     }
    },
    "version_major": 2,
    "version_minor": 0
   }
  }
 },
 "nbformat": 4,
 "nbformat_minor": 5
}

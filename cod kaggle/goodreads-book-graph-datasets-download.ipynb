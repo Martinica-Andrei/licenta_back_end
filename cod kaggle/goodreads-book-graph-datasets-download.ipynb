{
 "cells": [
  {
   "cell_type": "code",
   "execution_count": 1,
   "id": "5d009039",
   "metadata": {
    "_cell_guid": "b1076dfc-b9ad-4769-8c92-a6c4dae69d19",
    "_uuid": "8f2839f25d086af736a60e9eeb907d3b93b6e0e5",
    "execution": {
     "iopub.execute_input": "2024-10-22T16:50:51.870714Z",
     "iopub.status.busy": "2024-10-22T16:50:51.870274Z",
     "iopub.status.idle": "2024-10-22T16:50:52.847748Z",
     "shell.execute_reply": "2024-10-22T16:50:52.846681Z"
    },
    "papermill": {
     "duration": 0.984911,
     "end_time": "2024-10-22T16:50:52.850621",
     "exception": false,
     "start_time": "2024-10-22T16:50:51.865710",
     "status": "completed"
    },
    "tags": []
   },
   "outputs": [],
   "source": [
    "import requests\n",
    "import gzip\n",
    "import json\n",
    "from io import BytesIO\n",
    "import pandas as pd"
   ]
  },
  {
   "cell_type": "markdown",
   "id": "cbbb459e",
   "metadata": {
    "papermill": {
     "duration": 0.002708,
     "end_time": "2024-10-22T16:50:52.857083",
     "exception": false,
     "start_time": "2024-10-22T16:50:52.854375",
     "status": "completed"
    },
    "tags": []
   },
   "source": [
    "<a href='https://mengtingwan.github.io/data/goodreads.html'>Dataset link</a>"
   ]
  },
  {
   "cell_type": "markdown",
   "id": "2bb5fad3",
   "metadata": {
    "papermill": {
     "duration": 0.001992,
     "end_time": "2024-10-22T16:50:52.861549",
     "exception": false,
     "start_time": "2024-10-22T16:50:52.859557",
     "status": "completed"
    },
    "tags": []
   },
   "source": [
    "<div>\n",
    "    <p>Citations</p> \n",
    "    <ul>\n",
    "        <li>Mengting Wan, Julian McAuley, \"<a href=\"https://mengtingwan.github.io/paper/recsys18_mwan.pdf\">Item Recommendation on Monotonic Behavior Chains</a>\", in RecSys'18. [<a href=\"https://dblp.uni-trier.de/rec/conf/recsys/WanM18.html?view=bibtex\">bibtex</a>]\n",
    "        </li>\n",
    "        <li>Mengting Wan, Rishabh Misra, Ndapa Nakashole, Julian McAuley, \"<a href=\"https://mengtingwan.github.io/paper/acl19_mwan.pdf\">Fine-Grained Spoiler Detection from Large-Scale Review Corpora</a>\", in ACL'19. [<a href=\"https://dblp.uni-trier.de/rec/conf/acl/WanMNM19.html?view=bibtex\">bibtex</a>]\n",
    "        </li>\n",
    "    </ul>\n",
    "</div>"
   ]
  },
  {
   "cell_type": "code",
   "execution_count": 2,
   "id": "d90880c0",
   "metadata": {
    "execution": {
     "iopub.execute_input": "2024-10-22T16:50:52.868643Z",
     "iopub.status.busy": "2024-10-22T16:50:52.867421Z",
     "iopub.status.idle": "2024-10-22T16:57:29.862871Z",
     "shell.execute_reply": "2024-10-22T16:57:29.861199Z"
    },
    "papermill": {
     "duration": 397.00433,
     "end_time": "2024-10-22T16:57:29.868067",
     "exception": false,
     "start_time": "2024-10-22T16:50:52.863737",
     "status": "completed"
    },
    "tags": []
   },
   "outputs": [],
   "source": [
    "urls_to_download = {\n",
    "    \"books.json\" : \"https://datarepo.eng.ucsd.edu/mcauley_group/gdrive/goodreads/byGenre/goodreads_books_comics_graphic.json.gz\",\n",
    "    \"interactions.json\" : \"https://datarepo.eng.ucsd.edu/mcauley_group/gdrive/goodreads/byGenre/goodreads_interactions_comics_graphic.json.gz\",\n",
    "    \"reviews.json\" : \"https://datarepo.eng.ucsd.edu/mcauley_group/gdrive/goodreads/byGenre/goodreads_reviews_comics_graphic.json.gz\",\n",
    "    \"authors.json\" : \"https://datarepo.eng.ucsd.edu/mcauley_group/gdrive/goodreads/goodreads_book_authors.json.gz\",\n",
    "    \"book_works.json\" : \"https://datarepo.eng.ucsd.edu/mcauley_group/gdrive/goodreads/goodreads_book_works.json.gz\",\n",
    "    \"book_series.json\" : \"https://datarepo.eng.ucsd.edu/mcauley_group/gdrive/goodreads/goodreads_book_series.json.gz\",\n",
    "    \"book_genres.json\" : \"https://datarepo.eng.ucsd.edu/mcauley_group/gdrive/goodreads/goodreads_book_genres_initial.json.gz\"\n",
    "    \n",
    "}\n",
    "\n",
    "def download_gzip(url, filename):\n",
    "    response = requests.get(url)\n",
    "    compressed_file = BytesIO(response.content)  \n",
    "    with gzip.GzipFile(fileobj=compressed_file, mode='rb') as f:\n",
    "        json_bytes = f.read()\n",
    "        json_str = json_bytes.decode('utf-8')\n",
    "    with open(filename, 'w') as file:\n",
    "        file.write(json_str)\n",
    "\n",
    "for filename, url in urls_to_download.items():\n",
    "    download_gzip(url, filename)"
   ]
  }
 ],
 "metadata": {
  "kaggle": {
   "accelerator": "none",
   "dataSources": [],
   "dockerImageVersionId": 30786,
   "isGpuEnabled": false,
   "isInternetEnabled": true,
   "language": "python",
   "sourceType": "notebook"
  },
  "kernelspec": {
   "display_name": "Python 3",
   "language": "python",
   "name": "python3"
  },
  "language_info": {
   "codemirror_mode": {
    "name": "ipython",
    "version": 3
   },
   "file_extension": ".py",
   "mimetype": "text/x-python",
   "name": "python",
   "nbconvert_exporter": "python",
   "pygments_lexer": "ipython3",
   "version": "3.10.14"
  },
  "papermill": {
   "default_parameters": {},
   "duration": 401.808351,
   "end_time": "2024-10-22T16:57:30.497844",
   "environment_variables": {},
   "exception": null,
   "input_path": "__notebook__.ipynb",
   "output_path": "__notebook__.ipynb",
   "parameters": {},
   "start_time": "2024-10-22T16:50:48.689493",
   "version": "2.6.0"
  }
 },
 "nbformat": 4,
 "nbformat_minor": 5
}

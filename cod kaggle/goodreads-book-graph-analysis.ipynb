{
 "cells": [
  {
   "cell_type": "code",
   "execution_count": 1,
   "id": "320e85da",
   "metadata": {
    "_cell_guid": "b1076dfc-b9ad-4769-8c92-a6c4dae69d19",
    "_uuid": "8f2839f25d086af736a60e9eeb907d3b93b6e0e5",
    "execution": {
     "iopub.execute_input": "2025-03-01T07:08:50.938817Z",
     "iopub.status.busy": "2025-03-01T07:08:50.938201Z",
     "iopub.status.idle": "2025-03-01T07:08:51.968323Z",
     "shell.execute_reply": "2025-03-01T07:08:51.966143Z"
    },
    "papermill": {
     "duration": 1.051113,
     "end_time": "2025-03-01T07:08:51.971181",
     "exception": false,
     "start_time": "2025-03-01T07:08:50.920068",
     "status": "completed"
    },
    "tags": []
   },
   "outputs": [],
   "source": [
    "import pandas as pd\n",
    "import matplotlib.pyplot as plt\n",
    "import numpy as np\n",
    "from collections import Counter"
   ]
  },
  {
   "cell_type": "code",
   "execution_count": 2,
   "id": "bc315f89",
   "metadata": {
    "execution": {
     "iopub.execute_input": "2025-03-01T07:08:51.996921Z",
     "iopub.status.busy": "2025-03-01T07:08:51.996373Z",
     "iopub.status.idle": "2025-03-01T07:08:52.001867Z",
     "shell.execute_reply": "2025-03-01T07:08:52.000705Z"
    },
    "papermill": {
     "duration": 0.020674,
     "end_time": "2025-03-01T07:08:52.004405",
     "exception": false,
     "start_time": "2025-03-01T07:08:51.983731",
     "status": "completed"
    },
    "tags": []
   },
   "outputs": [],
   "source": [
    "plt.style.use('fivethirtyeight')"
   ]
  },
  {
   "cell_type": "markdown",
   "id": "80873568",
   "metadata": {
    "papermill": {
     "duration": 0.010513,
     "end_time": "2025-03-01T07:08:52.028475",
     "exception": false,
     "start_time": "2025-03-01T07:08:52.017962",
     "status": "completed"
    },
    "tags": []
   },
   "source": [
    "<a href='https://mengtingwan.github.io/data/goodreads.html'>Dataset link</a>"
   ]
  },
  {
   "cell_type": "markdown",
   "id": "46006131",
   "metadata": {
    "papermill": {
     "duration": 0.011001,
     "end_time": "2025-03-01T07:08:52.050098",
     "exception": false,
     "start_time": "2025-03-01T07:08:52.039097",
     "status": "completed"
    },
    "tags": []
   },
   "source": [
    "<div>\n",
    "    <p>Citations</p> \n",
    "    <ul>\n",
    "        <li>Mengting Wan, Julian McAuley, \"<a href=\"https://mengtingwan.github.io/paper/recsys18_mwan.pdf\">Item Recommendation on Monotonic Behavior Chains</a>\", in RecSys'18. [<a href=\"https://dblp.uni-trier.de/rec/conf/recsys/WanM18.html?view=bibtex\">bibtex</a>]\n",
    "        </li>\n",
    "        <li>Mengting Wan, Rishabh Misra, Ndapa Nakashole, Julian McAuley, \"<a href=\"https://mengtingwan.github.io/paper/acl19_mwan.pdf\">Fine-Grained Spoiler Detection from Large-Scale Review Corpora</a>\", in ACL'19. [<a href=\"https://dblp.uni-trier.de/rec/conf/acl/WanMNM19.html?view=bibtex\">bibtex</a>]\n",
    "        </li>\n",
    "    </ul>\n",
    "</div>"
   ]
  },
  {
   "cell_type": "markdown",
   "id": "5112288e",
   "metadata": {
    "papermill": {
     "duration": 0.01125,
     "end_time": "2025-03-01T07:08:52.072170",
     "exception": false,
     "start_time": "2025-03-01T07:08:52.060920",
     "status": "completed"
    },
    "tags": []
   },
   "source": [
    "# Load data"
   ]
  },
  {
   "cell_type": "code",
   "execution_count": 3,
   "id": "95df5c87",
   "metadata": {
    "execution": {
     "iopub.execute_input": "2025-03-01T07:08:52.097211Z",
     "iopub.status.busy": "2025-03-01T07:08:52.096095Z",
     "iopub.status.idle": "2025-03-01T07:09:06.618123Z",
     "shell.execute_reply": "2025-03-01T07:09:06.616764Z"
    },
    "papermill": {
     "duration": 14.537247,
     "end_time": "2025-03-01T07:09:06.620740",
     "exception": false,
     "start_time": "2025-03-01T07:08:52.083493",
     "status": "completed"
    },
    "tags": []
   },
   "outputs": [
    {
     "name": "stdout",
     "output_type": "stream",
     "text": [
      "books loaded\n"
     ]
    }
   ],
   "source": [
    "books = pd.read_json('/kaggle/input/goodreads-book-graph-datasets-download/books.json', lines=True)\n",
    "print('books loaded')"
   ]
  },
  {
   "cell_type": "code",
   "execution_count": 4,
   "id": "0e2f1dbf",
   "metadata": {
    "execution": {
     "iopub.execute_input": "2025-03-01T07:09:06.644414Z",
     "iopub.status.busy": "2025-03-01T07:09:06.644019Z",
     "iopub.status.idle": "2025-03-01T07:10:18.139816Z",
     "shell.execute_reply": "2025-03-01T07:10:18.138645Z"
    },
    "papermill": {
     "duration": 71.521038,
     "end_time": "2025-03-01T07:10:18.152909",
     "exception": false,
     "start_time": "2025-03-01T07:09:06.631871",
     "status": "completed"
    },
    "tags": []
   },
   "outputs": [
    {
     "name": "stdout",
     "output_type": "stream",
     "text": [
      "reviews loaded\n"
     ]
    }
   ],
   "source": [
    "reviews = pd.read_json('/kaggle/input/goodreads-book-graph-datasets-download/reviews.json', lines=True)\n",
    "print('reviews loaded')"
   ]
  },
  {
   "cell_type": "code",
   "execution_count": 5,
   "id": "54bbcd4c",
   "metadata": {
    "execution": {
     "iopub.execute_input": "2025-03-01T07:10:18.180430Z",
     "iopub.status.busy": "2025-03-01T07:10:18.179993Z",
     "iopub.status.idle": "2025-03-01T07:13:19.437712Z",
     "shell.execute_reply": "2025-03-01T07:13:19.436489Z"
    },
    "papermill": {
     "duration": 181.28837,
     "end_time": "2025-03-01T07:13:19.452906",
     "exception": false,
     "start_time": "2025-03-01T07:10:18.164536",
     "status": "completed"
    },
    "tags": []
   },
   "outputs": [
    {
     "name": "stdout",
     "output_type": "stream",
     "text": [
      "interactions loaded\n"
     ]
    }
   ],
   "source": [
    "interactions = pd.read_json('/kaggle/input/goodreads-book-graph-datasets-download/interactions.json', lines=True)\n",
    "print('interactions loaded')"
   ]
  },
  {
   "cell_type": "code",
   "execution_count": 6,
   "id": "0ba179b2",
   "metadata": {
    "execution": {
     "iopub.execute_input": "2025-03-01T07:13:19.497464Z",
     "iopub.status.busy": "2025-03-01T07:13:19.496988Z",
     "iopub.status.idle": "2025-03-01T07:13:23.978661Z",
     "shell.execute_reply": "2025-03-01T07:13:23.977316Z"
    },
    "papermill": {
     "duration": 4.517444,
     "end_time": "2025-03-01T07:13:23.981092",
     "exception": false,
     "start_time": "2025-03-01T07:13:19.463648",
     "status": "completed"
    },
    "tags": []
   },
   "outputs": [
    {
     "name": "stdout",
     "output_type": "stream",
     "text": [
      "authors loaded\n"
     ]
    }
   ],
   "source": [
    "authors = pd.read_json('/kaggle/input/goodreads-book-graph-datasets-download/authors.json', lines=True)\n",
    "print('authors loaded')"
   ]
  },
  {
   "cell_type": "code",
   "execution_count": 7,
   "id": "f81d0171",
   "metadata": {
    "execution": {
     "iopub.execute_input": "2025-03-01T07:13:24.004985Z",
     "iopub.status.busy": "2025-03-01T07:13:24.004583Z",
     "iopub.status.idle": "2025-03-01T07:13:40.016773Z",
     "shell.execute_reply": "2025-03-01T07:13:40.015434Z"
    },
    "papermill": {
     "duration": 16.026983,
     "end_time": "2025-03-01T07:13:40.019137",
     "exception": false,
     "start_time": "2025-03-01T07:13:23.992154",
     "status": "completed"
    },
    "tags": []
   },
   "outputs": [
    {
     "name": "stdout",
     "output_type": "stream",
     "text": [
      "book genres loaded\n"
     ]
    }
   ],
   "source": [
    "book_genres = pd.read_json('/kaggle/input/goodreads-book-graph-datasets-download/book_genres.json', lines=True)\n",
    "print('book genres loaded')"
   ]
  },
  {
   "cell_type": "code",
   "execution_count": 8,
   "id": "e1b25163",
   "metadata": {
    "execution": {
     "iopub.execute_input": "2025-03-01T07:13:40.043725Z",
     "iopub.status.busy": "2025-03-01T07:13:40.042814Z",
     "iopub.status.idle": "2025-03-01T07:13:43.962738Z",
     "shell.execute_reply": "2025-03-01T07:13:43.961611Z"
    },
    "papermill": {
     "duration": 3.935278,
     "end_time": "2025-03-01T07:13:43.965828",
     "exception": false,
     "start_time": "2025-03-01T07:13:40.030550",
     "status": "completed"
    },
    "tags": []
   },
   "outputs": [
    {
     "name": "stdout",
     "output_type": "stream",
     "text": [
      "book series loaded\n"
     ]
    }
   ],
   "source": [
    "book_series = pd.read_json('/kaggle/input/goodreads-book-graph-datasets-download/book_series.json', lines=True)\n",
    "print('book series loaded')"
   ]
  },
  {
   "cell_type": "code",
   "execution_count": 9,
   "id": "65fe66d3",
   "metadata": {
    "collapsed": true,
    "execution": {
     "iopub.execute_input": "2025-03-01T07:13:43.994846Z",
     "iopub.status.busy": "2025-03-01T07:13:43.994420Z",
     "iopub.status.idle": "2025-03-01T07:14:08.632988Z",
     "shell.execute_reply": "2025-03-01T07:14:08.631825Z"
    },
    "jupyter": {
     "outputs_hidden": true
    },
    "papermill": {
     "duration": 24.657717,
     "end_time": "2025-03-01T07:14:08.635194",
     "exception": false,
     "start_time": "2025-03-01T07:13:43.977477",
     "status": "completed"
    },
    "tags": []
   },
   "outputs": [
    {
     "name": "stdout",
     "output_type": "stream",
     "text": [
      "book works loaded\n"
     ]
    }
   ],
   "source": [
    "book_works = pd.read_json('/kaggle/input/goodreads-book-graph-datasets-download/book_works.json', lines=True)\n",
    "print('book works loaded')"
   ]
  },
  {
   "cell_type": "code",
   "execution_count": 10,
   "id": "e38c452d",
   "metadata": {
    "execution": {
     "iopub.execute_input": "2025-03-01T07:14:08.679686Z",
     "iopub.status.busy": "2025-03-01T07:14:08.679273Z",
     "iopub.status.idle": "2025-03-01T07:14:08.696388Z",
     "shell.execute_reply": "2025-03-01T07:14:08.695104Z"
    },
    "papermill": {
     "duration": 0.052677,
     "end_time": "2025-03-01T07:14:08.699411",
     "exception": false,
     "start_time": "2025-03-01T07:14:08.646734",
     "status": "completed"
    },
    "tags": []
   },
   "outputs": [],
   "source": [
    "interactions.set_index('review_id', inplace=True)\n",
    "reviews.set_index('review_id', inplace=True)"
   ]
  },
  {
   "cell_type": "markdown",
   "id": "484832ff",
   "metadata": {
    "papermill": {
     "duration": 0.011873,
     "end_time": "2025-03-01T07:14:08.723050",
     "exception": false,
     "start_time": "2025-03-01T07:14:08.711177",
     "status": "completed"
    },
    "tags": []
   },
   "source": [
    "# Books"
   ]
  },
  {
   "cell_type": "code",
   "execution_count": 11,
   "id": "988a78ef",
   "metadata": {
    "execution": {
     "iopub.execute_input": "2025-03-01T07:14:08.747544Z",
     "iopub.status.busy": "2025-03-01T07:14:08.747120Z",
     "iopub.status.idle": "2025-03-01T07:14:08.755495Z",
     "shell.execute_reply": "2025-03-01T07:14:08.754398Z"
    },
    "papermill": {
     "duration": 0.023361,
     "end_time": "2025-03-01T07:14:08.757730",
     "exception": false,
     "start_time": "2025-03-01T07:14:08.734369",
     "status": "completed"
    },
    "tags": []
   },
   "outputs": [
    {
     "data": {
      "text/plain": [
       "Index(['isbn', 'text_reviews_count', 'series', 'country_code', 'language_code',\n",
       "       'popular_shelves', 'asin', 'is_ebook', 'average_rating', 'kindle_asin',\n",
       "       'similar_books', 'description', 'format', 'link', 'authors',\n",
       "       'publisher', 'num_pages', 'publication_day', 'isbn13',\n",
       "       'publication_month', 'edition_information', 'publication_year', 'url',\n",
       "       'image_url', 'book_id', 'ratings_count', 'work_id', 'title',\n",
       "       'title_without_series'],\n",
       "      dtype='object')"
      ]
     },
     "execution_count": 11,
     "metadata": {},
     "output_type": "execute_result"
    }
   ],
   "source": [
    "books.columns"
   ]
  },
  {
   "cell_type": "markdown",
   "id": "6d2d9c3c",
   "metadata": {
    "papermill": {
     "duration": 0.011396,
     "end_time": "2025-03-01T07:14:08.780894",
     "exception": false,
     "start_time": "2025-03-01T07:14:08.769498",
     "status": "completed"
    },
    "tags": []
   },
   "source": [
    "Strings and list can have 0 elements even if there are no nan values."
   ]
  },
  {
   "cell_type": "code",
   "execution_count": 12,
   "id": "b1ec34cf",
   "metadata": {
    "execution": {
     "iopub.execute_input": "2025-03-01T07:14:08.806141Z",
     "iopub.status.busy": "2025-03-01T07:14:08.805753Z",
     "iopub.status.idle": "2025-03-01T07:14:09.142427Z",
     "shell.execute_reply": "2025-03-01T07:14:09.141199Z"
    },
    "papermill": {
     "duration": 0.35231,
     "end_time": "2025-03-01T07:14:09.144839",
     "exception": false,
     "start_time": "2025-03-01T07:14:08.792529",
     "status": "completed"
    },
    "tags": []
   },
   "outputs": [
    {
     "data": {
      "text/plain": [
       "False"
      ]
     },
     "execution_count": 12,
     "metadata": {},
     "output_type": "execute_result"
    }
   ],
   "source": [
    "books.isna().any().any()"
   ]
  },
  {
   "cell_type": "code",
   "execution_count": 13,
   "id": "80ef5494",
   "metadata": {
    "execution": {
     "iopub.execute_input": "2025-03-01T07:14:09.170761Z",
     "iopub.status.busy": "2025-03-01T07:14:09.170336Z",
     "iopub.status.idle": "2025-03-01T07:14:09.423945Z",
     "shell.execute_reply": "2025-03-01T07:14:09.422420Z"
    },
    "papermill": {
     "duration": 0.272509,
     "end_time": "2025-03-01T07:14:09.429064",
     "exception": false,
     "start_time": "2025-03-01T07:14:09.156555",
     "status": "completed"
    },
    "tags": []
   },
   "outputs": [
    {
     "data": {
      "image/png": "[encoded data removed]",
      "text/plain": [
       "<Figure size 640x480 with 1 Axes>"
      ]
     },
     "metadata": {},
     "output_type": "display_data"
    }
   ],
   "source": [
    "temp = (books.description.str.len() == 0).value_counts(True)\n",
    "temp.index = temp.index.map({False : \"Has Description\", True: \"Missing Description\"})\n",
    "temp.plot.pie(wedgeprops = {\"edgecolor\" : \"black\", \n",
    "                      'linewidth': 1, \n",
    "                      'antialiased': True}, autopct = '%.2f%%')\n",
    "plt.show()"
   ]
  },
  {
   "cell_type": "code",
   "execution_count": 14,
   "id": "1e575173",
   "metadata": {
    "execution": {
     "iopub.execute_input": "2025-03-01T07:14:09.495826Z",
     "iopub.status.busy": "2025-03-01T07:14:09.495429Z",
     "iopub.status.idle": "2025-03-01T07:14:09.553097Z",
     "shell.execute_reply": "2025-03-01T07:14:09.552039Z"
    },
    "papermill": {
     "duration": 0.087599,
     "end_time": "2025-03-01T07:14:09.555455",
     "exception": false,
     "start_time": "2025-03-01T07:14:09.467856",
     "status": "completed"
    },
    "tags": []
   },
   "outputs": [
    {
     "data": {
      "text/html": [
       "<div>\n",
       "<style scoped>\n",
       "    .dataframe tbody tr th:only-of-type {\n",
       "        vertical-align: middle;\n",
       "    }\n",
       "\n",
       "    .dataframe tbody tr th {\n",
       "        vertical-align: top;\n",
       "    }\n",
       "\n",
       "    .dataframe thead th {\n",
       "        text-align: right;\n",
       "    }\n",
       "</style>\n",
       "<table border=\"1\" class=\"dataframe\">\n",
       "  <thead>\n",
       "    <tr style=\"text-align: right;\">\n",
       "      <th></th>\n",
       "      <th>isbn</th>\n",
       "      <th>text_reviews_count</th>\n",
       "      <th>series</th>\n",
       "      <th>country_code</th>\n",
       "      <th>language_code</th>\n",
       "      <th>popular_shelves</th>\n",
       "      <th>asin</th>\n",
       "      <th>is_ebook</th>\n",
       "      <th>average_rating</th>\n",
       "      <th>kindle_asin</th>\n",
       "      <th>...</th>\n",
       "      <th>publication_month</th>\n",
       "      <th>edition_information</th>\n",
       "      <th>publication_year</th>\n",
       "      <th>url</th>\n",
       "      <th>image_url</th>\n",
       "      <th>book_id</th>\n",
       "      <th>ratings_count</th>\n",
       "      <th>work_id</th>\n",
       "      <th>title</th>\n",
       "      <th>title_without_series</th>\n",
       "    </tr>\n",
       "  </thead>\n",
       "  <tbody>\n",
       "    <tr>\n",
       "      <th>0</th>\n",
       "      <td></td>\n",
       "      <td>1</td>\n",
       "      <td>[]</td>\n",
       "      <td>US</td>\n",
       "      <td></td>\n",
       "      <td>[{'count': '228', 'name': 'to-read'}, {'count'...</td>\n",
       "      <td>B00NLXQ534</td>\n",
       "      <td>true</td>\n",
       "      <td>4.12</td>\n",
       "      <td></td>\n",
       "      <td>...</td>\n",
       "      <td></td>\n",
       "      <td></td>\n",
       "      <td></td>\n",
       "      <td>https://www.goodreads.com/book/show/25742454-t...</td>\n",
       "      <td>https://s.gr-assets.com/assets/nophoto/book/11...</td>\n",
       "      <td>25742454</td>\n",
       "      <td>1</td>\n",
       "      <td>42749946</td>\n",
       "      <td>The Switchblade Mamma</td>\n",
       "      <td>The Switchblade Mamma</td>\n",
       "    </tr>\n",
       "    <tr>\n",
       "      <th>1</th>\n",
       "      <td>2205073346</td>\n",
       "      <td>2</td>\n",
       "      <td>[]</td>\n",
       "      <td>US</td>\n",
       "      <td>fre</td>\n",
       "      <td>[{'count': '2', 'name': 'bd'}, {'count': '2', ...</td>\n",
       "      <td></td>\n",
       "      <td>false</td>\n",
       "      <td>3.94</td>\n",
       "      <td></td>\n",
       "      <td>...</td>\n",
       "      <td>1</td>\n",
       "      <td></td>\n",
       "      <td>2016</td>\n",
       "      <td>https://www.goodreads.com/book/show/30128855-c...</td>\n",
       "      <td>https://images.gr-assets.com/books/1462644346m...</td>\n",
       "      <td>30128855</td>\n",
       "      <td>16</td>\n",
       "      <td>50558228</td>\n",
       "      <td>Cruelle</td>\n",
       "      <td>Cruelle</td>\n",
       "    </tr>\n",
       "    <tr>\n",
       "      <th>2</th>\n",
       "      <td></td>\n",
       "      <td>5</td>\n",
       "      <td>[246830, 362583, 362581, 623032]</td>\n",
       "      <td>US</td>\n",
       "      <td>eng</td>\n",
       "      <td>[{'count': '493', 'name': 'to-read'}, {'count'...</td>\n",
       "      <td></td>\n",
       "      <td>false</td>\n",
       "      <td>4.28</td>\n",
       "      <td></td>\n",
       "      <td>...</td>\n",
       "      <td></td>\n",
       "      <td></td>\n",
       "      <td>2012</td>\n",
       "      <td>https://www.goodreads.com/book/show/13571772-c...</td>\n",
       "      <td>https://images.gr-assets.com/books/1333287305m...</td>\n",
       "      <td>13571772</td>\n",
       "      <td>51</td>\n",
       "      <td>102217</td>\n",
       "      <td>Captain America: Winter Soldier (The Ultimate ...</td>\n",
       "      <td>Captain America: Winter Soldier (The Ultimate ...</td>\n",
       "    </tr>\n",
       "  </tbody>\n",
       "</table>\n",
       "<p>3 rows × 29 columns</p>\n",
       "</div>"
      ],
      "text/plain": [
       "         isbn  text_reviews_count                            series  \\\n",
       "0                               1                                []   \n",
       "1  2205073346                   2                                []   \n",
       "2                               5  [246830, 362583, 362581, 623032]   \n",
       "\n",
       "  country_code language_code  \\\n",
       "0           US                 \n",
       "1           US           fre   \n",
       "2           US           eng   \n",
       "\n",
       "                                     popular_shelves        asin is_ebook  \\\n",
       "0  [{'count': '228', 'name': 'to-read'}, {'count'...  B00NLXQ534     true   \n",
       "1  [{'count': '2', 'name': 'bd'}, {'count': '2', ...                false   \n",
       "2  [{'count': '493', 'name': 'to-read'}, {'count'...                false   \n",
       "\n",
       "   average_rating kindle_asin  ... publication_month edition_information  \\\n",
       "0            4.12              ...                                         \n",
       "1            3.94              ...                 1                       \n",
       "2            4.28              ...                                         \n",
       "\n",
       "  publication_year                                                url  \\\n",
       "0                   https://www.goodreads.com/book/show/25742454-t...   \n",
       "1             2016  https://www.goodreads.com/book/show/30128855-c...   \n",
       "2             2012  https://www.goodreads.com/book/show/13571772-c...   \n",
       "\n",
       "                                           image_url   book_id ratings_count  \\\n",
       "0  https://s.gr-assets.com/assets/nophoto/book/11...  25742454             1   \n",
       "1  https://images.gr-assets.com/books/1462644346m...  30128855            16   \n",
       "2  https://images.gr-assets.com/books/1333287305m...  13571772            51   \n",
       "\n",
       "    work_id                                              title  \\\n",
       "0  42749946                              The Switchblade Mamma   \n",
       "1  50558228                                            Cruelle   \n",
       "2    102217  Captain America: Winter Soldier (The Ultimate ...   \n",
       "\n",
       "                                title_without_series  \n",
       "0                              The Switchblade Mamma  \n",
       "1                                            Cruelle  \n",
       "2  Captain America: Winter Soldier (The Ultimate ...  \n",
       "\n",
       "[3 rows x 29 columns]"
      ]
     },
     "execution_count": 14,
     "metadata": {},
     "output_type": "execute_result"
    }
   ],
   "source": [
    "books.head(3)"
   ]
  },
  {
   "cell_type": "code",
   "execution_count": 15,
   "id": "3f549376",
   "metadata": {
    "execution": {
     "iopub.execute_input": "2025-03-01T07:14:09.582410Z",
     "iopub.status.busy": "2025-03-01T07:14:09.582019Z",
     "iopub.status.idle": "2025-03-01T07:14:09.610087Z",
     "shell.execute_reply": "2025-03-01T07:14:09.609041Z"
    },
    "papermill": {
     "duration": 0.043902,
     "end_time": "2025-03-01T07:14:09.612071",
     "exception": false,
     "start_time": "2025-03-01T07:14:09.568169",
     "status": "completed"
    },
    "tags": []
   },
   "outputs": [
    {
     "data": {
      "text/plain": [
       "language_code\n",
       "       29614\n",
       "eng    29520\n",
       "fre     4257\n",
       "ind     3965\n",
       "spa     3956\n",
       "       ...  \n",
       "slv        1\n",
       "inh        1\n",
       "ach        1\n",
       "pes        1\n",
       "en         1\n",
       "Name: count, Length: 72, dtype: int64"
      ]
     },
     "execution_count": 15,
     "metadata": {},
     "output_type": "execute_result"
    }
   ],
   "source": [
    "books.language_code.value_counts()"
   ]
  },
  {
   "cell_type": "code",
   "execution_count": 16,
   "id": "17e74b6b",
   "metadata": {
    "execution": {
     "iopub.execute_input": "2025-03-01T07:14:09.640141Z",
     "iopub.status.busy": "2025-03-01T07:14:09.639737Z",
     "iopub.status.idle": "2025-03-01T07:14:09.745691Z",
     "shell.execute_reply": "2025-03-01T07:14:09.744062Z"
    },
    "papermill": {
     "duration": 0.123415,
     "end_time": "2025-03-01T07:14:09.748177",
     "exception": false,
     "start_time": "2025-03-01T07:14:09.624762",
     "status": "completed"
    },
    "tags": []
   },
   "outputs": [
    {
     "name": "stdout",
     "output_type": "stream",
     "text": [
      "books without a specified language : 29614\n"
     ]
    }
   ],
   "source": [
    "print(f\"books without a specified language : {len(books[books.language_code.str.len() == 0])}\")"
   ]
  },
  {
   "cell_type": "code",
   "execution_count": 17,
   "id": "1cfc1df9",
   "metadata": {
    "execution": {
     "iopub.execute_input": "2025-03-01T07:14:09.777384Z",
     "iopub.status.busy": "2025-03-01T07:14:09.776977Z",
     "iopub.status.idle": "2025-03-01T07:14:09.899376Z",
     "shell.execute_reply": "2025-03-01T07:14:09.898290Z"
    },
    "papermill": {
     "duration": 0.140221,
     "end_time": "2025-03-01T07:14:09.902034",
     "exception": false,
     "start_time": "2025-03-01T07:14:09.761813",
     "status": "completed"
    },
    "tags": []
   },
   "outputs": [
    {
     "data": {
      "text/html": [
       "<div>\n",
       "<style scoped>\n",
       "    .dataframe tbody tr th:only-of-type {\n",
       "        vertical-align: middle;\n",
       "    }\n",
       "\n",
       "    .dataframe tbody tr th {\n",
       "        vertical-align: top;\n",
       "    }\n",
       "\n",
       "    .dataframe thead th {\n",
       "        text-align: right;\n",
       "    }\n",
       "</style>\n",
       "<table border=\"1\" class=\"dataframe\">\n",
       "  <thead>\n",
       "    <tr style=\"text-align: right;\">\n",
       "      <th></th>\n",
       "      <th>isbn</th>\n",
       "      <th>text_reviews_count</th>\n",
       "      <th>series</th>\n",
       "      <th>country_code</th>\n",
       "      <th>language_code</th>\n",
       "      <th>popular_shelves</th>\n",
       "      <th>asin</th>\n",
       "      <th>is_ebook</th>\n",
       "      <th>average_rating</th>\n",
       "      <th>kindle_asin</th>\n",
       "      <th>...</th>\n",
       "      <th>publication_month</th>\n",
       "      <th>edition_information</th>\n",
       "      <th>publication_year</th>\n",
       "      <th>url</th>\n",
       "      <th>image_url</th>\n",
       "      <th>book_id</th>\n",
       "      <th>ratings_count</th>\n",
       "      <th>work_id</th>\n",
       "      <th>title</th>\n",
       "      <th>title_without_series</th>\n",
       "    </tr>\n",
       "  </thead>\n",
       "  <tbody>\n",
       "    <tr>\n",
       "      <th>0</th>\n",
       "      <td></td>\n",
       "      <td>1</td>\n",
       "      <td>[]</td>\n",
       "      <td>US</td>\n",
       "      <td></td>\n",
       "      <td>[{'count': '228', 'name': 'to-read'}, {'count'...</td>\n",
       "      <td>B00NLXQ534</td>\n",
       "      <td>true</td>\n",
       "      <td>4.12</td>\n",
       "      <td></td>\n",
       "      <td>...</td>\n",
       "      <td></td>\n",
       "      <td></td>\n",
       "      <td></td>\n",
       "      <td>https://www.goodreads.com/book/show/25742454-t...</td>\n",
       "      <td>https://s.gr-assets.com/assets/nophoto/book/11...</td>\n",
       "      <td>25742454</td>\n",
       "      <td>1</td>\n",
       "      <td>42749946</td>\n",
       "      <td>The Switchblade Mamma</td>\n",
       "      <td>The Switchblade Mamma</td>\n",
       "    </tr>\n",
       "    <tr>\n",
       "      <th>5</th>\n",
       "      <td>1933617640</td>\n",
       "      <td>7</td>\n",
       "      <td>[910384]</td>\n",
       "      <td>US</td>\n",
       "      <td></td>\n",
       "      <td>[{'count': '15', 'name': 'to-read'}, {'count':...</td>\n",
       "      <td></td>\n",
       "      <td>false</td>\n",
       "      <td>3.44</td>\n",
       "      <td></td>\n",
       "      <td>...</td>\n",
       "      <td>1</td>\n",
       "      <td></td>\n",
       "      <td>2007</td>\n",
       "      <td>https://www.goodreads.com/book/show/2250580.A_...</td>\n",
       "      <td>https://s.gr-assets.com/assets/nophoto/book/11...</td>\n",
       "      <td>2250580</td>\n",
       "      <td>46</td>\n",
       "      <td>2256459</td>\n",
       "      <td>A.I. Revolution, Vol. 1</td>\n",
       "      <td>A.I. Revolution, Vol. 1</td>\n",
       "    </tr>\n",
       "    <tr>\n",
       "      <th>7</th>\n",
       "      <td>1592912737</td>\n",
       "      <td>2</td>\n",
       "      <td>[961379]</td>\n",
       "      <td>US</td>\n",
       "      <td></td>\n",
       "      <td>[{'count': '24', 'name': 'to-read'}, {'count':...</td>\n",
       "      <td></td>\n",
       "      <td>false</td>\n",
       "      <td>3.16</td>\n",
       "      <td></td>\n",
       "      <td>...</td>\n",
       "      <td>3</td>\n",
       "      <td></td>\n",
       "      <td>2016</td>\n",
       "      <td>https://www.goodreads.com/book/show/27036537-c...</td>\n",
       "      <td>https://images.gr-assets.com/books/1453061084m...</td>\n",
       "      <td>27036537</td>\n",
       "      <td>38</td>\n",
       "      <td>47077784</td>\n",
       "      <td>Crossed, Volume 15</td>\n",
       "      <td>Crossed, Volume 15</td>\n",
       "    </tr>\n",
       "    <tr>\n",
       "      <th>8</th>\n",
       "      <td>1592912753</td>\n",
       "      <td>5</td>\n",
       "      <td>[981445, 981448]</td>\n",
       "      <td>US</td>\n",
       "      <td></td>\n",
       "      <td>[{'count': '17', 'name': 'to-read'}, {'count':...</td>\n",
       "      <td></td>\n",
       "      <td>false</td>\n",
       "      <td>3.51</td>\n",
       "      <td></td>\n",
       "      <td>...</td>\n",
       "      <td>3</td>\n",
       "      <td></td>\n",
       "      <td>2016</td>\n",
       "      <td>https://www.goodreads.com/book/show/27036538-c...</td>\n",
       "      <td>https://images.gr-assets.com/books/1453061556m...</td>\n",
       "      <td>27036538</td>\n",
       "      <td>44</td>\n",
       "      <td>47077785</td>\n",
       "      <td>Crossed + One Hundred, Volume 2 (Crossed +100 #2)</td>\n",
       "      <td>Crossed + One Hundred, Volume 2 (Crossed +100 #2)</td>\n",
       "    </tr>\n",
       "    <tr>\n",
       "      <th>9</th>\n",
       "      <td>159291277X</td>\n",
       "      <td>4</td>\n",
       "      <td>[834956]</td>\n",
       "      <td>US</td>\n",
       "      <td></td>\n",
       "      <td>[{'count': '35', 'name': 'to-read'}, {'count':...</td>\n",
       "      <td></td>\n",
       "      <td>false</td>\n",
       "      <td>4.00</td>\n",
       "      <td></td>\n",
       "      <td>...</td>\n",
       "      <td>6</td>\n",
       "      <td></td>\n",
       "      <td>2016</td>\n",
       "      <td>https://www.goodreads.com/book/show/27036539-w...</td>\n",
       "      <td>https://images.gr-assets.com/books/1453685087m...</td>\n",
       "      <td>27036539</td>\n",
       "      <td>32</td>\n",
       "      <td>47077786</td>\n",
       "      <td>War Stories, Volume 4</td>\n",
       "      <td>War Stories, Volume 4</td>\n",
       "    </tr>\n",
       "  </tbody>\n",
       "</table>\n",
       "<p>5 rows × 29 columns</p>\n",
       "</div>"
      ],
      "text/plain": [
       "         isbn  text_reviews_count            series country_code  \\\n",
       "0                               1                []           US   \n",
       "5  1933617640                   7          [910384]           US   \n",
       "7  1592912737                   2          [961379]           US   \n",
       "8  1592912753                   5  [981445, 981448]           US   \n",
       "9  159291277X                   4          [834956]           US   \n",
       "\n",
       "  language_code                                    popular_shelves  \\\n",
       "0                [{'count': '228', 'name': 'to-read'}, {'count'...   \n",
       "5                [{'count': '15', 'name': 'to-read'}, {'count':...   \n",
       "7                [{'count': '24', 'name': 'to-read'}, {'count':...   \n",
       "8                [{'count': '17', 'name': 'to-read'}, {'count':...   \n",
       "9                [{'count': '35', 'name': 'to-read'}, {'count':...   \n",
       "\n",
       "         asin is_ebook  average_rating kindle_asin  ... publication_month  \\\n",
       "0  B00NLXQ534     true            4.12              ...                     \n",
       "5                false            3.44              ...                 1   \n",
       "7                false            3.16              ...                 3   \n",
       "8                false            3.51              ...                 3   \n",
       "9                false            4.00              ...                 6   \n",
       "\n",
       "  edition_information publication_year  \\\n",
       "0                                        \n",
       "5                                 2007   \n",
       "7                                 2016   \n",
       "8                                 2016   \n",
       "9                                 2016   \n",
       "\n",
       "                                                 url  \\\n",
       "0  https://www.goodreads.com/book/show/25742454-t...   \n",
       "5  https://www.goodreads.com/book/show/2250580.A_...   \n",
       "7  https://www.goodreads.com/book/show/27036537-c...   \n",
       "8  https://www.goodreads.com/book/show/27036538-c...   \n",
       "9  https://www.goodreads.com/book/show/27036539-w...   \n",
       "\n",
       "                                           image_url   book_id ratings_count  \\\n",
       "0  https://s.gr-assets.com/assets/nophoto/book/11...  25742454             1   \n",
       "5  https://s.gr-assets.com/assets/nophoto/book/11...   2250580            46   \n",
       "7  https://images.gr-assets.com/books/1453061084m...  27036537            38   \n",
       "8  https://images.gr-assets.com/books/1453061556m...  27036538            44   \n",
       "9  https://images.gr-assets.com/books/1453685087m...  27036539            32   \n",
       "\n",
       "    work_id                                              title  \\\n",
       "0  42749946                              The Switchblade Mamma   \n",
       "5   2256459                            A.I. Revolution, Vol. 1   \n",
       "7  47077784                                 Crossed, Volume 15   \n",
       "8  47077785  Crossed + One Hundred, Volume 2 (Crossed +100 #2)   \n",
       "9  47077786                              War Stories, Volume 4   \n",
       "\n",
       "                                title_without_series  \n",
       "0                              The Switchblade Mamma  \n",
       "5                            A.I. Revolution, Vol. 1  \n",
       "7                                 Crossed, Volume 15  \n",
       "8  Crossed + One Hundred, Volume 2 (Crossed +100 #2)  \n",
       "9                              War Stories, Volume 4  \n",
       "\n",
       "[5 rows x 29 columns]"
      ]
     },
     "execution_count": 17,
     "metadata": {},
     "output_type": "execute_result"
    }
   ],
   "source": [
    "books[books.language_code.str.len() == 0].head(5)"
   ]
  },
  {
   "cell_type": "code",
   "execution_count": 18,
   "id": "6de7af93",
   "metadata": {
    "execution": {
     "iopub.execute_input": "2025-03-01T07:14:09.930454Z",
     "iopub.status.busy": "2025-03-01T07:14:09.929981Z",
     "iopub.status.idle": "2025-03-01T07:14:09.961281Z",
     "shell.execute_reply": "2025-03-01T07:14:09.960174Z"
    },
    "papermill": {
     "duration": 0.048109,
     "end_time": "2025-03-01T07:14:09.963571",
     "exception": false,
     "start_time": "2025-03-01T07:14:09.915462",
     "status": "completed"
    },
    "tags": []
   },
   "outputs": [
    {
     "data": {
      "text/plain": [
       "country_code\n",
       "US    89411\n",
       "Name: count, dtype: int64"
      ]
     },
     "execution_count": 18,
     "metadata": {},
     "output_type": "execute_result"
    }
   ],
   "source": [
    "books.country_code.value_counts()"
   ]
  },
  {
   "cell_type": "code",
   "execution_count": 19,
   "id": "96a5cba2",
   "metadata": {
    "execution": {
     "iopub.execute_input": "2025-03-01T07:14:09.992300Z",
     "iopub.status.busy": "2025-03-01T07:14:09.991894Z",
     "iopub.status.idle": "2025-03-01T07:14:10.010415Z",
     "shell.execute_reply": "2025-03-01T07:14:10.009276Z"
    },
    "papermill": {
     "duration": 0.035521,
     "end_time": "2025-03-01T07:14:10.012594",
     "exception": false,
     "start_time": "2025-03-01T07:14:09.977073",
     "status": "completed"
    },
    "tags": []
   },
   "outputs": [
    {
     "data": {
      "text/plain": [
       "work_id\n",
       "4358649     40\n",
       "392838      37\n",
       "1228437     36\n",
       "13344769    32\n",
       "1104159     30\n",
       "            ..\n",
       "41295578     1\n",
       "41295579     1\n",
       "41295577     1\n",
       "51766561     1\n",
       "49145631     1\n",
       "Name: count, Length: 62944, dtype: int64"
      ]
     },
     "execution_count": 19,
     "metadata": {},
     "output_type": "execute_result"
    }
   ],
   "source": [
    "books.work_id.value_counts()"
   ]
  },
  {
   "cell_type": "code",
   "execution_count": 20,
   "id": "64dbb5f0",
   "metadata": {
    "execution": {
     "iopub.execute_input": "2025-03-01T07:14:10.041099Z",
     "iopub.status.busy": "2025-03-01T07:14:10.040730Z",
     "iopub.status.idle": "2025-03-01T07:14:10.069802Z",
     "shell.execute_reply": "2025-03-01T07:14:10.068619Z"
    },
    "papermill": {
     "duration": 0.04591,
     "end_time": "2025-03-01T07:14:10.071959",
     "exception": false,
     "start_time": "2025-03-01T07:14:10.026049",
     "status": "completed"
    },
    "tags": []
   },
   "outputs": [
    {
     "data": {
      "text/plain": [
       "format\n",
       "Paperback                             47305\n",
       "                                      21696\n",
       "Hardcover                             15031\n",
       "ebook                                  1582\n",
       "Mass Market Paperback                  1032\n",
       "                                      ...  \n",
       "17,2 x 19,2 x 12,2 cm                     1\n",
       "Manga Online                              1\n",
       "Tankobon                                  1\n",
       "Trade Cloth                               1\n",
       "Paperback, Direct Sales Comic Book        1\n",
       "Name: count, Length: 233, dtype: int64"
      ]
     },
     "execution_count": 20,
     "metadata": {},
     "output_type": "execute_result"
    }
   ],
   "source": [
    "books.format.value_counts()"
   ]
  },
  {
   "cell_type": "code",
   "execution_count": 21,
   "id": "c7d31a4c",
   "metadata": {
    "execution": {
     "iopub.execute_input": "2025-03-01T07:14:10.102376Z",
     "iopub.status.busy": "2025-03-01T07:14:10.101316Z",
     "iopub.status.idle": "2025-03-01T07:14:10.177471Z",
     "shell.execute_reply": "2025-03-01T07:14:10.176373Z"
    },
    "papermill": {
     "duration": 0.093488,
     "end_time": "2025-03-01T07:14:10.179788",
     "exception": false,
     "start_time": "2025-03-01T07:14:10.086300",
     "status": "completed"
    },
    "tags": []
   },
   "outputs": [
    {
     "data": {
      "text/plain": [
       "(format\n",
       " False    89411\n",
       " Name: count, dtype: int64,\n",
       " format\n",
       " False    67715\n",
       " True     21696\n",
       " Name: count, dtype: int64)"
      ]
     },
     "execution_count": 21,
     "metadata": {},
     "output_type": "execute_result"
    }
   ],
   "source": [
    "books.format.isna().value_counts(), (books.format.str.len() == 0).value_counts()"
   ]
  },
  {
   "cell_type": "code",
   "execution_count": 22,
   "id": "65bed36f",
   "metadata": {
    "execution": {
     "iopub.execute_input": "2025-03-01T07:14:10.209801Z",
     "iopub.status.busy": "2025-03-01T07:14:10.209388Z",
     "iopub.status.idle": "2025-03-01T07:14:10.219128Z",
     "shell.execute_reply": "2025-03-01T07:14:10.217866Z"
    },
    "papermill": {
     "duration": 0.027636,
     "end_time": "2025-03-01T07:14:10.221611",
     "exception": false,
     "start_time": "2025-03-01T07:14:10.193975",
     "status": "completed"
    },
    "tags": []
   },
   "outputs": [
    {
     "data": {
      "text/plain": [
       "0    [{'author_id': '8551671', 'role': ''}]\n",
       "1    [{'author_id': '3274315', 'role': ''}]\n",
       "2      [{'author_id': '37450', 'role': ''}]\n",
       "Name: authors, dtype: object"
      ]
     },
     "execution_count": 22,
     "metadata": {},
     "output_type": "execute_result"
    }
   ],
   "source": [
    "books.authors.head(3)"
   ]
  },
  {
   "cell_type": "code",
   "execution_count": 23,
   "id": "e5216de5",
   "metadata": {
    "execution": {
     "iopub.execute_input": "2025-03-01T07:14:10.254002Z",
     "iopub.status.busy": "2025-03-01T07:14:10.253629Z",
     "iopub.status.idle": "2025-03-01T07:14:10.295061Z",
     "shell.execute_reply": "2025-03-01T07:14:10.293971Z"
    },
    "papermill": {
     "duration": 0.060819,
     "end_time": "2025-03-01T07:14:10.297354",
     "exception": false,
     "start_time": "2025-03-01T07:14:10.236535",
     "status": "completed"
    },
    "tags": []
   },
   "outputs": [
    {
     "data": {
      "text/plain": [
       "25    revised first edition\n",
       "30         Hellboy presenta\n",
       "34      Absolute en 2 tomos\n",
       "Name: edition_information, dtype: object"
      ]
     },
     "execution_count": 23,
     "metadata": {},
     "output_type": "execute_result"
    }
   ],
   "source": [
    "books.edition_information[books.edition_information.str.len() > 0 ].head(3)"
   ]
  },
  {
   "cell_type": "code",
   "execution_count": 24,
   "id": "a36903e8",
   "metadata": {
    "execution": {
     "iopub.execute_input": "2025-03-01T07:14:10.328960Z",
     "iopub.status.busy": "2025-03-01T07:14:10.328607Z",
     "iopub.status.idle": "2025-03-01T07:14:10.349972Z",
     "shell.execute_reply": "2025-03-01T07:14:10.348913Z"
    },
    "papermill": {
     "duration": 0.039518,
     "end_time": "2025-03-01T07:14:10.352034",
     "exception": false,
     "start_time": "2025-03-01T07:14:10.312516",
     "status": "completed"
    },
    "tags": []
   },
   "outputs": [
    {
     "data": {
      "text/plain": [
       "True"
      ]
     },
     "execution_count": 24,
     "metadata": {},
     "output_type": "execute_result"
    }
   ],
   "source": [
    "(books.link == books.url).all()"
   ]
  },
  {
   "cell_type": "code",
   "execution_count": 25,
   "id": "9399cb0d",
   "metadata": {
    "execution": {
     "iopub.execute_input": "2025-03-01T07:14:10.382349Z",
     "iopub.status.busy": "2025-03-01T07:14:10.381910Z",
     "iopub.status.idle": "2025-03-01T07:14:10.413161Z",
     "shell.execute_reply": "2025-03-01T07:14:10.412158Z"
    },
    "papermill": {
     "duration": 0.048876,
     "end_time": "2025-03-01T07:14:10.415266",
     "exception": false,
     "start_time": "2025-03-01T07:14:10.366390",
     "status": "completed"
    },
    "tags": []
   },
   "outputs": [
    {
     "data": {
      "text/plain": [
       "(link\n",
       " False    89411\n",
       " Name: count, dtype: int64,\n",
       " url\n",
       " False    89411\n",
       " Name: count, dtype: int64)"
      ]
     },
     "execution_count": 25,
     "metadata": {},
     "output_type": "execute_result"
    }
   ],
   "source": [
    "books.link.isna().value_counts(), books.url.isna().value_counts()"
   ]
  },
  {
   "cell_type": "code",
   "execution_count": 26,
   "id": "012a6e4a",
   "metadata": {
    "execution": {
     "iopub.execute_input": "2025-03-01T07:14:10.446988Z",
     "iopub.status.busy": "2025-03-01T07:14:10.446441Z",
     "iopub.status.idle": "2025-03-01T07:14:10.463769Z",
     "shell.execute_reply": "2025-03-01T07:14:10.462726Z"
    },
    "papermill": {
     "duration": 0.036342,
     "end_time": "2025-03-01T07:14:10.466035",
     "exception": false,
     "start_time": "2025-03-01T07:14:10.429693",
     "status": "completed"
    },
    "tags": []
   },
   "outputs": [
    {
     "data": {
      "text/plain": [
       "image_url\n",
       "False    89411\n",
       "Name: count, dtype: int64"
      ]
     },
     "execution_count": 26,
     "metadata": {},
     "output_type": "execute_result"
    }
   ],
   "source": [
    "books.image_url.isna().value_counts()"
   ]
  },
  {
   "cell_type": "code",
   "execution_count": 27,
   "id": "6a11925f",
   "metadata": {
    "execution": {
     "iopub.execute_input": "2025-03-01T07:14:10.496899Z",
     "iopub.status.busy": "2025-03-01T07:14:10.496476Z",
     "iopub.status.idle": "2025-03-01T07:14:10.571353Z",
     "shell.execute_reply": "2025-03-01T07:14:10.570107Z"
    },
    "papermill": {
     "duration": 0.093364,
     "end_time": "2025-03-01T07:14:10.573971",
     "exception": false,
     "start_time": "2025-03-01T07:14:10.480607",
     "status": "completed"
    },
    "tags": []
   },
   "outputs": [
    {
     "data": {
      "text/plain": [
       "image_url\n",
       "https://s.gr-assets.com/assets/nophoto/book/111x148-bcc042a9c91a29c1d680899eff700a03.png    32017\n",
       "https://images.gr-assets.com/books/1358135058m/6636855.jpg                                      1\n",
       "https://images.gr-assets.com/books/1312036075m/6245236.jpg                                      1\n",
       "https://images.gr-assets.com/books/1401100239m/22324967.jpg                                     1\n",
       "https://images.gr-assets.com/books/1435527138m/5822946.jpg                                      1\n",
       "                                                                                            ...  \n",
       "https://images.gr-assets.com/books/1489312623m/32918990.jpg                                     1\n",
       "https://images.gr-assets.com/books/1493548071m/32918996.jpg                                     1\n",
       "https://images.gr-assets.com/books/1407292664m/22878126.jpg                                     1\n",
       "https://images.gr-assets.com/books/1418734810m/1475747.jpg                                      1\n",
       "https://images.gr-assets.com/books/1413258573m/23363286.jpg                                     1\n",
       "Name: count, Length: 57395, dtype: int64"
      ]
     },
     "execution_count": 27,
     "metadata": {},
     "output_type": "execute_result"
    }
   ],
   "source": [
    "books.image_url.value_counts()"
   ]
  },
  {
   "cell_type": "markdown",
   "id": "ac876305",
   "metadata": {
    "papermill": {
     "duration": 0.014274,
     "end_time": "2025-03-01T07:14:10.603097",
     "exception": false,
     "start_time": "2025-03-01T07:14:10.588823",
     "status": "completed"
    },
    "tags": []
   },
   "source": [
    "Series represents book in multiple languages."
   ]
  },
  {
   "cell_type": "code",
   "execution_count": 28,
   "id": "e48f536d",
   "metadata": {
    "execution": {
     "iopub.execute_input": "2025-03-01T07:14:10.633779Z",
     "iopub.status.busy": "2025-03-01T07:14:10.633398Z",
     "iopub.status.idle": "2025-03-01T07:14:10.694945Z",
     "shell.execute_reply": "2025-03-01T07:14:10.693832Z"
    },
    "papermill": {
     "duration": 0.079822,
     "end_time": "2025-03-01T07:14:10.697411",
     "exception": false,
     "start_time": "2025-03-01T07:14:10.617589",
     "status": "completed"
    },
    "tags": []
   },
   "outputs": [
    {
     "data": {
      "text/html": [
       "<div>\n",
       "<style scoped>\n",
       "    .dataframe tbody tr th:only-of-type {\n",
       "        vertical-align: middle;\n",
       "    }\n",
       "\n",
       "    .dataframe tbody tr th {\n",
       "        vertical-align: top;\n",
       "    }\n",
       "\n",
       "    .dataframe thead th {\n",
       "        text-align: right;\n",
       "    }\n",
       "</style>\n",
       "<table border=\"1\" class=\"dataframe\">\n",
       "  <thead>\n",
       "    <tr style=\"text-align: right;\">\n",
       "      <th></th>\n",
       "      <th>title</th>\n",
       "      <th>language_code</th>\n",
       "      <th>series</th>\n",
       "      <th>work_id</th>\n",
       "    </tr>\n",
       "  </thead>\n",
       "  <tbody>\n",
       "    <tr>\n",
       "      <th>2877</th>\n",
       "      <td>Berserk, Vol. 1 (Berserk, #1)</td>\n",
       "      <td>eng</td>\n",
       "      <td>[377031]</td>\n",
       "      <td>241146</td>\n",
       "    </tr>\n",
       "    <tr>\n",
       "      <th>15440</th>\n",
       "      <td>Berserk Collection n. 1</td>\n",
       "      <td>ita</td>\n",
       "      <td>[377031]</td>\n",
       "      <td>241146</td>\n",
       "    </tr>\n",
       "    <tr>\n",
       "      <th>16549</th>\n",
       "      <td>Berserk #01</td>\n",
       "      <td>spa</td>\n",
       "      <td>[377031]</td>\n",
       "      <td>241146</td>\n",
       "    </tr>\n",
       "    <tr>\n",
       "      <th>22761</th>\n",
       "      <td>Berserk, tome 01</td>\n",
       "      <td>fre</td>\n",
       "      <td>[377031]</td>\n",
       "      <td>241146</td>\n",
       "    </tr>\n",
       "    <tr>\n",
       "      <th>47966</th>\n",
       "      <td>Berserk 1. Cilt (Berserk, #1)</td>\n",
       "      <td>tur</td>\n",
       "      <td>[377031]</td>\n",
       "      <td>241146</td>\n",
       "    </tr>\n",
       "    <tr>\n",
       "      <th>61408</th>\n",
       "      <td>ベルセルク 1</td>\n",
       "      <td>jpn</td>\n",
       "      <td>[377031]</td>\n",
       "      <td>241146</td>\n",
       "    </tr>\n",
       "    <tr>\n",
       "      <th>61415</th>\n",
       "      <td>Berserk, Volume 01 (Berserk #1)</td>\n",
       "      <td>por</td>\n",
       "      <td>[377031]</td>\n",
       "      <td>241146</td>\n",
       "    </tr>\n",
       "    <tr>\n",
       "      <th>81268</th>\n",
       "      <td>ベルセルク 1  (Berserk, #1)</td>\n",
       "      <td>jpn</td>\n",
       "      <td>[377031]</td>\n",
       "      <td>241146</td>\n",
       "    </tr>\n",
       "  </tbody>\n",
       "</table>\n",
       "</div>"
      ],
      "text/plain": [
       "                                 title language_code    series  work_id\n",
       "2877     Berserk, Vol. 1 (Berserk, #1)           eng  [377031]   241146\n",
       "15440          Berserk Collection n. 1           ita  [377031]   241146\n",
       "16549                      Berserk #01           spa  [377031]   241146\n",
       "22761                 Berserk, tome 01           fre  [377031]   241146\n",
       "47966    Berserk 1. Cilt (Berserk, #1)           tur  [377031]   241146\n",
       "61408                          ベルセルク 1           jpn  [377031]   241146\n",
       "61415  Berserk, Volume 01 (Berserk #1)           por  [377031]   241146\n",
       "81268           ベルセルク 1  (Berserk, #1)           jpn  [377031]   241146"
      ]
     },
     "execution_count": 28,
     "metadata": {},
     "output_type": "execute_result"
    }
   ],
   "source": [
    "books[books.series.apply(lambda x : x == ['377031'])][['title', 'language_code', 'series', 'work_id']]"
   ]
  },
  {
   "cell_type": "markdown",
   "id": "e7cbd997",
   "metadata": {
    "papermill": {
     "duration": 0.015381,
     "end_time": "2025-03-01T07:14:10.727881",
     "exception": false,
     "start_time": "2025-03-01T07:14:10.712500",
     "status": "completed"
    },
    "tags": []
   },
   "source": [
    "Same for work id"
   ]
  },
  {
   "cell_type": "code",
   "execution_count": 29,
   "id": "5d0be890",
   "metadata": {
    "execution": {
     "iopub.execute_input": "2025-03-01T07:14:10.759653Z",
     "iopub.status.busy": "2025-03-01T07:14:10.759254Z",
     "iopub.status.idle": "2025-03-01T07:14:10.775358Z",
     "shell.execute_reply": "2025-03-01T07:14:10.773899Z"
    },
    "papermill": {
     "duration": 0.034934,
     "end_time": "2025-03-01T07:14:10.777783",
     "exception": false,
     "start_time": "2025-03-01T07:14:10.742849",
     "status": "completed"
    },
    "tags": []
   },
   "outputs": [
    {
     "data": {
      "text/html": [
       "<div>\n",
       "<style scoped>\n",
       "    .dataframe tbody tr th:only-of-type {\n",
       "        vertical-align: middle;\n",
       "    }\n",
       "\n",
       "    .dataframe tbody tr th {\n",
       "        vertical-align: top;\n",
       "    }\n",
       "\n",
       "    .dataframe thead th {\n",
       "        text-align: right;\n",
       "    }\n",
       "</style>\n",
       "<table border=\"1\" class=\"dataframe\">\n",
       "  <thead>\n",
       "    <tr style=\"text-align: right;\">\n",
       "      <th></th>\n",
       "      <th>title</th>\n",
       "      <th>language_code</th>\n",
       "      <th>series</th>\n",
       "      <th>work_id</th>\n",
       "    </tr>\n",
       "  </thead>\n",
       "  <tbody>\n",
       "    <tr>\n",
       "      <th>2877</th>\n",
       "      <td>Berserk, Vol. 1 (Berserk, #1)</td>\n",
       "      <td>eng</td>\n",
       "      <td>[377031]</td>\n",
       "      <td>241146</td>\n",
       "    </tr>\n",
       "    <tr>\n",
       "      <th>15440</th>\n",
       "      <td>Berserk Collection n. 1</td>\n",
       "      <td>ita</td>\n",
       "      <td>[377031]</td>\n",
       "      <td>241146</td>\n",
       "    </tr>\n",
       "    <tr>\n",
       "      <th>16549</th>\n",
       "      <td>Berserk #01</td>\n",
       "      <td>spa</td>\n",
       "      <td>[377031]</td>\n",
       "      <td>241146</td>\n",
       "    </tr>\n",
       "    <tr>\n",
       "      <th>22761</th>\n",
       "      <td>Berserk, tome 01</td>\n",
       "      <td>fre</td>\n",
       "      <td>[377031]</td>\n",
       "      <td>241146</td>\n",
       "    </tr>\n",
       "    <tr>\n",
       "      <th>47966</th>\n",
       "      <td>Berserk 1. Cilt (Berserk, #1)</td>\n",
       "      <td>tur</td>\n",
       "      <td>[377031]</td>\n",
       "      <td>241146</td>\n",
       "    </tr>\n",
       "    <tr>\n",
       "      <th>61408</th>\n",
       "      <td>ベルセルク 1</td>\n",
       "      <td>jpn</td>\n",
       "      <td>[377031]</td>\n",
       "      <td>241146</td>\n",
       "    </tr>\n",
       "    <tr>\n",
       "      <th>61415</th>\n",
       "      <td>Berserk, Volume 01 (Berserk #1)</td>\n",
       "      <td>por</td>\n",
       "      <td>[377031]</td>\n",
       "      <td>241146</td>\n",
       "    </tr>\n",
       "    <tr>\n",
       "      <th>81268</th>\n",
       "      <td>ベルセルク 1  (Berserk, #1)</td>\n",
       "      <td>jpn</td>\n",
       "      <td>[377031]</td>\n",
       "      <td>241146</td>\n",
       "    </tr>\n",
       "  </tbody>\n",
       "</table>\n",
       "</div>"
      ],
      "text/plain": [
       "                                 title language_code    series  work_id\n",
       "2877     Berserk, Vol. 1 (Berserk, #1)           eng  [377031]   241146\n",
       "15440          Berserk Collection n. 1           ita  [377031]   241146\n",
       "16549                      Berserk #01           spa  [377031]   241146\n",
       "22761                 Berserk, tome 01           fre  [377031]   241146\n",
       "47966    Berserk 1. Cilt (Berserk, #1)           tur  [377031]   241146\n",
       "61408                          ベルセルク 1           jpn  [377031]   241146\n",
       "61415  Berserk, Volume 01 (Berserk #1)           por  [377031]   241146\n",
       "81268           ベルセルク 1  (Berserk, #1)           jpn  [377031]   241146"
      ]
     },
     "execution_count": 29,
     "metadata": {},
     "output_type": "execute_result"
    }
   ],
   "source": [
    "books[books.work_id == 241146][['title', 'language_code', 'series', 'work_id']]"
   ]
  },
  {
   "cell_type": "markdown",
   "id": "ffa64221",
   "metadata": {
    "papermill": {
     "duration": 0.014883,
     "end_time": "2025-03-01T07:14:10.808471",
     "exception": false,
     "start_time": "2025-03-01T07:14:10.793588",
     "status": "completed"
    },
    "tags": []
   },
   "source": [
    "In conclusion, there isn't a way to represent all books of a manga by a single one."
   ]
  },
  {
   "cell_type": "code",
   "execution_count": 30,
   "id": "7d42d8ee",
   "metadata": {
    "execution": {
     "iopub.execute_input": "2025-03-01T07:14:10.840651Z",
     "iopub.status.busy": "2025-03-01T07:14:10.840249Z",
     "iopub.status.idle": "2025-03-01T07:14:10.963840Z",
     "shell.execute_reply": "2025-03-01T07:14:10.962812Z"
    },
    "papermill": {
     "duration": 0.142482,
     "end_time": "2025-03-01T07:14:10.966208",
     "exception": false,
     "start_time": "2025-03-01T07:14:10.823726",
     "status": "completed"
    },
    "tags": []
   },
   "outputs": [],
   "source": [
    "#some books don't have any language_code therefore we assume that they are english\n",
    "filt = ((books.language_code == 'eng') | (books.language_code.str.len() == 0))\n",
    "books_eng = books[filt]"
   ]
  },
  {
   "cell_type": "code",
   "execution_count": 31,
   "id": "4066f34b",
   "metadata": {
    "execution": {
     "iopub.execute_input": "2025-03-01T07:14:10.999173Z",
     "iopub.status.busy": "2025-03-01T07:14:10.998792Z",
     "iopub.status.idle": "2025-03-01T07:14:11.065376Z",
     "shell.execute_reply": "2025-03-01T07:14:11.064195Z"
    },
    "papermill": {
     "duration": 0.085911,
     "end_time": "2025-03-01T07:14:11.067397",
     "exception": false,
     "start_time": "2025-03-01T07:14:10.981486",
     "status": "completed"
    },
    "tags": []
   },
   "outputs": [
    {
     "data": {
      "text/plain": [
       "0                                    The Switchblade Mamma\n",
       "5                                  A.I. Revolution, Vol. 1\n",
       "7                                       Crossed, Volume 15\n",
       "8        Crossed + One Hundred, Volume 2 (Crossed +100 #2)\n",
       "9                                    War Stories, Volume 4\n",
       "                               ...                        \n",
       "89393                                     Manga Messengers\n",
       "89395    The Dirty Dozen: The Best 12 Commando Books Ev...\n",
       "89396                                  Red String Volume 1\n",
       "89406                 Doctor Who: Free Comic Book Day 2016\n",
       "89407                                      Love: The Tiger\n",
       "Name: title, Length: 29614, dtype: object"
      ]
     },
     "execution_count": 31,
     "metadata": {},
     "output_type": "execute_result"
    }
   ],
   "source": [
    "books_eng[books_eng.language_code.str.len() == 0].title"
   ]
  },
  {
   "cell_type": "markdown",
   "id": "18bffe2e",
   "metadata": {
    "papermill": {
     "duration": 0.015693,
     "end_time": "2025-03-01T07:14:11.098279",
     "exception": false,
     "start_time": "2025-03-01T07:14:11.082586",
     "status": "completed"
    },
    "tags": []
   },
   "source": [
    "The ratings count is greater than the actual ratings in interactions and reviews."
   ]
  },
  {
   "cell_type": "code",
   "execution_count": 32,
   "id": "6ee42914",
   "metadata": {
    "execution": {
     "iopub.execute_input": "2025-03-01T07:14:11.130906Z",
     "iopub.status.busy": "2025-03-01T07:14:11.130500Z",
     "iopub.status.idle": "2025-03-01T07:14:19.703533Z",
     "shell.execute_reply": "2025-03-01T07:14:19.702371Z"
    },
    "papermill": {
     "duration": 8.592176,
     "end_time": "2025-03-01T07:14:19.706010",
     "exception": false,
     "start_time": "2025-03-01T07:14:11.113834",
     "status": "completed"
    },
    "tags": []
   },
   "outputs": [
    {
     "data": {
      "text/html": [
       "<div>\n",
       "<style scoped>\n",
       "    .dataframe tbody tr th:only-of-type {\n",
       "        vertical-align: middle;\n",
       "    }\n",
       "\n",
       "    .dataframe tbody tr th {\n",
       "        vertical-align: top;\n",
       "    }\n",
       "\n",
       "    .dataframe thead th {\n",
       "        text-align: right;\n",
       "    }\n",
       "</style>\n",
       "<table border=\"1\" class=\"dataframe\">\n",
       "  <thead>\n",
       "    <tr style=\"text-align: right;\">\n",
       "      <th></th>\n",
       "      <th>title</th>\n",
       "      <th>ratings_count</th>\n",
       "      <th>text_reviews_count</th>\n",
       "      <th>actual_ratings_and_reviews_count</th>\n",
       "    </tr>\n",
       "  </thead>\n",
       "  <tbody>\n",
       "    <tr>\n",
       "      <th>0</th>\n",
       "      <td>Claymore, Vol. 12: The Souls of the Fallen (Cl...</td>\n",
       "      <td>1240</td>\n",
       "      <td>25</td>\n",
       "      <td>313</td>\n",
       "    </tr>\n",
       "  </tbody>\n",
       "</table>\n",
       "</div>"
      ],
      "text/plain": [
       "                                               title  ratings_count  \\\n",
       "0  Claymore, Vol. 12: The Souls of the Fallen (Cl...           1240   \n",
       "\n",
       "   text_reviews_count  actual_ratings_and_reviews_count  \n",
       "0                  25                               313  "
      ]
     },
     "execution_count": 32,
     "metadata": {},
     "output_type": "execute_result"
    }
   ],
   "source": [
    "book_id = 2348385\n",
    "a = books[books.book_id == book_id][['title', 'ratings_count', 'text_reviews_count']]\n",
    "b = pd.DataFrame([interactions[interactions.book_id == book_id].shape[0]], columns=['actual_ratings_and_reviews_count'])\n",
    "pd.concat([a.reset_index(drop=True),b], axis=1)"
   ]
  },
  {
   "cell_type": "code",
   "execution_count": 33,
   "id": "b9ccace0",
   "metadata": {
    "execution": {
     "iopub.execute_input": "2025-03-01T07:14:19.738622Z",
     "iopub.status.busy": "2025-03-01T07:14:19.738196Z",
     "iopub.status.idle": "2025-03-01T07:14:19.743394Z",
     "shell.execute_reply": "2025-03-01T07:14:19.742298Z"
    },
    "papermill": {
     "duration": 0.023948,
     "end_time": "2025-03-01T07:14:19.745518",
     "exception": false,
     "start_time": "2025-03-01T07:14:19.721570",
     "status": "completed"
    },
    "tags": []
   },
   "outputs": [],
   "source": [
    "books_eng_important_columns = [\"book_id\", \"title\", \"description\", \"authors\", \"url\", \"image_url\", 'popular_shelves', 'authors']"
   ]
  },
  {
   "cell_type": "code",
   "execution_count": 34,
   "id": "20fbac36",
   "metadata": {
    "execution": {
     "iopub.execute_input": "2025-03-01T07:14:19.779032Z",
     "iopub.status.busy": "2025-03-01T07:14:19.778196Z",
     "iopub.status.idle": "2025-03-01T07:14:19.839785Z",
     "shell.execute_reply": "2025-03-01T07:14:19.838654Z"
    },
    "papermill": {
     "duration": 0.081319,
     "end_time": "2025-03-01T07:14:19.842320",
     "exception": false,
     "start_time": "2025-03-01T07:14:19.761001",
     "status": "completed"
    },
    "tags": []
   },
   "outputs": [
    {
     "data": {
      "text/html": [
       "<div>\n",
       "<style scoped>\n",
       "    .dataframe tbody tr th:only-of-type {\n",
       "        vertical-align: middle;\n",
       "    }\n",
       "\n",
       "    .dataframe tbody tr th {\n",
       "        vertical-align: top;\n",
       "    }\n",
       "\n",
       "    .dataframe thead th {\n",
       "        text-align: right;\n",
       "    }\n",
       "</style>\n",
       "<table border=\"1\" class=\"dataframe\">\n",
       "  <thead>\n",
       "    <tr style=\"text-align: right;\">\n",
       "      <th></th>\n",
       "      <th>book_id</th>\n",
       "      <th>title</th>\n",
       "      <th>description</th>\n",
       "      <th>authors</th>\n",
       "      <th>url</th>\n",
       "      <th>image_url</th>\n",
       "      <th>popular_shelves</th>\n",
       "      <th>authors</th>\n",
       "    </tr>\n",
       "  </thead>\n",
       "  <tbody>\n",
       "    <tr>\n",
       "      <th>0</th>\n",
       "      <td>25742454</td>\n",
       "      <td>The Switchblade Mamma</td>\n",
       "      <td>Lillian Ann Cross is forced to live the worst ...</td>\n",
       "      <td>[{'author_id': '8551671', 'role': ''}]</td>\n",
       "      <td>https://www.goodreads.com/book/show/25742454-t...</td>\n",
       "      <td>https://s.gr-assets.com/assets/nophoto/book/11...</td>\n",
       "      <td>[{'count': '228', 'name': 'to-read'}, {'count'...</td>\n",
       "      <td>[{'author_id': '8551671', 'role': ''}]</td>\n",
       "    </tr>\n",
       "    <tr>\n",
       "      <th>2</th>\n",
       "      <td>13571772</td>\n",
       "      <td>Captain America: Winter Soldier (The Ultimate ...</td>\n",
       "      <td>The questions plaguing Captain America's dream...</td>\n",
       "      <td>[{'author_id': '37450', 'role': ''}]</td>\n",
       "      <td>https://www.goodreads.com/book/show/13571772-c...</td>\n",
       "      <td>https://images.gr-assets.com/books/1333287305m...</td>\n",
       "      <td>[{'count': '493', 'name': 'to-read'}, {'count'...</td>\n",
       "      <td>[{'author_id': '37450', 'role': ''}]</td>\n",
       "    </tr>\n",
       "    <tr>\n",
       "      <th>3</th>\n",
       "      <td>35452242</td>\n",
       "      <td>Bounty Hunter 4/3: My Life in Combat from Mari...</td>\n",
       "      <td>The fight for Jason Delgado's life and soul be...</td>\n",
       "      <td>[{'author_id': '16209952', 'role': ''}, {'auth...</td>\n",
       "      <td>https://www.goodreads.com/book/show/35452242-b...</td>\n",
       "      <td>https://s.gr-assets.com/assets/nophoto/book/11...</td>\n",
       "      <td>[{'count': '222', 'name': 'to-read'}, {'count'...</td>\n",
       "      <td>[{'author_id': '16209952', 'role': ''}, {'auth...</td>\n",
       "    </tr>\n",
       "  </tbody>\n",
       "</table>\n",
       "</div>"
      ],
      "text/plain": [
       "    book_id                                              title  \\\n",
       "0  25742454                              The Switchblade Mamma   \n",
       "2  13571772  Captain America: Winter Soldier (The Ultimate ...   \n",
       "3  35452242  Bounty Hunter 4/3: My Life in Combat from Mari...   \n",
       "\n",
       "                                         description  \\\n",
       "0  Lillian Ann Cross is forced to live the worst ...   \n",
       "2  The questions plaguing Captain America's dream...   \n",
       "3  The fight for Jason Delgado's life and soul be...   \n",
       "\n",
       "                                             authors  \\\n",
       "0             [{'author_id': '8551671', 'role': ''}]   \n",
       "2               [{'author_id': '37450', 'role': ''}]   \n",
       "3  [{'author_id': '16209952', 'role': ''}, {'auth...   \n",
       "\n",
       "                                                 url  \\\n",
       "0  https://www.goodreads.com/book/show/25742454-t...   \n",
       "2  https://www.goodreads.com/book/show/13571772-c...   \n",
       "3  https://www.goodreads.com/book/show/35452242-b...   \n",
       "\n",
       "                                           image_url  \\\n",
       "0  https://s.gr-assets.com/assets/nophoto/book/11...   \n",
       "2  https://images.gr-assets.com/books/1333287305m...   \n",
       "3  https://s.gr-assets.com/assets/nophoto/book/11...   \n",
       "\n",
       "                                     popular_shelves  \\\n",
       "0  [{'count': '228', 'name': 'to-read'}, {'count'...   \n",
       "2  [{'count': '493', 'name': 'to-read'}, {'count'...   \n",
       "3  [{'count': '222', 'name': 'to-read'}, {'count'...   \n",
       "\n",
       "                                             authors  \n",
       "0             [{'author_id': '8551671', 'role': ''}]  \n",
       "2               [{'author_id': '37450', 'role': ''}]  \n",
       "3  [{'author_id': '16209952', 'role': ''}, {'auth...  "
      ]
     },
     "execution_count": 34,
     "metadata": {},
     "output_type": "execute_result"
    }
   ],
   "source": [
    "books_eng = books_eng[books_eng_important_columns]\n",
    "books_eng.head(3)"
   ]
  },
  {
   "cell_type": "markdown",
   "id": "25a2c91d",
   "metadata": {
    "papermill": {
     "duration": 0.015671,
     "end_time": "2025-03-01T07:14:19.873612",
     "exception": false,
     "start_time": "2025-03-01T07:14:19.857941",
     "status": "completed"
    },
    "tags": []
   },
   "source": [
    "## popular_shelves"
   ]
  },
  {
   "cell_type": "code",
   "execution_count": 35,
   "id": "e983bb85",
   "metadata": {
    "execution": {
     "iopub.execute_input": "2025-03-01T07:14:19.907381Z",
     "iopub.status.busy": "2025-03-01T07:14:19.906993Z",
     "iopub.status.idle": "2025-03-01T07:14:21.137337Z",
     "shell.execute_reply": "2025-03-01T07:14:21.136054Z"
    },
    "papermill": {
     "duration": 1.250566,
     "end_time": "2025-03-01T07:14:21.139781",
     "exception": false,
     "start_time": "2025-03-01T07:14:19.889215",
     "status": "completed"
    },
    "tags": []
   },
   "outputs": [],
   "source": [
    "v = books_eng.popular_shelves.iloc[:].apply(lambda x : {v['name'] : int(v['count']) for v in x})"
   ]
  },
  {
   "cell_type": "code",
   "execution_count": 36,
   "id": "280905cb",
   "metadata": {
    "execution": {
     "iopub.execute_input": "2025-03-01T07:14:21.174020Z",
     "iopub.status.busy": "2025-03-01T07:14:21.173632Z",
     "iopub.status.idle": "2025-03-01T07:14:22.901432Z",
     "shell.execute_reply": "2025-03-01T07:14:22.900131Z"
    },
    "papermill": {
     "duration": 1.748331,
     "end_time": "2025-03-01T07:14:22.903986",
     "exception": false,
     "start_time": "2025-03-01T07:14:21.155655",
     "status": "completed"
    },
    "tags": []
   },
   "outputs": [],
   "source": [
    "counter = Counter()\n",
    "_ = v.apply(counter.update)"
   ]
  },
  {
   "cell_type": "code",
   "execution_count": 37,
   "id": "04473a27",
   "metadata": {
    "execution": {
     "iopub.execute_input": "2025-03-01T07:14:22.937754Z",
     "iopub.status.busy": "2025-03-01T07:14:22.937336Z",
     "iopub.status.idle": "2025-03-01T07:14:23.150142Z",
     "shell.execute_reply": "2025-03-01T07:14:23.149037Z"
    },
    "papermill": {
     "duration": 0.232414,
     "end_time": "2025-03-01T07:14:23.152739",
     "exception": false,
     "start_time": "2025-03-01T07:14:22.920325",
     "status": "completed"
    },
    "tags": []
   },
   "outputs": [
    {
     "data": {
      "text/plain": [
       "to-read                       1\n",
       "peach-fuzz                    1\n",
       "8-monthly-girls-nozaki-kun    1\n",
       "love-thehero                  1\n",
       "love-theheroine               1\n",
       "                             ..\n",
       "visual-recording              1\n",
       "graphic-facilitation          1\n",
       "not-just-spandex-and-capes    1\n",
       "apocaliptico                  1\n",
       "google-read                   1\n",
       "Name: count, Length: 138714, dtype: int64"
      ]
     },
     "execution_count": 37,
     "metadata": {},
     "output_type": "execute_result"
    }
   ],
   "source": [
    "pd.Series(counter.keys()).value_counts()"
   ]
  },
  {
   "cell_type": "markdown",
   "id": "765de959",
   "metadata": {
    "papermill": {
     "duration": 0.016066,
     "end_time": "2025-03-01T07:14:23.185110",
     "exception": false,
     "start_time": "2025-03-01T07:14:23.169044",
     "status": "completed"
    },
    "tags": []
   },
   "source": [
    "# Interactions / reviews"
   ]
  },
  {
   "cell_type": "code",
   "execution_count": 38,
   "id": "2d0b2346",
   "metadata": {
    "execution": {
     "iopub.execute_input": "2025-03-01T07:14:23.221557Z",
     "iopub.status.busy": "2025-03-01T07:14:23.221155Z",
     "iopub.status.idle": "2025-03-01T07:14:23.230139Z",
     "shell.execute_reply": "2025-03-01T07:14:23.228693Z"
    },
    "papermill": {
     "duration": 0.03016,
     "end_time": "2025-03-01T07:14:23.232489",
     "exception": false,
     "start_time": "2025-03-01T07:14:23.202329",
     "status": "completed"
    },
    "tags": []
   },
   "outputs": [
    {
     "data": {
      "text/plain": [
       "Index(['user_id', 'book_id', 'is_read', 'rating', 'review_text_incomplete',\n",
       "       'date_added', 'date_updated', 'read_at', 'started_at'],\n",
       "      dtype='object')"
      ]
     },
     "execution_count": 38,
     "metadata": {},
     "output_type": "execute_result"
    }
   ],
   "source": [
    "interactions.columns"
   ]
  },
  {
   "cell_type": "code",
   "execution_count": 39,
   "id": "fc340f4a",
   "metadata": {
    "execution": {
     "iopub.execute_input": "2025-03-01T07:14:23.266856Z",
     "iopub.status.busy": "2025-03-01T07:14:23.266493Z",
     "iopub.status.idle": "2025-03-01T07:14:23.273863Z",
     "shell.execute_reply": "2025-03-01T07:14:23.272747Z"
    },
    "papermill": {
     "duration": 0.027142,
     "end_time": "2025-03-01T07:14:23.276157",
     "exception": false,
     "start_time": "2025-03-01T07:14:23.249015",
     "status": "completed"
    },
    "tags": []
   },
   "outputs": [
    {
     "data": {
      "text/plain": [
       "Index(['user_id', 'book_id', 'rating', 'review_text', 'date_added',\n",
       "       'date_updated', 'read_at', 'started_at', 'n_votes', 'n_comments'],\n",
       "      dtype='object')"
      ]
     },
     "execution_count": 39,
     "metadata": {},
     "output_type": "execute_result"
    }
   ],
   "source": [
    "reviews.columns"
   ]
  },
  {
   "cell_type": "markdown",
   "id": "d23ce7ec",
   "metadata": {
    "papermill": {
     "duration": 0.015719,
     "end_time": "2025-03-01T07:14:23.308109",
     "exception": false,
     "start_time": "2025-03-01T07:14:23.292390",
     "status": "completed"
    },
    "tags": []
   },
   "source": [
    "Interactions and reviews don't have nan values."
   ]
  },
  {
   "cell_type": "code",
   "execution_count": 40,
   "id": "9424111e",
   "metadata": {
    "execution": {
     "iopub.execute_input": "2025-03-01T07:14:23.342314Z",
     "iopub.status.busy": "2025-03-01T07:14:23.341894Z",
     "iopub.status.idle": "2025-03-01T07:14:26.504636Z",
     "shell.execute_reply": "2025-03-01T07:14:26.503447Z"
    },
    "papermill": {
     "duration": 3.182954,
     "end_time": "2025-03-01T07:14:26.507019",
     "exception": false,
     "start_time": "2025-03-01T07:14:23.324065",
     "status": "completed"
    },
    "tags": []
   },
   "outputs": [
    {
     "data": {
      "text/plain": [
       "(False, False)"
      ]
     },
     "execution_count": 40,
     "metadata": {},
     "output_type": "execute_result"
    }
   ],
   "source": [
    "interactions.isna().any().any(), reviews.isna().any().any()"
   ]
  },
  {
   "cell_type": "code",
   "execution_count": 41,
   "id": "3f18630f",
   "metadata": {
    "execution": {
     "iopub.execute_input": "2025-03-01T07:14:26.541703Z",
     "iopub.status.busy": "2025-03-01T07:14:26.541351Z",
     "iopub.status.idle": "2025-03-01T07:14:26.555019Z",
     "shell.execute_reply": "2025-03-01T07:14:26.553720Z"
    },
    "papermill": {
     "duration": 0.034157,
     "end_time": "2025-03-01T07:14:26.557483",
     "exception": false,
     "start_time": "2025-03-01T07:14:26.523326",
     "status": "completed"
    },
    "tags": []
   },
   "outputs": [
    {
     "data": {
      "text/html": [
       "<div>\n",
       "<style scoped>\n",
       "    .dataframe tbody tr th:only-of-type {\n",
       "        vertical-align: middle;\n",
       "    }\n",
       "\n",
       "    .dataframe tbody tr th {\n",
       "        vertical-align: top;\n",
       "    }\n",
       "\n",
       "    .dataframe thead th {\n",
       "        text-align: right;\n",
       "    }\n",
       "</style>\n",
       "<table border=\"1\" class=\"dataframe\">\n",
       "  <thead>\n",
       "    <tr style=\"text-align: right;\">\n",
       "      <th></th>\n",
       "      <th>user_id</th>\n",
       "      <th>book_id</th>\n",
       "      <th>is_read</th>\n",
       "      <th>rating</th>\n",
       "      <th>review_text_incomplete</th>\n",
       "      <th>date_added</th>\n",
       "      <th>date_updated</th>\n",
       "      <th>read_at</th>\n",
       "      <th>started_at</th>\n",
       "    </tr>\n",
       "    <tr>\n",
       "      <th>review_id</th>\n",
       "      <th></th>\n",
       "      <th></th>\n",
       "      <th></th>\n",
       "      <th></th>\n",
       "      <th></th>\n",
       "      <th></th>\n",
       "      <th></th>\n",
       "      <th></th>\n",
       "      <th></th>\n",
       "    </tr>\n",
       "  </thead>\n",
       "  <tbody>\n",
       "    <tr>\n",
       "      <th>6b4db26aafeaf0da77c7de6214331e1e</th>\n",
       "      <td>8842281e1d1347389f2ab93d60773d4d</td>\n",
       "      <td>836610</td>\n",
       "      <td>False</td>\n",
       "      <td>0</td>\n",
       "      <td></td>\n",
       "      <td>Mon Aug 21 12:11:00 -0700 2017</td>\n",
       "      <td>Mon Aug 21 12:11:00 -0700 2017</td>\n",
       "      <td></td>\n",
       "      <td></td>\n",
       "    </tr>\n",
       "    <tr>\n",
       "      <th>99b27059f711c37de8f90ee8e4dc0d1b</th>\n",
       "      <td>8842281e1d1347389f2ab93d60773d4d</td>\n",
       "      <td>7648967</td>\n",
       "      <td>False</td>\n",
       "      <td>0</td>\n",
       "      <td></td>\n",
       "      <td>Fri Feb 24 08:59:44 -0800 2017</td>\n",
       "      <td>Fri Feb 24 08:59:44 -0800 2017</td>\n",
       "      <td></td>\n",
       "      <td></td>\n",
       "    </tr>\n",
       "    <tr>\n",
       "      <th>cb944d94854df5afd22210bb0aa0c903</th>\n",
       "      <td>8842281e1d1347389f2ab93d60773d4d</td>\n",
       "      <td>15704307</td>\n",
       "      <td>False</td>\n",
       "      <td>0</td>\n",
       "      <td></td>\n",
       "      <td>Wed May 20 21:28:56 -0700 2015</td>\n",
       "      <td>Wed May 20 21:28:57 -0700 2015</td>\n",
       "      <td></td>\n",
       "      <td></td>\n",
       "    </tr>\n",
       "  </tbody>\n",
       "</table>\n",
       "</div>"
      ],
      "text/plain": [
       "                                                           user_id   book_id  \\\n",
       "review_id                                                                      \n",
       "6b4db26aafeaf0da77c7de6214331e1e  8842281e1d1347389f2ab93d60773d4d    836610   \n",
       "99b27059f711c37de8f90ee8e4dc0d1b  8842281e1d1347389f2ab93d60773d4d   7648967   \n",
       "cb944d94854df5afd22210bb0aa0c903  8842281e1d1347389f2ab93d60773d4d  15704307   \n",
       "\n",
       "                                  is_read  rating review_text_incomplete  \\\n",
       "review_id                                                                  \n",
       "6b4db26aafeaf0da77c7de6214331e1e    False       0                          \n",
       "99b27059f711c37de8f90ee8e4dc0d1b    False       0                          \n",
       "cb944d94854df5afd22210bb0aa0c903    False       0                          \n",
       "\n",
       "                                                      date_added  \\\n",
       "review_id                                                          \n",
       "6b4db26aafeaf0da77c7de6214331e1e  Mon Aug 21 12:11:00 -0700 2017   \n",
       "99b27059f711c37de8f90ee8e4dc0d1b  Fri Feb 24 08:59:44 -0800 2017   \n",
       "cb944d94854df5afd22210bb0aa0c903  Wed May 20 21:28:56 -0700 2015   \n",
       "\n",
       "                                                    date_updated read_at  \\\n",
       "review_id                                                                  \n",
       "6b4db26aafeaf0da77c7de6214331e1e  Mon Aug 21 12:11:00 -0700 2017           \n",
       "99b27059f711c37de8f90ee8e4dc0d1b  Fri Feb 24 08:59:44 -0800 2017           \n",
       "cb944d94854df5afd22210bb0aa0c903  Wed May 20 21:28:57 -0700 2015           \n",
       "\n",
       "                                 started_at  \n",
       "review_id                                    \n",
       "6b4db26aafeaf0da77c7de6214331e1e             \n",
       "99b27059f711c37de8f90ee8e4dc0d1b             \n",
       "cb944d94854df5afd22210bb0aa0c903             "
      ]
     },
     "execution_count": 41,
     "metadata": {},
     "output_type": "execute_result"
    }
   ],
   "source": [
    "interactions.head(3)"
   ]
  },
  {
   "cell_type": "code",
   "execution_count": 42,
   "id": "d64137a8",
   "metadata": {
    "execution": {
     "iopub.execute_input": "2025-03-01T07:14:26.592766Z",
     "iopub.status.busy": "2025-03-01T07:14:26.592394Z",
     "iopub.status.idle": "2025-03-01T07:14:26.606944Z",
     "shell.execute_reply": "2025-03-01T07:14:26.605654Z"
    },
    "papermill": {
     "duration": 0.035087,
     "end_time": "2025-03-01T07:14:26.609302",
     "exception": false,
     "start_time": "2025-03-01T07:14:26.574215",
     "status": "completed"
    },
    "tags": []
   },
   "outputs": [
    {
     "data": {
      "text/html": [
       "<div>\n",
       "<style scoped>\n",
       "    .dataframe tbody tr th:only-of-type {\n",
       "        vertical-align: middle;\n",
       "    }\n",
       "\n",
       "    .dataframe tbody tr th {\n",
       "        vertical-align: top;\n",
       "    }\n",
       "\n",
       "    .dataframe thead th {\n",
       "        text-align: right;\n",
       "    }\n",
       "</style>\n",
       "<table border=\"1\" class=\"dataframe\">\n",
       "  <thead>\n",
       "    <tr style=\"text-align: right;\">\n",
       "      <th></th>\n",
       "      <th>user_id</th>\n",
       "      <th>book_id</th>\n",
       "      <th>rating</th>\n",
       "      <th>review_text</th>\n",
       "      <th>date_added</th>\n",
       "      <th>date_updated</th>\n",
       "      <th>read_at</th>\n",
       "      <th>started_at</th>\n",
       "      <th>n_votes</th>\n",
       "      <th>n_comments</th>\n",
       "    </tr>\n",
       "    <tr>\n",
       "      <th>review_id</th>\n",
       "      <th></th>\n",
       "      <th></th>\n",
       "      <th></th>\n",
       "      <th></th>\n",
       "      <th></th>\n",
       "      <th></th>\n",
       "      <th></th>\n",
       "      <th></th>\n",
       "      <th></th>\n",
       "      <th></th>\n",
       "    </tr>\n",
       "  </thead>\n",
       "  <tbody>\n",
       "    <tr>\n",
       "      <th>66b2ba840f9bd36d6d27f46136fe4772</th>\n",
       "      <td>dc3763cdb9b2cae805882878eebb6a32</td>\n",
       "      <td>18471619</td>\n",
       "      <td>3</td>\n",
       "      <td>Sherlock Holmes and the Vampires of London \\n ...</td>\n",
       "      <td>Thu Dec 05 10:44:25 -0800 2013</td>\n",
       "      <td>Thu Dec 05 10:45:15 -0800 2013</td>\n",
       "      <td>Tue Nov 05 00:00:00 -0800 2013</td>\n",
       "      <td></td>\n",
       "      <td>0</td>\n",
       "      <td>0</td>\n",
       "    </tr>\n",
       "    <tr>\n",
       "      <th>72f1229aba5a88f9e72f0dcdc007dd22</th>\n",
       "      <td>bafc2d50014200cda7cb2b6acd60cd73</td>\n",
       "      <td>6315584</td>\n",
       "      <td>4</td>\n",
       "      <td>I've never really liked Spider-Man. I am, howe...</td>\n",
       "      <td>Wed Aug 10 06:06:48 -0700 2016</td>\n",
       "      <td>Fri Aug 12 08:49:54 -0700 2016</td>\n",
       "      <td>Fri Aug 12 08:49:54 -0700 2016</td>\n",
       "      <td>Wed Aug 10 00:00:00 -0700 2016</td>\n",
       "      <td>0</td>\n",
       "      <td>0</td>\n",
       "    </tr>\n",
       "    <tr>\n",
       "      <th>a75309355f8662caaa5e2c92ab693d3f</th>\n",
       "      <td>bafc2d50014200cda7cb2b6acd60cd73</td>\n",
       "      <td>29847729</td>\n",
       "      <td>4</td>\n",
       "      <td>A very quick introduction, this is coming out ...</td>\n",
       "      <td>Thu Apr 21 07:44:00 -0700 2016</td>\n",
       "      <td>Thu Apr 21 07:59:28 -0700 2016</td>\n",
       "      <td>Thu Apr 21 07:59:28 -0700 2016</td>\n",
       "      <td>Thu Apr 21 00:00:00 -0700 2016</td>\n",
       "      <td>0</td>\n",
       "      <td>0</td>\n",
       "    </tr>\n",
       "  </tbody>\n",
       "</table>\n",
       "</div>"
      ],
      "text/plain": [
       "                                                           user_id   book_id  \\\n",
       "review_id                                                                      \n",
       "66b2ba840f9bd36d6d27f46136fe4772  dc3763cdb9b2cae805882878eebb6a32  18471619   \n",
       "72f1229aba5a88f9e72f0dcdc007dd22  bafc2d50014200cda7cb2b6acd60cd73   6315584   \n",
       "a75309355f8662caaa5e2c92ab693d3f  bafc2d50014200cda7cb2b6acd60cd73  29847729   \n",
       "\n",
       "                                  rating  \\\n",
       "review_id                                  \n",
       "66b2ba840f9bd36d6d27f46136fe4772       3   \n",
       "72f1229aba5a88f9e72f0dcdc007dd22       4   \n",
       "a75309355f8662caaa5e2c92ab693d3f       4   \n",
       "\n",
       "                                                                        review_text  \\\n",
       "review_id                                                                             \n",
       "66b2ba840f9bd36d6d27f46136fe4772  Sherlock Holmes and the Vampires of London \\n ...   \n",
       "72f1229aba5a88f9e72f0dcdc007dd22  I've never really liked Spider-Man. I am, howe...   \n",
       "a75309355f8662caaa5e2c92ab693d3f  A very quick introduction, this is coming out ...   \n",
       "\n",
       "                                                      date_added  \\\n",
       "review_id                                                          \n",
       "66b2ba840f9bd36d6d27f46136fe4772  Thu Dec 05 10:44:25 -0800 2013   \n",
       "72f1229aba5a88f9e72f0dcdc007dd22  Wed Aug 10 06:06:48 -0700 2016   \n",
       "a75309355f8662caaa5e2c92ab693d3f  Thu Apr 21 07:44:00 -0700 2016   \n",
       "\n",
       "                                                    date_updated  \\\n",
       "review_id                                                          \n",
       "66b2ba840f9bd36d6d27f46136fe4772  Thu Dec 05 10:45:15 -0800 2013   \n",
       "72f1229aba5a88f9e72f0dcdc007dd22  Fri Aug 12 08:49:54 -0700 2016   \n",
       "a75309355f8662caaa5e2c92ab693d3f  Thu Apr 21 07:59:28 -0700 2016   \n",
       "\n",
       "                                                         read_at  \\\n",
       "review_id                                                          \n",
       "66b2ba840f9bd36d6d27f46136fe4772  Tue Nov 05 00:00:00 -0800 2013   \n",
       "72f1229aba5a88f9e72f0dcdc007dd22  Fri Aug 12 08:49:54 -0700 2016   \n",
       "a75309355f8662caaa5e2c92ab693d3f  Thu Apr 21 07:59:28 -0700 2016   \n",
       "\n",
       "                                                      started_at  n_votes  \\\n",
       "review_id                                                                   \n",
       "66b2ba840f9bd36d6d27f46136fe4772                                        0   \n",
       "72f1229aba5a88f9e72f0dcdc007dd22  Wed Aug 10 00:00:00 -0700 2016        0   \n",
       "a75309355f8662caaa5e2c92ab693d3f  Thu Apr 21 00:00:00 -0700 2016        0   \n",
       "\n",
       "                                  n_comments  \n",
       "review_id                                     \n",
       "66b2ba840f9bd36d6d27f46136fe4772           0  \n",
       "72f1229aba5a88f9e72f0dcdc007dd22           0  \n",
       "a75309355f8662caaa5e2c92ab693d3f           0  "
      ]
     },
     "execution_count": 42,
     "metadata": {},
     "output_type": "execute_result"
    }
   ],
   "source": [
    "reviews.head(3)"
   ]
  },
  {
   "cell_type": "markdown",
   "id": "4244d718",
   "metadata": {
    "papermill": {
     "duration": 0.016808,
     "end_time": "2025-03-01T07:14:26.642978",
     "exception": false,
     "start_time": "2025-03-01T07:14:26.626170",
     "status": "completed"
    },
    "tags": []
   },
   "source": [
    "All reviews are in interactions"
   ]
  },
  {
   "cell_type": "code",
   "execution_count": 43,
   "id": "5b50f5b2",
   "metadata": {
    "execution": {
     "iopub.execute_input": "2025-03-01T07:14:26.678455Z",
     "iopub.status.busy": "2025-03-01T07:14:26.678071Z",
     "iopub.status.idle": "2025-03-01T07:14:32.024258Z",
     "shell.execute_reply": "2025-03-01T07:14:32.022855Z"
    },
    "papermill": {
     "duration": 5.367014,
     "end_time": "2025-03-01T07:14:32.026869",
     "exception": false,
     "start_time": "2025-03-01T07:14:26.659855",
     "status": "completed"
    },
    "tags": []
   },
   "outputs": [
    {
     "data": {
      "text/plain": [
       "True"
      ]
     },
     "execution_count": 43,
     "metadata": {},
     "output_type": "execute_result"
    }
   ],
   "source": [
    "(reviews.index.isin(interactions.index)).all()"
   ]
  },
  {
   "cell_type": "markdown",
   "id": "0d051838",
   "metadata": {
    "papermill": {
     "duration": 0.017555,
     "end_time": "2025-03-01T07:14:32.062469",
     "exception": false,
     "start_time": "2025-03-01T07:14:32.044914",
     "status": "completed"
    },
    "tags": []
   },
   "source": [
    "Reviews have 2 extra columns n_votes, n_comments and 1 renamed column: review_text instead of review_text_incomplete</br>\n",
    "review_text_incomplete has different values than review_text"
   ]
  },
  {
   "cell_type": "code",
   "execution_count": 44,
   "id": "96a5bd35",
   "metadata": {
    "execution": {
     "iopub.execute_input": "2025-03-01T07:14:32.098024Z",
     "iopub.status.busy": "2025-03-01T07:14:32.097638Z",
     "iopub.status.idle": "2025-03-01T07:14:32.105338Z",
     "shell.execute_reply": "2025-03-01T07:14:32.104073Z"
    },
    "papermill": {
     "duration": 0.028294,
     "end_time": "2025-03-01T07:14:32.107456",
     "exception": false,
     "start_time": "2025-03-01T07:14:32.079162",
     "status": "completed"
    },
    "tags": []
   },
   "outputs": [
    {
     "data": {
      "text/plain": [
       "Index(['review_text', 'n_votes', 'n_comments'], dtype='object')"
      ]
     },
     "execution_count": 44,
     "metadata": {},
     "output_type": "execute_result"
    }
   ],
   "source": [
    "extra_reviews_columns = reviews.columns[reviews.columns.isin(interactions.columns) == False]\n",
    "extra_reviews_columns"
   ]
  },
  {
   "cell_type": "code",
   "execution_count": 45,
   "id": "3f72af7a",
   "metadata": {
    "execution": {
     "iopub.execute_input": "2025-03-01T07:14:32.143932Z",
     "iopub.status.busy": "2025-03-01T07:14:32.143522Z",
     "iopub.status.idle": "2025-03-01T07:14:33.435172Z",
     "shell.execute_reply": "2025-03-01T07:14:33.433991Z"
    },
    "papermill": {
     "duration": 1.313297,
     "end_time": "2025-03-01T07:14:33.438001",
     "exception": false,
     "start_time": "2025-03-01T07:14:32.124704",
     "status": "completed"
    },
    "tags": []
   },
   "outputs": [
    {
     "data": {
      "text/plain": [
       "False"
      ]
     },
     "execution_count": 45,
     "metadata": {},
     "output_type": "execute_result"
    }
   ],
   "source": [
    "(interactions.loc[reviews.index].review_text_incomplete == reviews.review_text).all()"
   ]
  },
  {
   "cell_type": "code",
   "execution_count": 46,
   "id": "8d331be1",
   "metadata": {
    "execution": {
     "iopub.execute_input": "2025-03-01T07:14:33.475169Z",
     "iopub.status.busy": "2025-03-01T07:14:33.474358Z",
     "iopub.status.idle": "2025-03-01T07:14:33.617599Z",
     "shell.execute_reply": "2025-03-01T07:14:33.616506Z"
    },
    "papermill": {
     "duration": 0.16423,
     "end_time": "2025-03-01T07:14:33.620332",
     "exception": false,
     "start_time": "2025-03-01T07:14:33.456102",
     "status": "completed"
    },
    "tags": []
   },
   "outputs": [
    {
     "data": {
      "image/png": "[encoded data removed]",
      "text/plain": [
       "<Figure size 640x480 with 1 Axes>"
      ]
     },
     "metadata": {},
     "output_type": "display_data"
    }
   ],
   "source": [
    "interactions_rated_or_read_filt = (interactions.is_read == True) | (interactions.rating != 0)\n",
    "ratings_percent = (interactions_rated_or_read_filt).value_counts(True)\n",
    "ratings_percent.index = ratings_percent.index.map({True : 'rated/read', False : 'not rated'})\n",
    "ratings_percent.plot.pie(wedgeprops = {\"edgecolor\" : \"black\", \n",
    "                      'linewidth': 1, \n",
    "                      'antialiased': True}, autopct = '%.2f%%')\n",
    "plt.show()"
   ]
  },
  {
   "cell_type": "markdown",
   "id": "a59f596f",
   "metadata": {
    "papermill": {
     "duration": 0.017889,
     "end_time": "2025-03-01T07:14:33.657282",
     "exception": false,
     "start_time": "2025-03-01T07:14:33.639393",
     "status": "completed"
    },
    "tags": []
   },
   "source": [
    "I will remove all interactions that weren't read and rated."
   ]
  },
  {
   "cell_type": "code",
   "execution_count": 47,
   "id": "424bf1dc",
   "metadata": {
    "execution": {
     "iopub.execute_input": "2025-03-01T07:14:33.695664Z",
     "iopub.status.busy": "2025-03-01T07:14:33.695270Z",
     "iopub.status.idle": "2025-03-01T07:14:33.708467Z",
     "shell.execute_reply": "2025-03-01T07:14:33.707466Z"
    },
    "papermill": {
     "duration": 0.035337,
     "end_time": "2025-03-01T07:14:33.710836",
     "exception": false,
     "start_time": "2025-03-01T07:14:33.675499",
     "status": "completed"
    },
    "tags": []
   },
   "outputs": [
    {
     "data": {
      "text/html": [
       "<div>\n",
       "<style scoped>\n",
       "    .dataframe tbody tr th:only-of-type {\n",
       "        vertical-align: middle;\n",
       "    }\n",
       "\n",
       "    .dataframe tbody tr th {\n",
       "        vertical-align: top;\n",
       "    }\n",
       "\n",
       "    .dataframe thead th {\n",
       "        text-align: right;\n",
       "    }\n",
       "</style>\n",
       "<table border=\"1\" class=\"dataframe\">\n",
       "  <thead>\n",
       "    <tr style=\"text-align: right;\">\n",
       "      <th></th>\n",
       "      <th>user_id</th>\n",
       "      <th>book_id</th>\n",
       "      <th>is_read</th>\n",
       "      <th>rating</th>\n",
       "      <th>review_text_incomplete</th>\n",
       "      <th>date_added</th>\n",
       "      <th>date_updated</th>\n",
       "      <th>read_at</th>\n",
       "      <th>started_at</th>\n",
       "    </tr>\n",
       "    <tr>\n",
       "      <th>review_id</th>\n",
       "      <th></th>\n",
       "      <th></th>\n",
       "      <th></th>\n",
       "      <th></th>\n",
       "      <th></th>\n",
       "      <th></th>\n",
       "      <th></th>\n",
       "      <th></th>\n",
       "      <th></th>\n",
       "    </tr>\n",
       "  </thead>\n",
       "  <tbody>\n",
       "    <tr>\n",
       "      <th>6b4db26aafeaf0da77c7de6214331e1e</th>\n",
       "      <td>8842281e1d1347389f2ab93d60773d4d</td>\n",
       "      <td>836610</td>\n",
       "      <td>False</td>\n",
       "      <td>0</td>\n",
       "      <td></td>\n",
       "      <td>Mon Aug 21 12:11:00 -0700 2017</td>\n",
       "      <td>Mon Aug 21 12:11:00 -0700 2017</td>\n",
       "      <td></td>\n",
       "      <td></td>\n",
       "    </tr>\n",
       "    <tr>\n",
       "      <th>99b27059f711c37de8f90ee8e4dc0d1b</th>\n",
       "      <td>8842281e1d1347389f2ab93d60773d4d</td>\n",
       "      <td>7648967</td>\n",
       "      <td>False</td>\n",
       "      <td>0</td>\n",
       "      <td></td>\n",
       "      <td>Fri Feb 24 08:59:44 -0800 2017</td>\n",
       "      <td>Fri Feb 24 08:59:44 -0800 2017</td>\n",
       "      <td></td>\n",
       "      <td></td>\n",
       "    </tr>\n",
       "    <tr>\n",
       "      <th>cb944d94854df5afd22210bb0aa0c903</th>\n",
       "      <td>8842281e1d1347389f2ab93d60773d4d</td>\n",
       "      <td>15704307</td>\n",
       "      <td>False</td>\n",
       "      <td>0</td>\n",
       "      <td></td>\n",
       "      <td>Wed May 20 21:28:56 -0700 2015</td>\n",
       "      <td>Wed May 20 21:28:57 -0700 2015</td>\n",
       "      <td></td>\n",
       "      <td></td>\n",
       "    </tr>\n",
       "  </tbody>\n",
       "</table>\n",
       "</div>"
      ],
      "text/plain": [
       "                                                           user_id   book_id  \\\n",
       "review_id                                                                      \n",
       "6b4db26aafeaf0da77c7de6214331e1e  8842281e1d1347389f2ab93d60773d4d    836610   \n",
       "99b27059f711c37de8f90ee8e4dc0d1b  8842281e1d1347389f2ab93d60773d4d   7648967   \n",
       "cb944d94854df5afd22210bb0aa0c903  8842281e1d1347389f2ab93d60773d4d  15704307   \n",
       "\n",
       "                                  is_read  rating review_text_incomplete  \\\n",
       "review_id                                                                  \n",
       "6b4db26aafeaf0da77c7de6214331e1e    False       0                          \n",
       "99b27059f711c37de8f90ee8e4dc0d1b    False       0                          \n",
       "cb944d94854df5afd22210bb0aa0c903    False       0                          \n",
       "\n",
       "                                                      date_added  \\\n",
       "review_id                                                          \n",
       "6b4db26aafeaf0da77c7de6214331e1e  Mon Aug 21 12:11:00 -0700 2017   \n",
       "99b27059f711c37de8f90ee8e4dc0d1b  Fri Feb 24 08:59:44 -0800 2017   \n",
       "cb944d94854df5afd22210bb0aa0c903  Wed May 20 21:28:56 -0700 2015   \n",
       "\n",
       "                                                    date_updated read_at  \\\n",
       "review_id                                                                  \n",
       "6b4db26aafeaf0da77c7de6214331e1e  Mon Aug 21 12:11:00 -0700 2017           \n",
       "99b27059f711c37de8f90ee8e4dc0d1b  Fri Feb 24 08:59:44 -0800 2017           \n",
       "cb944d94854df5afd22210bb0aa0c903  Wed May 20 21:28:57 -0700 2015           \n",
       "\n",
       "                                 started_at  \n",
       "review_id                                    \n",
       "6b4db26aafeaf0da77c7de6214331e1e             \n",
       "99b27059f711c37de8f90ee8e4dc0d1b             \n",
       "cb944d94854df5afd22210bb0aa0c903             "
      ]
     },
     "execution_count": 47,
     "metadata": {},
     "output_type": "execute_result"
    }
   ],
   "source": [
    "interactions.head(3)"
   ]
  },
  {
   "cell_type": "code",
   "execution_count": 48,
   "id": "f2e8388e",
   "metadata": {
    "execution": {
     "iopub.execute_input": "2025-03-01T07:14:33.748681Z",
     "iopub.status.busy": "2025-03-01T07:14:33.748259Z",
     "iopub.status.idle": "2025-03-01T07:14:40.184696Z",
     "shell.execute_reply": "2025-03-01T07:14:40.183604Z"
    },
    "papermill": {
     "duration": 6.458338,
     "end_time": "2025-03-01T07:14:40.187102",
     "exception": false,
     "start_time": "2025-03-01T07:14:33.728764",
     "status": "completed"
    },
    "tags": []
   },
   "outputs": [],
   "source": [
    "interactions_rated = interactions[interactions_rated_or_read_filt]\n",
    "interactions_rated = interactions_rated[interactions_rated.book_id.isin(books_eng.book_id)]"
   ]
  },
  {
   "cell_type": "code",
   "execution_count": 49,
   "id": "dd42bda3",
   "metadata": {
    "execution": {
     "iopub.execute_input": "2025-03-01T07:14:40.224981Z",
     "iopub.status.busy": "2025-03-01T07:14:40.224580Z",
     "iopub.status.idle": "2025-03-01T07:14:40.415010Z",
     "shell.execute_reply": "2025-03-01T07:14:40.413797Z"
    },
    "papermill": {
     "duration": 0.212243,
     "end_time": "2025-03-01T07:14:40.417435",
     "exception": false,
     "start_time": "2025-03-01T07:14:40.205192",
     "status": "completed"
    },
    "tags": []
   },
   "outputs": [],
   "source": [
    "book_rating_count = interactions_rated.book_id.value_counts()\n",
    "book_rating_count.name = \"true_ratings_count\"\n",
    "books_eng_1 = pd.concat([books_eng.set_index('book_id'), book_rating_count], axis=1)\n",
    "books_eng_1.true_ratings_count = books_eng_1.true_ratings_count.fillna(0).astype(int)\n",
    "books_eng_1 = books_eng_1[books_eng_1.true_ratings_count > 0]"
   ]
  },
  {
   "cell_type": "code",
   "execution_count": 50,
   "id": "b5101663",
   "metadata": {
    "execution": {
     "iopub.execute_input": "2025-03-01T07:14:40.456649Z",
     "iopub.status.busy": "2025-03-01T07:14:40.456217Z",
     "iopub.status.idle": "2025-03-01T07:14:46.614808Z",
     "shell.execute_reply": "2025-03-01T07:14:46.613293Z"
    },
    "papermill": {
     "duration": 6.181232,
     "end_time": "2025-03-01T07:14:46.617407",
     "exception": false,
     "start_time": "2025-03-01T07:14:40.436175",
     "status": "completed"
    },
    "tags": []
   },
   "outputs": [],
   "source": [
    "interactions_rated_1 = interactions_rated[interactions_rated.book_id.isin(books_eng_1.index)]"
   ]
  },
  {
   "cell_type": "code",
   "execution_count": 51,
   "id": "f4227078",
   "metadata": {
    "execution": {
     "iopub.execute_input": "2025-03-01T07:14:46.655280Z",
     "iopub.status.busy": "2025-03-01T07:14:46.654849Z",
     "iopub.status.idle": "2025-03-01T07:15:20.299941Z",
     "shell.execute_reply": "2025-03-01T07:15:20.298719Z"
    },
    "papermill": {
     "duration": 33.668468,
     "end_time": "2025-03-01T07:15:20.304004",
     "exception": false,
     "start_time": "2025-03-01T07:14:46.635536",
     "status": "completed"
    },
    "tags": []
   },
   "outputs": [],
   "source": [
    "def transform_rating_and_read_to_implicit(x):\n",
    "    is_read = x['is_read']\n",
    "    rating = x['rating']\n",
    "    if rating != 0:\n",
    "        return rating >= 4\n",
    "    else:\n",
    "        return is_read\n",
    "    \n",
    "implicit = interactions_rated_1[['is_read', 'rating']].apply(transform_rating_and_read_to_implicit, axis=1)\n",
    "interactions_rated_2 = interactions_rated_1.copy()\n",
    "interactions_rated_2['implicit_rating'] = implicit"
   ]
  },
  {
   "cell_type": "code",
   "execution_count": 52,
   "id": "35bdbf70",
   "metadata": {
    "execution": {
     "iopub.execute_input": "2025-03-01T07:15:20.411701Z",
     "iopub.status.busy": "2025-03-01T07:15:20.411316Z",
     "iopub.status.idle": "2025-03-01T07:15:21.200006Z",
     "shell.execute_reply": "2025-03-01T07:15:21.198494Z"
    },
    "papermill": {
     "duration": 0.8778,
     "end_time": "2025-03-01T07:15:21.203092",
     "exception": false,
     "start_time": "2025-03-01T07:15:20.325292",
     "status": "completed"
    },
    "tags": []
   },
   "outputs": [
    {
     "data": {
      "text/plain": [
       "count    224512.000000\n",
       "mean         16.721320\n",
       "std          61.861842\n",
       "min           1.000000\n",
       "25%           1.000000\n",
       "50%           3.000000\n",
       "75%          11.000000\n",
       "max        3811.000000\n",
       "Name: count, dtype: float64"
      ]
     },
     "execution_count": 52,
     "metadata": {},
     "output_type": "execute_result"
    }
   ],
   "source": [
    "interactions_rated_1.user_id.value_counts().describe()"
   ]
  },
  {
   "cell_type": "markdown",
   "id": "e24ef6b0",
   "metadata": {
    "papermill": {
     "duration": 0.019516,
     "end_time": "2025-03-01T07:15:21.241574",
     "exception": false,
     "start_time": "2025-03-01T07:15:21.222058",
     "status": "completed"
    },
    "tags": []
   },
   "source": [
    "# Book series"
   ]
  },
  {
   "cell_type": "code",
   "execution_count": 53,
   "id": "cb55d2fb",
   "metadata": {
    "execution": {
     "iopub.execute_input": "2025-03-01T07:15:21.293664Z",
     "iopub.status.busy": "2025-03-01T07:15:21.293193Z",
     "iopub.status.idle": "2025-03-01T07:15:21.301028Z",
     "shell.execute_reply": "2025-03-01T07:15:21.299856Z"
    },
    "papermill": {
     "duration": 0.035169,
     "end_time": "2025-03-01T07:15:21.304134",
     "exception": false,
     "start_time": "2025-03-01T07:15:21.268965",
     "status": "completed"
    },
    "tags": []
   },
   "outputs": [
    {
     "data": {
      "text/plain": [
       "Index(['numbered', 'note', 'description', 'title', 'series_works_count',\n",
       "       'series_id', 'primary_work_count'],\n",
       "      dtype='object')"
      ]
     },
     "execution_count": 53,
     "metadata": {},
     "output_type": "execute_result"
    }
   ],
   "source": [
    "book_series.columns"
   ]
  },
  {
   "cell_type": "code",
   "execution_count": 54,
   "id": "f9edee83",
   "metadata": {
    "execution": {
     "iopub.execute_input": "2025-03-01T07:15:21.353208Z",
     "iopub.status.busy": "2025-03-01T07:15:21.352714Z",
     "iopub.status.idle": "2025-03-01T07:15:21.467087Z",
     "shell.execute_reply": "2025-03-01T07:15:21.465893Z"
    },
    "papermill": {
     "duration": 0.137398,
     "end_time": "2025-03-01T07:15:21.469333",
     "exception": false,
     "start_time": "2025-03-01T07:15:21.331935",
     "status": "completed"
    },
    "tags": []
   },
   "outputs": [
    {
     "data": {
      "text/plain": [
       "numbered\n",
       "true     356008\n",
       "false     44382\n",
       "Name: count, dtype: int64"
      ]
     },
     "execution_count": 54,
     "metadata": {},
     "output_type": "execute_result"
    }
   ],
   "source": [
    "book_series.numbered.value_counts()"
   ]
  },
  {
   "cell_type": "code",
   "execution_count": 55,
   "id": "8d9ed8bd",
   "metadata": {
    "execution": {
     "iopub.execute_input": "2025-03-01T07:15:21.510301Z",
     "iopub.status.busy": "2025-03-01T07:15:21.509750Z",
     "iopub.status.idle": "2025-03-01T07:15:21.802586Z",
     "shell.execute_reply": "2025-03-01T07:15:21.801489Z"
    },
    "papermill": {
     "duration": 0.316854,
     "end_time": "2025-03-01T07:15:21.805459",
     "exception": false,
     "start_time": "2025-03-01T07:15:21.488605",
     "status": "completed"
    },
    "tags": []
   },
   "outputs": [
    {
     "data": {
      "text/html": [
       "<div>\n",
       "<style scoped>\n",
       "    .dataframe tbody tr th:only-of-type {\n",
       "        vertical-align: middle;\n",
       "    }\n",
       "\n",
       "    .dataframe tbody tr th {\n",
       "        vertical-align: top;\n",
       "    }\n",
       "\n",
       "    .dataframe thead th {\n",
       "        text-align: right;\n",
       "    }\n",
       "</style>\n",
       "<table border=\"1\" class=\"dataframe\">\n",
       "  <thead>\n",
       "    <tr style=\"text-align: right;\">\n",
       "      <th></th>\n",
       "      <th>numbered</th>\n",
       "      <th>note</th>\n",
       "      <th>description</th>\n",
       "      <th>title</th>\n",
       "      <th>series_works_count</th>\n",
       "      <th>series_id</th>\n",
       "      <th>primary_work_count</th>\n",
       "    </tr>\n",
       "  </thead>\n",
       "  <tbody>\n",
       "    <tr>\n",
       "      <th>1672</th>\n",
       "      <td>true</td>\n",
       "      <td></td>\n",
       "      <td></td>\n",
       "      <td>Berserker</td>\n",
       "      <td>23</td>\n",
       "      <td>161254</td>\n",
       "      <td>14</td>\n",
       "    </tr>\n",
       "    <tr>\n",
       "      <th>1857</th>\n",
       "      <td>true</td>\n",
       "      <td></td>\n",
       "      <td>Berserk (beruseruku Beruseruku?) is a manga se...</td>\n",
       "      <td>Berserk</td>\n",
       "      <td>39</td>\n",
       "      <td>434393</td>\n",
       "      <td>39</td>\n",
       "    </tr>\n",
       "    <tr>\n",
       "      <th>14749</th>\n",
       "      <td>true</td>\n",
       "      <td></td>\n",
       "      <td></td>\n",
       "      <td>Berserker</td>\n",
       "      <td>1</td>\n",
       "      <td>1050938</td>\n",
       "      <td>1</td>\n",
       "    </tr>\n",
       "    <tr>\n",
       "      <th>24309</th>\n",
       "      <td>true</td>\n",
       "      <td></td>\n",
       "      <td>Berserk (beruseruku Beruseruku?) is a manga se...</td>\n",
       "      <td>Berserk</td>\n",
       "      <td>39</td>\n",
       "      <td>377033</td>\n",
       "      <td>39</td>\n",
       "    </tr>\n",
       "    <tr>\n",
       "      <th>24310</th>\n",
       "      <td>true</td>\n",
       "      <td></td>\n",
       "      <td>Berserk (beruseruku Beruseruku?) is a manga se...</td>\n",
       "      <td>Berserk</td>\n",
       "      <td>39</td>\n",
       "      <td>377042</td>\n",
       "      <td>39</td>\n",
       "    </tr>\n",
       "    <tr>\n",
       "      <th>...</th>\n",
       "      <td>...</td>\n",
       "      <td>...</td>\n",
       "      <td>...</td>\n",
       "      <td>...</td>\n",
       "      <td>...</td>\n",
       "      <td>...</td>\n",
       "      <td>...</td>\n",
       "    </tr>\n",
       "    <tr>\n",
       "      <th>373392</th>\n",
       "      <td>true</td>\n",
       "      <td></td>\n",
       "      <td>Berserk (beruseruku Beruseruku?) is a manga se...</td>\n",
       "      <td>Berserk</td>\n",
       "      <td>39</td>\n",
       "      <td>377049</td>\n",
       "      <td>39</td>\n",
       "    </tr>\n",
       "    <tr>\n",
       "      <th>381832</th>\n",
       "      <td>true</td>\n",
       "      <td></td>\n",
       "      <td>Berserk (beruseruku Beruseruku?) is a manga se...</td>\n",
       "      <td>Berserk</td>\n",
       "      <td>39</td>\n",
       "      <td>569517</td>\n",
       "      <td>39</td>\n",
       "    </tr>\n",
       "    <tr>\n",
       "      <th>385200</th>\n",
       "      <td>true</td>\n",
       "      <td></td>\n",
       "      <td></td>\n",
       "      <td>Berserker</td>\n",
       "      <td>23</td>\n",
       "      <td>186256</td>\n",
       "      <td>14</td>\n",
       "    </tr>\n",
       "    <tr>\n",
       "      <th>391103</th>\n",
       "      <td>true</td>\n",
       "      <td></td>\n",
       "      <td>Two-in-one german edition of Berserk.</td>\n",
       "      <td>Berserk Max</td>\n",
       "      <td>18</td>\n",
       "      <td>498663</td>\n",
       "      <td>18</td>\n",
       "    </tr>\n",
       "    <tr>\n",
       "      <th>398679</th>\n",
       "      <td>true</td>\n",
       "      <td></td>\n",
       "      <td></td>\n",
       "      <td>Berserker's Mates</td>\n",
       "      <td>4</td>\n",
       "      <td>395427</td>\n",
       "      <td>4</td>\n",
       "    </tr>\n",
       "  </tbody>\n",
       "</table>\n",
       "<p>82 rows × 7 columns</p>\n",
       "</div>"
      ],
      "text/plain": [
       "       numbered note                                        description  \\\n",
       "1672       true                                                           \n",
       "1857       true       Berserk (beruseruku Beruseruku?) is a manga se...   \n",
       "14749      true                                                           \n",
       "24309      true       Berserk (beruseruku Beruseruku?) is a manga se...   \n",
       "24310      true       Berserk (beruseruku Beruseruku?) is a manga se...   \n",
       "...         ...  ...                                                ...   \n",
       "373392     true       Berserk (beruseruku Beruseruku?) is a manga se...   \n",
       "381832     true       Berserk (beruseruku Beruseruku?) is a manga se...   \n",
       "385200     true                                                           \n",
       "391103     true                   Two-in-one german edition of Berserk.   \n",
       "398679     true                                                           \n",
       "\n",
       "                    title  series_works_count  series_id  primary_work_count  \n",
       "1672            Berserker                  23     161254                  14  \n",
       "1857              Berserk                  39     434393                  39  \n",
       "14749           Berserker                   1    1050938                   1  \n",
       "24309             Berserk                  39     377033                  39  \n",
       "24310             Berserk                  39     377042                  39  \n",
       "...                   ...                 ...        ...                 ...  \n",
       "373392            Berserk                  39     377049                  39  \n",
       "381832            Berserk                  39     569517                  39  \n",
       "385200          Berserker                  23     186256                  14  \n",
       "391103        Berserk Max                  18     498663                  18  \n",
       "398679  Berserker's Mates                   4     395427                   4  \n",
       "\n",
       "[82 rows x 7 columns]"
      ]
     },
     "execution_count": 55,
     "metadata": {},
     "output_type": "execute_result"
    }
   ],
   "source": [
    "book_series[book_series.title.str.contains('Berserk')]"
   ]
  },
  {
   "cell_type": "code",
   "execution_count": 56,
   "id": "a1a7199a",
   "metadata": {
    "execution": {
     "iopub.execute_input": "2025-03-01T07:15:21.853045Z",
     "iopub.status.busy": "2025-03-01T07:15:21.852654Z",
     "iopub.status.idle": "2025-03-01T07:15:21.865103Z",
     "shell.execute_reply": "2025-03-01T07:15:21.864050Z"
    },
    "papermill": {
     "duration": 0.035466,
     "end_time": "2025-03-01T07:15:21.867410",
     "exception": false,
     "start_time": "2025-03-01T07:15:21.831944",
     "status": "completed"
    },
    "tags": []
   },
   "outputs": [
    {
     "data": {
      "text/html": [
       "<div>\n",
       "<style scoped>\n",
       "    .dataframe tbody tr th:only-of-type {\n",
       "        vertical-align: middle;\n",
       "    }\n",
       "\n",
       "    .dataframe tbody tr th {\n",
       "        vertical-align: top;\n",
       "    }\n",
       "\n",
       "    .dataframe thead th {\n",
       "        text-align: right;\n",
       "    }\n",
       "</style>\n",
       "<table border=\"1\" class=\"dataframe\">\n",
       "  <thead>\n",
       "    <tr style=\"text-align: right;\">\n",
       "      <th></th>\n",
       "      <th>numbered</th>\n",
       "      <th>note</th>\n",
       "      <th>description</th>\n",
       "      <th>title</th>\n",
       "      <th>series_works_count</th>\n",
       "      <th>series_id</th>\n",
       "      <th>primary_work_count</th>\n",
       "    </tr>\n",
       "  </thead>\n",
       "  <tbody>\n",
       "    <tr>\n",
       "      <th>0</th>\n",
       "      <td>true</td>\n",
       "      <td></td>\n",
       "      <td></td>\n",
       "      <td>Sun Wolf and Starhawk</td>\n",
       "      <td>9</td>\n",
       "      <td>189911</td>\n",
       "      <td>3</td>\n",
       "    </tr>\n",
       "    <tr>\n",
       "      <th>1</th>\n",
       "      <td>true</td>\n",
       "      <td></td>\n",
       "      <td>This series is also known as * Avalon : Jalina...</td>\n",
       "      <td>Avalon: Web of Magic</td>\n",
       "      <td>14</td>\n",
       "      <td>151854</td>\n",
       "      <td>12</td>\n",
       "    </tr>\n",
       "    <tr>\n",
       "      <th>2</th>\n",
       "      <td>true</td>\n",
       "      <td></td>\n",
       "      <td>Plot-wise, \"Crowner's Crusade\" is a prequel to...</td>\n",
       "      <td>Crowner John Mystery</td>\n",
       "      <td>15</td>\n",
       "      <td>169353</td>\n",
       "      <td>15</td>\n",
       "    </tr>\n",
       "    <tr>\n",
       "      <th>3</th>\n",
       "      <td>true</td>\n",
       "      <td></td>\n",
       "      <td></td>\n",
       "      <td>Pluto's Snitch</td>\n",
       "      <td>3</td>\n",
       "      <td>1052227</td>\n",
       "      <td>3</td>\n",
       "    </tr>\n",
       "    <tr>\n",
       "      <th>4</th>\n",
       "      <td>false</td>\n",
       "      <td></td>\n",
       "      <td></td>\n",
       "      <td>The Way, With The Enchanted Neighborhood</td>\n",
       "      <td>3</td>\n",
       "      <td>1070125</td>\n",
       "      <td>3</td>\n",
       "    </tr>\n",
       "  </tbody>\n",
       "</table>\n",
       "</div>"
      ],
      "text/plain": [
       "  numbered note                                        description  \\\n",
       "0     true                                                           \n",
       "1     true       This series is also known as * Avalon : Jalina...   \n",
       "2     true       Plot-wise, \"Crowner's Crusade\" is a prequel to...   \n",
       "3     true                                                           \n",
       "4    false                                                           \n",
       "\n",
       "                                      title  series_works_count  series_id  \\\n",
       "0                     Sun Wolf and Starhawk                   9     189911   \n",
       "1                      Avalon: Web of Magic                  14     151854   \n",
       "2                      Crowner John Mystery                  15     169353   \n",
       "3                            Pluto's Snitch                   3    1052227   \n",
       "4  The Way, With The Enchanted Neighborhood                   3    1070125   \n",
       "\n",
       "   primary_work_count  \n",
       "0                   3  \n",
       "1                  12  \n",
       "2                  15  \n",
       "3                   3  \n",
       "4                   3  "
      ]
     },
     "execution_count": 56,
     "metadata": {},
     "output_type": "execute_result"
    }
   ],
   "source": [
    "book_series.head(5)"
   ]
  },
  {
   "cell_type": "markdown",
   "id": "0225a669",
   "metadata": {
    "papermill": {
     "duration": 0.020149,
     "end_time": "2025-03-01T07:15:21.908551",
     "exception": false,
     "start_time": "2025-03-01T07:15:21.888402",
     "status": "completed"
    },
    "tags": []
   },
   "source": [
    "# Book works"
   ]
  },
  {
   "cell_type": "code",
   "execution_count": 57,
   "id": "89509cb8",
   "metadata": {
    "execution": {
     "iopub.execute_input": "2025-03-01T07:15:21.950791Z",
     "iopub.status.busy": "2025-03-01T07:15:21.950289Z",
     "iopub.status.idle": "2025-03-01T07:15:21.958294Z",
     "shell.execute_reply": "2025-03-01T07:15:21.957233Z"
    },
    "papermill": {
     "duration": 0.032505,
     "end_time": "2025-03-01T07:15:21.961020",
     "exception": false,
     "start_time": "2025-03-01T07:15:21.928515",
     "status": "completed"
    },
    "tags": []
   },
   "outputs": [
    {
     "data": {
      "text/plain": [
       "Index(['books_count', 'reviews_count', 'original_publication_month',\n",
       "       'default_description_language_code', 'text_reviews_count',\n",
       "       'best_book_id', 'original_publication_year', 'original_title',\n",
       "       'rating_dist', 'default_chaptering_book_id', 'original_publication_day',\n",
       "       'original_language_id', 'ratings_count', 'media_type', 'ratings_sum',\n",
       "       'work_id'],\n",
       "      dtype='object')"
      ]
     },
     "execution_count": 57,
     "metadata": {},
     "output_type": "execute_result"
    }
   ],
   "source": [
    "book_works.columns"
   ]
  },
  {
   "cell_type": "code",
   "execution_count": 58,
   "id": "c9822768",
   "metadata": {
    "execution": {
     "iopub.execute_input": "2025-03-01T07:15:22.012726Z",
     "iopub.status.busy": "2025-03-01T07:15:22.011942Z",
     "iopub.status.idle": "2025-03-01T07:15:22.033948Z",
     "shell.execute_reply": "2025-03-01T07:15:22.033003Z"
    },
    "papermill": {
     "duration": 0.045955,
     "end_time": "2025-03-01T07:15:22.036212",
     "exception": false,
     "start_time": "2025-03-01T07:15:21.990257",
     "status": "completed"
    },
    "tags": []
   },
   "outputs": [
    {
     "data": {
      "text/html": [
       "<div>\n",
       "<style scoped>\n",
       "    .dataframe tbody tr th:only-of-type {\n",
       "        vertical-align: middle;\n",
       "    }\n",
       "\n",
       "    .dataframe tbody tr th {\n",
       "        vertical-align: top;\n",
       "    }\n",
       "\n",
       "    .dataframe thead th {\n",
       "        text-align: right;\n",
       "    }\n",
       "</style>\n",
       "<table border=\"1\" class=\"dataframe\">\n",
       "  <thead>\n",
       "    <tr style=\"text-align: right;\">\n",
       "      <th></th>\n",
       "      <th>books_count</th>\n",
       "      <th>reviews_count</th>\n",
       "      <th>original_publication_month</th>\n",
       "      <th>default_description_language_code</th>\n",
       "      <th>text_reviews_count</th>\n",
       "      <th>best_book_id</th>\n",
       "      <th>original_publication_year</th>\n",
       "      <th>original_title</th>\n",
       "      <th>rating_dist</th>\n",
       "      <th>default_chaptering_book_id</th>\n",
       "      <th>original_publication_day</th>\n",
       "      <th>original_language_id</th>\n",
       "      <th>ratings_count</th>\n",
       "      <th>media_type</th>\n",
       "      <th>ratings_sum</th>\n",
       "      <th>work_id</th>\n",
       "    </tr>\n",
       "  </thead>\n",
       "  <tbody>\n",
       "    <tr>\n",
       "      <th>0</th>\n",
       "      <td>1</td>\n",
       "      <td>6</td>\n",
       "      <td>8</td>\n",
       "      <td></td>\n",
       "      <td>1</td>\n",
       "      <td>5333265</td>\n",
       "      <td>1984</td>\n",
       "      <td>W. C. Fields: A Life on Film</td>\n",
       "      <td>5:1|4:1|3:1|2:0|1:0|total:3</td>\n",
       "      <td></td>\n",
       "      <td></td>\n",
       "      <td></td>\n",
       "      <td>3</td>\n",
       "      <td>book</td>\n",
       "      <td>12</td>\n",
       "      <td>5400751</td>\n",
       "    </tr>\n",
       "    <tr>\n",
       "      <th>1</th>\n",
       "      <td>22</td>\n",
       "      <td>10162</td>\n",
       "      <td></td>\n",
       "      <td></td>\n",
       "      <td>741</td>\n",
       "      <td>25717</td>\n",
       "      <td>2001</td>\n",
       "      <td>Good Harbor</td>\n",
       "      <td>5:517|4:1787|3:2763|2:966|1:196|total:6229</td>\n",
       "      <td></td>\n",
       "      <td></td>\n",
       "      <td></td>\n",
       "      <td>6229</td>\n",
       "      <td>book</td>\n",
       "      <td>20150</td>\n",
       "      <td>1323437</td>\n",
       "    </tr>\n",
       "    <tr>\n",
       "      <th>2</th>\n",
       "      <td>2</td>\n",
       "      <td>268</td>\n",
       "      <td></td>\n",
       "      <td></td>\n",
       "      <td>7</td>\n",
       "      <td>7327624</td>\n",
       "      <td>1987</td>\n",
       "      <td></td>\n",
       "      <td>5:49|4:58|3:26|2:5|1:3|total:141</td>\n",
       "      <td></td>\n",
       "      <td></td>\n",
       "      <td></td>\n",
       "      <td>141</td>\n",
       "      <td>book</td>\n",
       "      <td>568</td>\n",
       "      <td>8948723</td>\n",
       "    </tr>\n",
       "  </tbody>\n",
       "</table>\n",
       "</div>"
      ],
      "text/plain": [
       "   books_count  reviews_count original_publication_month  \\\n",
       "0            1              6                          8   \n",
       "1           22          10162                              \n",
       "2            2            268                              \n",
       "\n",
       "  default_description_language_code  text_reviews_count  best_book_id  \\\n",
       "0                                                     1       5333265   \n",
       "1                                                   741         25717   \n",
       "2                                                     7       7327624   \n",
       "\n",
       "  original_publication_year                original_title  \\\n",
       "0                      1984  W. C. Fields: A Life on Film   \n",
       "1                      2001                   Good Harbor   \n",
       "2                      1987                                 \n",
       "\n",
       "                                  rating_dist default_chaptering_book_id  \\\n",
       "0                 5:1|4:1|3:1|2:0|1:0|total:3                              \n",
       "1  5:517|4:1787|3:2763|2:966|1:196|total:6229                              \n",
       "2            5:49|4:58|3:26|2:5|1:3|total:141                              \n",
       "\n",
       "  original_publication_day original_language_id  ratings_count media_type  \\\n",
       "0                                                            3       book   \n",
       "1                                                         6229       book   \n",
       "2                                                          141       book   \n",
       "\n",
       "   ratings_sum  work_id  \n",
       "0           12  5400751  \n",
       "1        20150  1323437  \n",
       "2          568  8948723  "
      ]
     },
     "execution_count": 58,
     "metadata": {},
     "output_type": "execute_result"
    }
   ],
   "source": [
    "book_works.head(3)"
   ]
  },
  {
   "cell_type": "markdown",
   "id": "f5099064",
   "metadata": {
    "papermill": {
     "duration": 0.019836,
     "end_time": "2025-03-01T07:15:22.076043",
     "exception": false,
     "start_time": "2025-03-01T07:15:22.056207",
     "status": "completed"
    },
    "tags": []
   },
   "source": [
    "# Book authors"
   ]
  },
  {
   "cell_type": "code",
   "execution_count": 59,
   "id": "94ad3569",
   "metadata": {
    "execution": {
     "iopub.execute_input": "2025-03-01T07:15:22.119641Z",
     "iopub.status.busy": "2025-03-01T07:15:22.119211Z",
     "iopub.status.idle": "2025-03-01T07:15:22.129445Z",
     "shell.execute_reply": "2025-03-01T07:15:22.128307Z"
    },
    "papermill": {
     "duration": 0.034733,
     "end_time": "2025-03-01T07:15:22.132550",
     "exception": false,
     "start_time": "2025-03-01T07:15:22.097817",
     "status": "completed"
    },
    "tags": []
   },
   "outputs": [
    {
     "data": {
      "text/plain": [
       "0               [{'author_id': '8551671', 'role': ''}]\n",
       "1               [{'author_id': '3274315', 'role': ''}]\n",
       "2                 [{'author_id': '37450', 'role': ''}]\n",
       "3    [{'author_id': '16209952', 'role': ''}, {'auth...\n",
       "4    [{'author_id': '81563', 'role': ''}, {'author_...\n",
       "Name: authors, dtype: object"
      ]
     },
     "execution_count": 59,
     "metadata": {},
     "output_type": "execute_result"
    }
   ],
   "source": [
    "books.authors.head(5)"
   ]
  },
  {
   "cell_type": "code",
   "execution_count": 60,
   "id": "6c1d73fa",
   "metadata": {
    "execution": {
     "iopub.execute_input": "2025-03-01T07:15:22.182024Z",
     "iopub.status.busy": "2025-03-01T07:15:22.181642Z",
     "iopub.status.idle": "2025-03-01T07:15:22.194654Z",
     "shell.execute_reply": "2025-03-01T07:15:22.193489Z"
    },
    "papermill": {
     "duration": 0.038875,
     "end_time": "2025-03-01T07:15:22.197596",
     "exception": false,
     "start_time": "2025-03-01T07:15:22.158721",
     "status": "completed"
    },
    "tags": []
   },
   "outputs": [
    {
     "data": {
      "text/html": [
       "<div>\n",
       "<style scoped>\n",
       "    .dataframe tbody tr th:only-of-type {\n",
       "        vertical-align: middle;\n",
       "    }\n",
       "\n",
       "    .dataframe tbody tr th {\n",
       "        vertical-align: top;\n",
       "    }\n",
       "\n",
       "    .dataframe thead th {\n",
       "        text-align: right;\n",
       "    }\n",
       "</style>\n",
       "<table border=\"1\" class=\"dataframe\">\n",
       "  <thead>\n",
       "    <tr style=\"text-align: right;\">\n",
       "      <th></th>\n",
       "      <th>average_rating</th>\n",
       "      <th>author_id</th>\n",
       "      <th>text_reviews_count</th>\n",
       "      <th>name</th>\n",
       "      <th>ratings_count</th>\n",
       "    </tr>\n",
       "  </thead>\n",
       "  <tbody>\n",
       "    <tr>\n",
       "      <th>0</th>\n",
       "      <td>3.98</td>\n",
       "      <td>604031</td>\n",
       "      <td>7</td>\n",
       "      <td>Ronald J. Fields</td>\n",
       "      <td>49</td>\n",
       "    </tr>\n",
       "    <tr>\n",
       "      <th>1</th>\n",
       "      <td>4.08</td>\n",
       "      <td>626222</td>\n",
       "      <td>28716</td>\n",
       "      <td>Anita Diamant</td>\n",
       "      <td>546796</td>\n",
       "    </tr>\n",
       "    <tr>\n",
       "      <th>2</th>\n",
       "      <td>3.92</td>\n",
       "      <td>10333</td>\n",
       "      <td>5075</td>\n",
       "      <td>Barbara Hambly</td>\n",
       "      <td>122118</td>\n",
       "    </tr>\n",
       "    <tr>\n",
       "      <th>3</th>\n",
       "      <td>3.68</td>\n",
       "      <td>9212</td>\n",
       "      <td>36262</td>\n",
       "      <td>Jennifer Weiner</td>\n",
       "      <td>888522</td>\n",
       "    </tr>\n",
       "    <tr>\n",
       "      <th>4</th>\n",
       "      <td>3.82</td>\n",
       "      <td>149918</td>\n",
       "      <td>96</td>\n",
       "      <td>Nigel Pennick</td>\n",
       "      <td>1740</td>\n",
       "    </tr>\n",
       "  </tbody>\n",
       "</table>\n",
       "</div>"
      ],
      "text/plain": [
       "   average_rating  author_id  text_reviews_count              name  \\\n",
       "0            3.98     604031                   7  Ronald J. Fields   \n",
       "1            4.08     626222               28716     Anita Diamant   \n",
       "2            3.92      10333                5075    Barbara Hambly   \n",
       "3            3.68       9212               36262   Jennifer Weiner   \n",
       "4            3.82     149918                  96     Nigel Pennick   \n",
       "\n",
       "   ratings_count  \n",
       "0             49  \n",
       "1         546796  \n",
       "2         122118  \n",
       "3         888522  \n",
       "4           1740  "
      ]
     },
     "execution_count": 60,
     "metadata": {},
     "output_type": "execute_result"
    }
   ],
   "source": [
    "authors.head(5)"
   ]
  },
  {
   "cell_type": "markdown",
   "id": "8575efbc",
   "metadata": {
    "papermill": {
     "duration": 0.020844,
     "end_time": "2025-03-01T07:15:22.245518",
     "exception": false,
     "start_time": "2025-03-01T07:15:22.224674",
     "status": "completed"
    },
    "tags": []
   },
   "source": [
    "# Book genres"
   ]
  },
  {
   "cell_type": "markdown",
   "id": "518df6c3",
   "metadata": {
    "papermill": {
     "duration": 0.019997,
     "end_time": "2025-03-01T07:15:22.286503",
     "exception": false,
     "start_time": "2025-03-01T07:15:22.266506",
     "status": "completed"
    },
    "tags": []
   },
   "source": [
    "these genres are too vague"
   ]
  },
  {
   "cell_type": "code",
   "execution_count": 61,
   "id": "c013ba05",
   "metadata": {
    "execution": {
     "iopub.execute_input": "2025-03-01T07:15:22.329060Z",
     "iopub.status.busy": "2025-03-01T07:15:22.328672Z",
     "iopub.status.idle": "2025-03-01T07:15:26.117448Z",
     "shell.execute_reply": "2025-03-01T07:15:26.116334Z"
    },
    "papermill": {
     "duration": 3.812978,
     "end_time": "2025-03-01T07:15:26.119950",
     "exception": false,
     "start_time": "2025-03-01T07:15:22.306972",
     "status": "completed"
    },
    "tags": []
   },
   "outputs": [
    {
     "data": {
      "text/plain": [
       "Counter({'fiction': 396699795,\n",
       "         'fantasy, paranormal': 261701592,\n",
       "         'young-adult': 113748515,\n",
       "         'history, historical fiction, biography': 102232444,\n",
       "         'mystery, thriller, crime': 94226447,\n",
       "         'romance': 83142002,\n",
       "         'children': 57752225,\n",
       "         'non-fiction': 48078235,\n",
       "         'comics, graphic': 19114748,\n",
       "         'poetry': 6897839})"
      ]
     },
     "execution_count": 61,
     "metadata": {},
     "output_type": "execute_result"
    }
   ],
   "source": [
    "c1 = Counter()\n",
    "book_genres.genres.apply(c1.update)\n",
    "c1"
   ]
  }
 ],
 "metadata": {
  "kaggle": {
   "accelerator": "none",
   "dataSources": [
    {
     "sourceId": 202696258,
     "sourceType": "kernelVersion"
    }
   ],
   "dockerImageVersionId": 30786,
   "isGpuEnabled": false,
   "isInternetEnabled": true,
   "language": "python",
   "sourceType": "notebook"
  },
  "kernelspec": {
   "display_name": "Python 3",
   "language": "python",
   "name": "python3"
  },
  "language_info": {
   "codemirror_mode": {
    "name": "ipython",
    "version": 3
   },
   "file_extension": ".py",
   "mimetype": "text/x-python",
   "name": "python",
   "nbconvert_exporter": "python",
   "pygments_lexer": "ipython3",
   "version": "3.10.14"
  },
  "papermill": {
   "default_parameters": {},
   "duration": 403.253876,
   "end_time": "2025-03-01T07:15:30.569531",
   "environment_variables": {},
   "exception": null,
   "input_path": "__notebook__.ipynb",
   "output_path": "__notebook__.ipynb",
   "parameters": {},
   "start_time": "2025-03-01T07:08:47.315655",
   "version": "2.6.0"
  }
 },
 "nbformat": 4,
 "nbformat_minor": 5
}

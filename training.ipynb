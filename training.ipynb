{
 "cells": [
  {
   "cell_type": "code",
   "execution_count": null,
   "metadata": {
    "execution": {
     "iopub.execute_input": "2024-12-10T17:56:47.270772Z",
     "iopub.status.busy": "2024-12-10T17:56:47.270341Z",
     "iopub.status.idle": "2024-12-10T17:56:47.297311Z",
     "shell.execute_reply": "2024-12-10T17:56:47.296113Z",
     "shell.execute_reply.started": "2024-12-10T17:56:47.270729Z"
    },
    "trusted": true
   },
   "outputs": [],
   "source": [
    "import pandas as pd\n",
    "import numpy as np\n",
    "from sklearn.model_selection import train_test_split\n",
    "from scipy.sparse import load_npz, coo_matrix, csr_matrix, identity \n",
    "from lightfm import LightFM\n",
    "import joblib\n",
    "from custom_precision_at_k import custom_precision_at_k\n",
    "from pathlib import Path"
   ]
  },
  {
   "cell_type": "code",
   "execution_count": 2,
   "metadata": {},
   "outputs": [],
   "source": [
    "folder_path = Path(\"training_data\")"
   ]
  },
  {
   "cell_type": "code",
   "execution_count": 3,
   "metadata": {
    "execution": {
     "iopub.execute_input": "2024-12-10T17:46:56.313781Z",
     "iopub.status.busy": "2024-12-10T17:46:56.313318Z",
     "iopub.status.idle": "2024-12-10T17:46:56.949154Z",
     "shell.execute_reply": "2024-12-10T17:46:56.948211Z",
     "shell.execute_reply.started": "2024-12-10T17:46:56.313741Z"
    },
    "trusted": true
   },
   "outputs": [],
   "source": [
    "y = load_npz(folder_path / 'y.npz')\n",
    "item_features = load_npz(folder_path / 'item_features.npz')\n",
    "user_features = load_npz(folder_path / 'user_features.npz')"
   ]
  },
  {
   "cell_type": "code",
   "execution_count": 4,
   "metadata": {
    "execution": {
     "iopub.execute_input": "2024-12-10T17:47:09.450537Z",
     "iopub.status.busy": "2024-12-10T17:47:09.449787Z",
     "iopub.status.idle": "2024-12-10T17:47:09.895112Z",
     "shell.execute_reply": "2024-12-10T17:47:09.894106Z",
     "shell.execute_reply.started": "2024-12-10T17:47:09.450496Z"
    },
    "trusted": true
   },
   "outputs": [],
   "source": [
    "r, c = (y).nonzero()\n",
    "r_train, r_val, c_train, c_val = train_test_split(r, c, test_size=10_000, random_state=42)\n",
    "\n",
    "y_train = coo_matrix((np.ones(len(r_train)), (r_train, c_train)), shape=y.shape, dtype=int)\n",
    "y_val = coo_matrix((np.ones(len(r_val)), (r_val, c_val)), shape=y.shape, dtype=int)"
   ]
  },
  {
   "cell_type": "code",
   "execution_count": 5,
   "metadata": {
    "execution": {
     "iopub.execute_input": "2024-12-10T17:56:47.299321Z",
     "iopub.status.busy": "2024-12-10T17:56:47.298849Z",
     "iopub.status.idle": "2024-12-10T18:02:12.931002Z",
     "shell.execute_reply": "2024-12-10T18:02:12.929660Z",
     "shell.execute_reply.started": "2024-12-10T17:56:47.299273Z"
    },
    "trusted": true
   },
   "outputs": [],
   "source": [
    "model = joblib.load(folder_path / 'model_adagrad_200.pkl')\n",
    "#model = LightFM(no_components=200, learning_rate=0.005, loss='warp', random_state=42, learning_schedule='adagrad')\n",
    "for j in range(0):\n",
    "    # model.item_bias_gradients = np.clip(model.item_bias_gradients, None, 100)\n",
    "    # model.item_embedding_gradients = np.clip(model.item_embedding_gradients, None, 100)\n",
    "    # model.user_bias_gradients = np.clip(model.user_bias_gradients, None, 100)\n",
    "    # model.user_embedding_gradients = np.clip(model.user_embedding_gradients, None, 100)\n",
    "    model.fit_partial(y_train, item_features=item_features, user_features=user_features, epochs=30, num_threads=10, verbose=True)\n",
    "    joblib.dump(model, folder_path / 'model_adagrad_200.pkl')\n",
    "\n",
    "    i = 1000\n",
    "    np.random.seed(42)\n",
    "    perm = np.random.permutation(y_train.shape[0])[:i]\n",
    "    user_features_perm = csr_matrix(user_features)[perm]\n",
    "    y_train_perm = csr_matrix(y_train)[perm]\n",
    "    \n",
    "    train_precision = custom_precision_at_k(model, y_train_perm, user_features=user_features_perm, item_features=item_features, num_threads=10)\n",
    "    print(f'Train precision : {train_precision.mean() * 100}%')"
   ]
  },
  {
   "cell_type": "code",
   "execution_count": 6,
   "metadata": {},
   "outputs": [
    {
     "name": "stdout",
     "output_type": "stream",
     "text": [
      "Train precision : 39.23657361914813%\n"
     ]
    }
   ],
   "source": [
    "i = 10000\n",
    "np.random.seed(42)\n",
    "perm = np.random.permutation(y_train.shape[0])[:i]\n",
    "user_features_perm = csr_matrix(user_features)[perm]\n",
    "y_train_perm = csr_matrix(y_train)[perm]\n",
    "\n",
    "train_precision = custom_precision_at_k(model, y_train_perm, user_features=user_features_perm, item_features=item_features, num_threads=10)\n",
    "print(f'Train precision : {train_precision.mean() * 100}%')"
   ]
  },
  {
   "cell_type": "code",
   "execution_count": 7,
   "metadata": {},
   "outputs": [
    {
     "name": "stdout",
     "output_type": "stream",
     "text": [
      "Val precision : 11.173612192444699%\n"
     ]
    }
   ],
   "source": [
    "val_precision = custom_precision_at_k(model, y_val, y_train, user_features=user_features, item_features=item_features, num_threads=10)\n",
    "print(f'Val precision : {val_precision.mean() * 100}%')"
   ]
  },
  {
   "cell_type": "code",
   "execution_count": null,
   "metadata": {},
   "outputs": [],
   "source": []
  }
 ],
 "metadata": {
  "kaggle": {
   "accelerator": "tpu1vmV38",
   "dataSources": [
    {
     "sourceId": 212349243,
     "sourceType": "kernelVersion"
    }
   ],
   "dockerImageVersionId": 30804,
   "isGpuEnabled": false,
   "isInternetEnabled": true,
   "language": "python",
   "sourceType": "notebook"
  },
  "kernelspec": {
   "display_name": ".venv",
   "language": "python",
   "name": "python3"
  },
  "language_info": {
   "codemirror_mode": {
    "name": "ipython",
    "version": 3
   },
   "file_extension": ".py",
   "mimetype": "text/x-python",
   "name": "python",
   "nbconvert_exporter": "python",
   "pygments_lexer": "ipython3",
   "version": "3.10.17"
  }
 },
 "nbformat": 4,
 "nbformat_minor": 4
}
